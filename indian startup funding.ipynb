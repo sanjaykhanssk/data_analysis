{
 "cells": [
  {
   "cell_type": "markdown",
   "metadata": {},
   "source": [
    "https://www.kaggle.com/sudalairajkumar/indian-startup-funding/downloads/indian-startup-funding.zip/3"
   ]
  },
  {
   "cell_type": "markdown",
   "metadata": {
    "jupyter": {
     "source_hidden": true
    }
   },
   "source": [
    "\n",
    "\n",
    "Possible questions which could be answered are:\n",
    "\n",
    "    How does the funding ecosystem change with time?\n",
    "    Do cities play a major role in funding?\n",
    "    Which industries are favored by investors for funding?\n",
    "    Who are the important investors in the Indian Ecosystem?\n",
    "    How much funds does startups generally get in India?\n"
   ]
  },
  {
   "cell_type": "code",
   "execution_count": 1,
   "metadata": {},
   "outputs": [],
   "source": [
    "import pandas as pd\n",
    "import numpy as np\n",
    "import matplotlib.pyplot as plt\n",
    "import seaborn as sns"
   ]
  },
  {
   "cell_type": "code",
   "execution_count": 2,
   "metadata": {},
   "outputs": [],
   "source": [
    "df = pd.read_csv(\"startup_funding.csv\" , parse_dates=[\"Date ddmmyyyy\"])"
   ]
  },
  {
   "cell_type": "code",
   "execution_count": 3,
   "metadata": {},
   "outputs": [
    {
     "data": {
      "text/html": [
       "<div>\n",
       "<style scoped>\n",
       "    .dataframe tbody tr th:only-of-type {\n",
       "        vertical-align: middle;\n",
       "    }\n",
       "\n",
       "    .dataframe tbody tr th {\n",
       "        vertical-align: top;\n",
       "    }\n",
       "\n",
       "    .dataframe thead th {\n",
       "        text-align: right;\n",
       "    }\n",
       "</style>\n",
       "<table border=\"1\" class=\"dataframe\">\n",
       "  <thead>\n",
       "    <tr style=\"text-align: right;\">\n",
       "      <th></th>\n",
       "      <th>Sr No</th>\n",
       "      <th>Date ddmmyyyy</th>\n",
       "      <th>Startup Name</th>\n",
       "      <th>Industry Vertical</th>\n",
       "      <th>SubVertical</th>\n",
       "      <th>City  Location</th>\n",
       "      <th>Investorsxe2x80x99 Name</th>\n",
       "      <th>InvestmentnType</th>\n",
       "      <th>Amount in USD</th>\n",
       "      <th>Remarks</th>\n",
       "    </tr>\n",
       "  </thead>\n",
       "  <tbody>\n",
       "    <tr>\n",
       "      <th>0</th>\n",
       "      <td>0</td>\n",
       "      <td>05/09/2019</td>\n",
       "      <td>FPL Technologies</td>\n",
       "      <td>FinTech</td>\n",
       "      <td>Financial Services</td>\n",
       "      <td>Pune</td>\n",
       "      <td>Matrix Partners India, Sequoia India</td>\n",
       "      <td>Maiden Round</td>\n",
       "      <td>4,500,000</td>\n",
       "      <td>NaN</td>\n",
       "    </tr>\n",
       "    <tr>\n",
       "      <th>1</th>\n",
       "      <td>1</td>\n",
       "      <td>04/09/2019</td>\n",
       "      <td>Cashflo</td>\n",
       "      <td>FinTech</td>\n",
       "      <td>Invoice discounting platform and SME lending m...</td>\n",
       "      <td>Mumbai</td>\n",
       "      <td>SAIF Partners</td>\n",
       "      <td>Series A</td>\n",
       "      <td>3,300,000</td>\n",
       "      <td>NaN</td>\n",
       "    </tr>\n",
       "    <tr>\n",
       "      <th>2</th>\n",
       "      <td>2</td>\n",
       "      <td>04/09/2019</td>\n",
       "      <td>Digital F5</td>\n",
       "      <td>Advertising, Marketing</td>\n",
       "      <td>Digital marketing firm</td>\n",
       "      <td>Mumbai</td>\n",
       "      <td>TIW Private Equity</td>\n",
       "      <td>Private Equity Round</td>\n",
       "      <td>6,000,000</td>\n",
       "      <td>NaN</td>\n",
       "    </tr>\n",
       "    <tr>\n",
       "      <th>3</th>\n",
       "      <td>3</td>\n",
       "      <td>04/09/2019</td>\n",
       "      <td>3rdFlix</td>\n",
       "      <td>SaaS</td>\n",
       "      <td>Education Technology</td>\n",
       "      <td>Hyderabad</td>\n",
       "      <td>Exfinity Venture Partners</td>\n",
       "      <td>pre-series A</td>\n",
       "      <td>5,000,000</td>\n",
       "      <td>NaN</td>\n",
       "    </tr>\n",
       "    <tr>\n",
       "      <th>4</th>\n",
       "      <td>4</td>\n",
       "      <td>04/09/2019</td>\n",
       "      <td>75F</td>\n",
       "      <td>IoT</td>\n",
       "      <td>Building automation system</td>\n",
       "      <td>Burnsville</td>\n",
       "      <td>Breakthrough Energy Ventures</td>\n",
       "      <td>Series A</td>\n",
       "      <td>18,000,000</td>\n",
       "      <td>NaN</td>\n",
       "    </tr>\n",
       "  </tbody>\n",
       "</table>\n",
       "</div>"
      ],
      "text/plain": [
       "   Sr No Date ddmmyyyy      Startup Name       Industry Vertical  \\\n",
       "0      0    05/09/2019  FPL Technologies                 FinTech   \n",
       "1      1    04/09/2019           Cashflo                 FinTech   \n",
       "2      2    04/09/2019        Digital F5  Advertising, Marketing   \n",
       "3      3    04/09/2019           3rdFlix                    SaaS   \n",
       "4      4    04/09/2019               75F                     IoT   \n",
       "\n",
       "                                         SubVertical City  Location  \\\n",
       "0                                 Financial Services           Pune   \n",
       "1  Invoice discounting platform and SME lending m...         Mumbai   \n",
       "2                             Digital marketing firm         Mumbai   \n",
       "3                               Education Technology      Hyderabad   \n",
       "4                         Building automation system     Burnsville   \n",
       "\n",
       "                Investorsxe2x80x99 Name       InvestmentnType Amount in USD  \\\n",
       "0  Matrix Partners India, Sequoia India          Maiden Round     4,500,000   \n",
       "1                         SAIF Partners              Series A     3,300,000   \n",
       "2                    TIW Private Equity  Private Equity Round     6,000,000   \n",
       "3             Exfinity Venture Partners          pre-series A     5,000,000   \n",
       "4          Breakthrough Energy Ventures              Series A    18,000,000   \n",
       "\n",
       "  Remarks  \n",
       "0     NaN  \n",
       "1     NaN  \n",
       "2     NaN  \n",
       "3     NaN  \n",
       "4     NaN  "
      ]
     },
     "execution_count": 3,
     "metadata": {},
     "output_type": "execute_result"
    }
   ],
   "source": [
    "df.head()"
   ]
  },
  {
   "cell_type": "code",
   "execution_count": 4,
   "metadata": {},
   "outputs": [
    {
     "data": {
      "text/plain": [
       "(3009, 10)"
      ]
     },
     "execution_count": 4,
     "metadata": {},
     "output_type": "execute_result"
    }
   ],
   "source": [
    "df.shape"
   ]
  },
  {
   "cell_type": "code",
   "execution_count": 5,
   "metadata": {},
   "outputs": [
    {
     "data": {
      "text/plain": [
       "Sr No                         0\n",
       "Date ddmmyyyy                 0\n",
       "Startup Name                  0\n",
       "Industry Vertical           171\n",
       "SubVertical                 936\n",
       "City  Location              180\n",
       "Investorsxe2x80x99 Name      23\n",
       "InvestmentnType               3\n",
       "Amount in USD               960\n",
       "Remarks                    2590\n",
       "dtype: int64"
      ]
     },
     "execution_count": 5,
     "metadata": {},
     "output_type": "execute_result"
    }
   ],
   "source": [
    "df.isnull().sum()"
   ]
  },
  {
   "cell_type": "code",
   "execution_count": 6,
   "metadata": {},
   "outputs": [
    {
     "data": {
      "text/html": [
       "<div>\n",
       "<style scoped>\n",
       "    .dataframe tbody tr th:only-of-type {\n",
       "        vertical-align: middle;\n",
       "    }\n",
       "\n",
       "    .dataframe tbody tr th {\n",
       "        vertical-align: top;\n",
       "    }\n",
       "\n",
       "    .dataframe thead th {\n",
       "        text-align: right;\n",
       "    }\n",
       "</style>\n",
       "<table border=\"1\" class=\"dataframe\">\n",
       "  <thead>\n",
       "    <tr style=\"text-align: right;\">\n",
       "      <th></th>\n",
       "      <th>Sr No</th>\n",
       "      <th>Date ddmmyyyy</th>\n",
       "      <th>Startup Name</th>\n",
       "      <th>Industry Vertical</th>\n",
       "      <th>SubVertical</th>\n",
       "      <th>City  Location</th>\n",
       "      <th>Investorsxe2x80x99 Name</th>\n",
       "      <th>InvestmentnType</th>\n",
       "      <th>Amount in USD</th>\n",
       "      <th>Remarks</th>\n",
       "    </tr>\n",
       "  </thead>\n",
       "  <tbody>\n",
       "    <tr>\n",
       "      <th>count</th>\n",
       "      <td>3009.000000</td>\n",
       "      <td>3009</td>\n",
       "      <td>3009</td>\n",
       "      <td>2838</td>\n",
       "      <td>2073</td>\n",
       "      <td>2829</td>\n",
       "      <td>2986</td>\n",
       "      <td>3006</td>\n",
       "      <td>2049</td>\n",
       "      <td>419</td>\n",
       "    </tr>\n",
       "    <tr>\n",
       "      <th>unique</th>\n",
       "      <td>NaN</td>\n",
       "      <td>1013</td>\n",
       "      <td>2439</td>\n",
       "      <td>811</td>\n",
       "      <td>1912</td>\n",
       "      <td>109</td>\n",
       "      <td>2385</td>\n",
       "      <td>50</td>\n",
       "      <td>500</td>\n",
       "      <td>72</td>\n",
       "    </tr>\n",
       "    <tr>\n",
       "      <th>top</th>\n",
       "      <td>NaN</td>\n",
       "      <td>02/02/2015</td>\n",
       "      <td>Ola Cabs</td>\n",
       "      <td>Consumer Internet</td>\n",
       "      <td>Online Lending Platform</td>\n",
       "      <td>Bangalore</td>\n",
       "      <td>Undisclosed Investors</td>\n",
       "      <td>Private Equity</td>\n",
       "      <td>1,000,000</td>\n",
       "      <td>Series A</td>\n",
       "    </tr>\n",
       "    <tr>\n",
       "      <th>freq</th>\n",
       "      <td>NaN</td>\n",
       "      <td>11</td>\n",
       "      <td>8</td>\n",
       "      <td>941</td>\n",
       "      <td>11</td>\n",
       "      <td>700</td>\n",
       "      <td>39</td>\n",
       "      <td>1356</td>\n",
       "      <td>161</td>\n",
       "      <td>175</td>\n",
       "    </tr>\n",
       "    <tr>\n",
       "      <th>mean</th>\n",
       "      <td>1526.737454</td>\n",
       "      <td>NaN</td>\n",
       "      <td>NaN</td>\n",
       "      <td>NaN</td>\n",
       "      <td>NaN</td>\n",
       "      <td>NaN</td>\n",
       "      <td>NaN</td>\n",
       "      <td>NaN</td>\n",
       "      <td>NaN</td>\n",
       "      <td>NaN</td>\n",
       "    </tr>\n",
       "    <tr>\n",
       "      <th>std</th>\n",
       "      <td>884.509003</td>\n",
       "      <td>NaN</td>\n",
       "      <td>NaN</td>\n",
       "      <td>NaN</td>\n",
       "      <td>NaN</td>\n",
       "      <td>NaN</td>\n",
       "      <td>NaN</td>\n",
       "      <td>NaN</td>\n",
       "      <td>NaN</td>\n",
       "      <td>NaN</td>\n",
       "    </tr>\n",
       "    <tr>\n",
       "      <th>min</th>\n",
       "      <td>0.000000</td>\n",
       "      <td>NaN</td>\n",
       "      <td>NaN</td>\n",
       "      <td>NaN</td>\n",
       "      <td>NaN</td>\n",
       "      <td>NaN</td>\n",
       "      <td>NaN</td>\n",
       "      <td>NaN</td>\n",
       "      <td>NaN</td>\n",
       "      <td>NaN</td>\n",
       "    </tr>\n",
       "    <tr>\n",
       "      <th>25%</th>\n",
       "      <td>756.000000</td>\n",
       "      <td>NaN</td>\n",
       "      <td>NaN</td>\n",
       "      <td>NaN</td>\n",
       "      <td>NaN</td>\n",
       "      <td>NaN</td>\n",
       "      <td>NaN</td>\n",
       "      <td>NaN</td>\n",
       "      <td>NaN</td>\n",
       "      <td>NaN</td>\n",
       "    </tr>\n",
       "    <tr>\n",
       "      <th>50%</th>\n",
       "      <td>1530.000000</td>\n",
       "      <td>NaN</td>\n",
       "      <td>NaN</td>\n",
       "      <td>NaN</td>\n",
       "      <td>NaN</td>\n",
       "      <td>NaN</td>\n",
       "      <td>NaN</td>\n",
       "      <td>NaN</td>\n",
       "      <td>NaN</td>\n",
       "      <td>NaN</td>\n",
       "    </tr>\n",
       "    <tr>\n",
       "      <th>75%</th>\n",
       "      <td>2292.000000</td>\n",
       "      <td>NaN</td>\n",
       "      <td>NaN</td>\n",
       "      <td>NaN</td>\n",
       "      <td>NaN</td>\n",
       "      <td>NaN</td>\n",
       "      <td>NaN</td>\n",
       "      <td>NaN</td>\n",
       "      <td>NaN</td>\n",
       "      <td>NaN</td>\n",
       "    </tr>\n",
       "    <tr>\n",
       "      <th>max</th>\n",
       "      <td>3057.000000</td>\n",
       "      <td>NaN</td>\n",
       "      <td>NaN</td>\n",
       "      <td>NaN</td>\n",
       "      <td>NaN</td>\n",
       "      <td>NaN</td>\n",
       "      <td>NaN</td>\n",
       "      <td>NaN</td>\n",
       "      <td>NaN</td>\n",
       "      <td>NaN</td>\n",
       "    </tr>\n",
       "  </tbody>\n",
       "</table>\n",
       "</div>"
      ],
      "text/plain": [
       "              Sr No Date ddmmyyyy Startup Name  Industry Vertical  \\\n",
       "count   3009.000000          3009         3009               2838   \n",
       "unique          NaN          1013         2439                811   \n",
       "top             NaN    02/02/2015     Ola Cabs  Consumer Internet   \n",
       "freq            NaN            11            8                941   \n",
       "mean    1526.737454           NaN          NaN                NaN   \n",
       "std      884.509003           NaN          NaN                NaN   \n",
       "min        0.000000           NaN          NaN                NaN   \n",
       "25%      756.000000           NaN          NaN                NaN   \n",
       "50%     1530.000000           NaN          NaN                NaN   \n",
       "75%     2292.000000           NaN          NaN                NaN   \n",
       "max     3057.000000           NaN          NaN                NaN   \n",
       "\n",
       "                    SubVertical City  Location Investorsxe2x80x99 Name  \\\n",
       "count                      2073           2829                    2986   \n",
       "unique                     1912            109                    2385   \n",
       "top     Online Lending Platform      Bangalore   Undisclosed Investors   \n",
       "freq                         11            700                      39   \n",
       "mean                        NaN            NaN                     NaN   \n",
       "std                         NaN            NaN                     NaN   \n",
       "min                         NaN            NaN                     NaN   \n",
       "25%                         NaN            NaN                     NaN   \n",
       "50%                         NaN            NaN                     NaN   \n",
       "75%                         NaN            NaN                     NaN   \n",
       "max                         NaN            NaN                     NaN   \n",
       "\n",
       "       InvestmentnType Amount in USD   Remarks  \n",
       "count             3006          2049       419  \n",
       "unique              50           500        72  \n",
       "top     Private Equity     1,000,000  Series A  \n",
       "freq              1356           161       175  \n",
       "mean               NaN           NaN       NaN  \n",
       "std                NaN           NaN       NaN  \n",
       "min                NaN           NaN       NaN  \n",
       "25%                NaN           NaN       NaN  \n",
       "50%                NaN           NaN       NaN  \n",
       "75%                NaN           NaN       NaN  \n",
       "max                NaN           NaN       NaN  "
      ]
     },
     "execution_count": 6,
     "metadata": {},
     "output_type": "execute_result"
    }
   ],
   "source": [
    "df.describe(include=\"all\")"
   ]
  },
  {
   "cell_type": "code",
   "execution_count": 7,
   "metadata": {},
   "outputs": [
    {
     "data": {
      "text/plain": [
       "<matplotlib.axes._subplots.AxesSubplot at 0x7faba49d8ef0>"
      ]
     },
     "execution_count": 7,
     "metadata": {},
     "output_type": "execute_result"
    },
    {
     "data": {
      "image/png": "[encoded data removed]",
      "text/plain": [
       "<Figure size 432x288 with 2 Axes>"
      ]
     },
     "metadata": {
      "needs_background": "light"
     },
     "output_type": "display_data"
    }
   ],
   "source": [
    "sns.heatmap(df.isnull())"
   ]
  },
  {
   "cell_type": "code",
   "execution_count": 8,
   "metadata": {},
   "outputs": [
    {
     "data": {
      "text/html": [
       "<div>\n",
       "<style scoped>\n",
       "    .dataframe tbody tr th:only-of-type {\n",
       "        vertical-align: middle;\n",
       "    }\n",
       "\n",
       "    .dataframe tbody tr th {\n",
       "        vertical-align: top;\n",
       "    }\n",
       "\n",
       "    .dataframe thead th {\n",
       "        text-align: right;\n",
       "    }\n",
       "</style>\n",
       "<table border=\"1\" class=\"dataframe\">\n",
       "  <thead>\n",
       "    <tr style=\"text-align: right;\">\n",
       "      <th></th>\n",
       "      <th>Sr No</th>\n",
       "      <th>Date ddmmyyyy</th>\n",
       "      <th>Startup Name</th>\n",
       "      <th>Industry Vertical</th>\n",
       "      <th>SubVertical</th>\n",
       "      <th>City  Location</th>\n",
       "      <th>Investorsxe2x80x99 Name</th>\n",
       "      <th>InvestmentnType</th>\n",
       "      <th>Amount in USD</th>\n",
       "      <th>Remarks</th>\n",
       "    </tr>\n",
       "  </thead>\n",
       "  <tbody>\n",
       "    <tr>\n",
       "      <th>3004</th>\n",
       "      <td>3053</td>\n",
       "      <td>29/01/2015</td>\n",
       "      <td>Printvenue</td>\n",
       "      <td>NaN</td>\n",
       "      <td>NaN</td>\n",
       "      <td>NaN</td>\n",
       "      <td>Asia Pacific Internet Group</td>\n",
       "      <td>Private Equity</td>\n",
       "      <td>4,500,000</td>\n",
       "      <td>NaN</td>\n",
       "    </tr>\n",
       "    <tr>\n",
       "      <th>3005</th>\n",
       "      <td>3054</td>\n",
       "      <td>29/01/2015</td>\n",
       "      <td>Graphene</td>\n",
       "      <td>NaN</td>\n",
       "      <td>NaN</td>\n",
       "      <td>NaN</td>\n",
       "      <td>KARSEMVEN Fund</td>\n",
       "      <td>Private Equity</td>\n",
       "      <td>825,000</td>\n",
       "      <td>Govt backed VC Fund</td>\n",
       "    </tr>\n",
       "    <tr>\n",
       "      <th>3006</th>\n",
       "      <td>3055</td>\n",
       "      <td>30/01/2015</td>\n",
       "      <td>Mad Street Den</td>\n",
       "      <td>NaN</td>\n",
       "      <td>NaN</td>\n",
       "      <td>NaN</td>\n",
       "      <td>Exfinity Fund, GrowX Ventures.</td>\n",
       "      <td>Private Equity</td>\n",
       "      <td>1,500,000</td>\n",
       "      <td>NaN</td>\n",
       "    </tr>\n",
       "    <tr>\n",
       "      <th>3007</th>\n",
       "      <td>3056</td>\n",
       "      <td>30/01/2015</td>\n",
       "      <td>Simplotel</td>\n",
       "      <td>NaN</td>\n",
       "      <td>NaN</td>\n",
       "      <td>NaN</td>\n",
       "      <td>MakeMyTrip</td>\n",
       "      <td>Private Equity</td>\n",
       "      <td>NaN</td>\n",
       "      <td>Strategic Funding, Minority stake</td>\n",
       "    </tr>\n",
       "    <tr>\n",
       "      <th>3008</th>\n",
       "      <td>3057</td>\n",
       "      <td>31/01/2015</td>\n",
       "      <td>couponmachine.in</td>\n",
       "      <td>NaN</td>\n",
       "      <td>NaN</td>\n",
       "      <td>NaN</td>\n",
       "      <td>UK based Group of Angel Investors</td>\n",
       "      <td>Seed Funding</td>\n",
       "      <td>140,000</td>\n",
       "      <td>NaN</td>\n",
       "    </tr>\n",
       "  </tbody>\n",
       "</table>\n",
       "</div>"
      ],
      "text/plain": [
       "      Sr No Date ddmmyyyy      Startup Name Industry Vertical SubVertical  \\\n",
       "3004   3053    29/01/2015        Printvenue               NaN         NaN   \n",
       "3005   3054    29/01/2015          Graphene               NaN         NaN   \n",
       "3006   3055    30/01/2015    Mad Street Den               NaN         NaN   \n",
       "3007   3056    30/01/2015         Simplotel               NaN         NaN   \n",
       "3008   3057    31/01/2015  couponmachine.in               NaN         NaN   \n",
       "\n",
       "     City  Location            Investorsxe2x80x99 Name InvestmentnType  \\\n",
       "3004            NaN        Asia Pacific Internet Group  Private Equity   \n",
       "3005            NaN                     KARSEMVEN Fund  Private Equity   \n",
       "3006            NaN     Exfinity Fund, GrowX Ventures.  Private Equity   \n",
       "3007            NaN                         MakeMyTrip  Private Equity   \n",
       "3008            NaN  UK based Group of Angel Investors    Seed Funding   \n",
       "\n",
       "     Amount in USD                            Remarks  \n",
       "3004     4,500,000                                NaN  \n",
       "3005       825,000                Govt backed VC Fund  \n",
       "3006     1,500,000                                NaN  \n",
       "3007           NaN  Strategic Funding, Minority stake  \n",
       "3008       140,000                                NaN  "
      ]
     },
     "execution_count": 8,
     "metadata": {},
     "output_type": "execute_result"
    }
   ],
   "source": [
    "df.tail()"
   ]
  },
  {
   "cell_type": "code",
   "execution_count": 9,
   "metadata": {},
   "outputs": [
    {
     "data": {
      "text/plain": [
       "Sr No                       int64\n",
       "Date ddmmyyyy              object\n",
       "Startup Name               object\n",
       "Industry Vertical          object\n",
       "SubVertical                object\n",
       "City  Location             object\n",
       "Investorsxe2x80x99 Name    object\n",
       "InvestmentnType            object\n",
       "Amount in USD              object\n",
       "Remarks                    object\n",
       "dtype: object"
      ]
     },
     "execution_count": 9,
     "metadata": {},
     "output_type": "execute_result"
    }
   ],
   "source": [
    "df.dtypes"
   ]
  },
  {
   "cell_type": "code",
   "execution_count": 10,
   "metadata": {},
   "outputs": [],
   "source": [
    "# df[\"Date ddmmyyyy\"] = pd.to_datetime(df[\"Date ddmmyyyy\"] , dayfirst=True , format=\"%d/%m/%y\" )"
   ]
  },
  {
   "cell_type": "code",
   "execution_count": 11,
   "metadata": {},
   "outputs": [],
   "source": [
    "# df[\"Date ddmmyyyy\"]"
   ]
  },
  {
   "cell_type": "code",
   "execution_count": null,
   "metadata": {},
   "outputs": [],
   "source": []
  },
  {
   "cell_type": "code",
   "execution_count": 12,
   "metadata": {},
   "outputs": [
    {
     "data": {
      "text/plain": [
       "Sr No                       int64\n",
       "Date ddmmyyyy              object\n",
       "Startup Name               object\n",
       "Industry Vertical          object\n",
       "SubVertical                object\n",
       "City  Location             object\n",
       "Investorsxe2x80x99 Name    object\n",
       "InvestmentnType            object\n",
       "Amount in USD              object\n",
       "Remarks                    object\n",
       "dtype: object"
      ]
     },
     "execution_count": 12,
     "metadata": {},
     "output_type": "execute_result"
    }
   ],
   "source": [
    "df.dtypes"
   ]
  },
  {
   "cell_type": "code",
   "execution_count": 13,
   "metadata": {},
   "outputs": [],
   "source": [
    "import re\n",
    "\n",
    "def modifiy_int(amt):\n",
    "#     x = re.search(\"[\\d]\" , str(amt))\n",
    "#     print(x)\n",
    "#     if x is None:\n",
    "#         return np.nan\n",
    "#     else:\n",
    "#         val = str(x.string)\n",
    "        \n",
    "#         x = re.sub(\"^[0-9|.]\",\"\" , val)\n",
    "#         return float(x)\n",
    "#     print(x)\n",
    "    if amt is np.nan:\n",
    "        return np.nan\n",
    "    x = re.compile(\"[\\d|.]\")\n",
    "    \n",
    "    x=x.findall(amt)\n",
    "    if len(x) >0 :\n",
    "#         print(x)\n",
    "        return ''.join(x)\n",
    "    else:\n",
    "        return np.nan"
   ]
  },
  {
   "cell_type": "code",
   "execution_count": 14,
   "metadata": {},
   "outputs": [],
   "source": [
    "# modifiy_int(\"/-6,55.76\")"
   ]
  },
  {
   "cell_type": "code",
   "execution_count": 14,
   "metadata": {},
   "outputs": [],
   "source": [
    "Amount_in_USD =df[\"Amount in USD\"].apply(modifiy_int )"
   ]
  },
  {
   "cell_type": "code",
   "execution_count": 15,
   "metadata": {},
   "outputs": [],
   "source": [
    "df[\"Amount in USD\"] = Amount_in_USD"
   ]
  },
  {
   "cell_type": "code",
   "execution_count": null,
   "metadata": {},
   "outputs": [],
   "source": []
  },
  {
   "cell_type": "code",
   "execution_count": 16,
   "metadata": {},
   "outputs": [],
   "source": [
    "df[\"Amount in USD\"] = df[\"Amount in USD\"].astype(\"float\")"
   ]
  },
  {
   "cell_type": "code",
   "execution_count": 17,
   "metadata": {},
   "outputs": [
    {
     "data": {
      "text/plain": [
       "<matplotlib.axes._subplots.AxesSubplot at 0x7faba4b0a3c8>"
      ]
     },
     "execution_count": 17,
     "metadata": {},
     "output_type": "execute_result"
    },
    {
     "data": {
      "image/png": "[encoded data removed]",
      "text/plain": [
       "<Figure size 432x288 with 2 Axes>"
      ]
     },
     "metadata": {
      "needs_background": "light"
     },
     "output_type": "display_data"
    }
   ],
   "source": [
    "sns.heatmap(df.isnull())"
   ]
  },
  {
   "cell_type": "code",
   "execution_count": 18,
   "metadata": {},
   "outputs": [
    {
     "data": {
      "text/html": [
       "<div>\n",
       "<style scoped>\n",
       "    .dataframe tbody tr th:only-of-type {\n",
       "        vertical-align: middle;\n",
       "    }\n",
       "\n",
       "    .dataframe tbody tr th {\n",
       "        vertical-align: top;\n",
       "    }\n",
       "\n",
       "    .dataframe thead th {\n",
       "        text-align: right;\n",
       "    }\n",
       "</style>\n",
       "<table border=\"1\" class=\"dataframe\">\n",
       "  <thead>\n",
       "    <tr style=\"text-align: right;\">\n",
       "      <th></th>\n",
       "      <th>Sr No</th>\n",
       "      <th>Date ddmmyyyy</th>\n",
       "      <th>Startup Name</th>\n",
       "      <th>Industry Vertical</th>\n",
       "      <th>SubVertical</th>\n",
       "      <th>City  Location</th>\n",
       "      <th>Investorsxe2x80x99 Name</th>\n",
       "      <th>InvestmentnType</th>\n",
       "      <th>Amount in USD</th>\n",
       "      <th>Remarks</th>\n",
       "    </tr>\n",
       "  </thead>\n",
       "  <tbody>\n",
       "    <tr>\n",
       "      <th>0</th>\n",
       "      <td>0</td>\n",
       "      <td>05/09/2019</td>\n",
       "      <td>FPL Technologies</td>\n",
       "      <td>FinTech</td>\n",
       "      <td>Financial Services</td>\n",
       "      <td>Pune</td>\n",
       "      <td>Matrix Partners India, Sequoia India</td>\n",
       "      <td>Maiden Round</td>\n",
       "      <td>4500000.0</td>\n",
       "      <td>NaN</td>\n",
       "    </tr>\n",
       "    <tr>\n",
       "      <th>1</th>\n",
       "      <td>1</td>\n",
       "      <td>04/09/2019</td>\n",
       "      <td>Cashflo</td>\n",
       "      <td>FinTech</td>\n",
       "      <td>Invoice discounting platform and SME lending m...</td>\n",
       "      <td>Mumbai</td>\n",
       "      <td>SAIF Partners</td>\n",
       "      <td>Series A</td>\n",
       "      <td>3300000.0</td>\n",
       "      <td>NaN</td>\n",
       "    </tr>\n",
       "    <tr>\n",
       "      <th>2</th>\n",
       "      <td>2</td>\n",
       "      <td>04/09/2019</td>\n",
       "      <td>Digital F5</td>\n",
       "      <td>Advertising, Marketing</td>\n",
       "      <td>Digital marketing firm</td>\n",
       "      <td>Mumbai</td>\n",
       "      <td>TIW Private Equity</td>\n",
       "      <td>Private Equity Round</td>\n",
       "      <td>6000000.0</td>\n",
       "      <td>NaN</td>\n",
       "    </tr>\n",
       "    <tr>\n",
       "      <th>3</th>\n",
       "      <td>3</td>\n",
       "      <td>04/09/2019</td>\n",
       "      <td>3rdFlix</td>\n",
       "      <td>SaaS</td>\n",
       "      <td>Education Technology</td>\n",
       "      <td>Hyderabad</td>\n",
       "      <td>Exfinity Venture Partners</td>\n",
       "      <td>pre-series A</td>\n",
       "      <td>5000000.0</td>\n",
       "      <td>NaN</td>\n",
       "    </tr>\n",
       "    <tr>\n",
       "      <th>4</th>\n",
       "      <td>4</td>\n",
       "      <td>04/09/2019</td>\n",
       "      <td>75F</td>\n",
       "      <td>IoT</td>\n",
       "      <td>Building automation system</td>\n",
       "      <td>Burnsville</td>\n",
       "      <td>Breakthrough Energy Ventures</td>\n",
       "      <td>Series A</td>\n",
       "      <td>18000000.0</td>\n",
       "      <td>NaN</td>\n",
       "    </tr>\n",
       "  </tbody>\n",
       "</table>\n",
       "</div>"
      ],
      "text/plain": [
       "   Sr No Date ddmmyyyy      Startup Name       Industry Vertical  \\\n",
       "0      0    05/09/2019  FPL Technologies                 FinTech   \n",
       "1      1    04/09/2019           Cashflo                 FinTech   \n",
       "2      2    04/09/2019        Digital F5  Advertising, Marketing   \n",
       "3      3    04/09/2019           3rdFlix                    SaaS   \n",
       "4      4    04/09/2019               75F                     IoT   \n",
       "\n",
       "                                         SubVertical City  Location  \\\n",
       "0                                 Financial Services           Pune   \n",
       "1  Invoice discounting platform and SME lending m...         Mumbai   \n",
       "2                             Digital marketing firm         Mumbai   \n",
       "3                               Education Technology      Hyderabad   \n",
       "4                         Building automation system     Burnsville   \n",
       "\n",
       "                Investorsxe2x80x99 Name       InvestmentnType  Amount in USD  \\\n",
       "0  Matrix Partners India, Sequoia India          Maiden Round      4500000.0   \n",
       "1                         SAIF Partners              Series A      3300000.0   \n",
       "2                    TIW Private Equity  Private Equity Round      6000000.0   \n",
       "3             Exfinity Venture Partners          pre-series A      5000000.0   \n",
       "4          Breakthrough Energy Ventures              Series A     18000000.0   \n",
       "\n",
       "  Remarks  \n",
       "0     NaN  \n",
       "1     NaN  \n",
       "2     NaN  \n",
       "3     NaN  \n",
       "4     NaN  "
      ]
     },
     "execution_count": 18,
     "metadata": {},
     "output_type": "execute_result"
    }
   ],
   "source": [
    "df.head()"
   ]
  },
  {
   "cell_type": "code",
   "execution_count": 19,
   "metadata": {},
   "outputs": [
    {
     "data": {
      "text/plain": [
       "3900000000.0"
      ]
     },
     "execution_count": 19,
     "metadata": {},
     "output_type": "execute_result"
    }
   ],
   "source": [
    "df[\"Amount in USD\"].max()"
   ]
  },
  {
   "cell_type": "code",
   "execution_count": 20,
   "metadata": {},
   "outputs": [
    {
     "data": {
      "text/plain": [
       "Sr No                        int64\n",
       "Date ddmmyyyy               object\n",
       "Startup Name                object\n",
       "Industry Vertical           object\n",
       "SubVertical                 object\n",
       "City  Location              object\n",
       "Investorsxe2x80x99 Name     object\n",
       "InvestmentnType             object\n",
       "Amount in USD              float64\n",
       "Remarks                     object\n",
       "dtype: object"
      ]
     },
     "execution_count": 20,
     "metadata": {},
     "output_type": "execute_result"
    }
   ],
   "source": [
    "df.dtypes"
   ]
  },
  {
   "cell_type": "code",
   "execution_count": 21,
   "metadata": {},
   "outputs": [],
   "source": [
    "df[\"SubVertical\"] = df[\"SubVertical\"].fillna(df[\"SubVertical\"].mode()[0])"
   ]
  },
  {
   "cell_type": "code",
   "execution_count": 22,
   "metadata": {},
   "outputs": [
    {
     "data": {
      "text/plain": [
       "<matplotlib.axes._subplots.AxesSubplot at 0x7faba05162e8>"
      ]
     },
     "execution_count": 22,
     "metadata": {},
     "output_type": "execute_result"
    },
    {
     "data": {
      "image/png": "[encoded data removed]",
      "text/plain": [
       "<Figure size 432x288 with 2 Axes>"
      ]
     },
     "metadata": {
      "needs_background": "light"
     },
     "output_type": "display_data"
    }
   ],
   "source": [
    "sns.heatmap(df.isna())"
   ]
  },
  {
   "cell_type": "code",
   "execution_count": 23,
   "metadata": {},
   "outputs": [
    {
     "data": {
      "text/plain": [
       "'Online Lending Platform'"
      ]
     },
     "execution_count": 23,
     "metadata": {},
     "output_type": "execute_result"
    }
   ],
   "source": [
    "df[\"SubVertical\"].mode()[0]"
   ]
  },
  {
   "cell_type": "code",
   "execution_count": 24,
   "metadata": {},
   "outputs": [],
   "source": [
    " df[\"Industry Vertical\"].fillna(df[\"Industry Vertical\"].mode()[0] , inplace=True)"
   ]
  },
  {
   "cell_type": "code",
   "execution_count": 25,
   "metadata": {},
   "outputs": [],
   "source": [
    "df[\"City  Location\"].fillna(df[\"City  Location\"].mode()[0] , inplace=True)"
   ]
  },
  {
   "cell_type": "code",
   "execution_count": 26,
   "metadata": {},
   "outputs": [
    {
     "data": {
      "text/plain": [
       "<matplotlib.axes._subplots.AxesSubplot at 0x7faba03ee160>"
      ]
     },
     "execution_count": 26,
     "metadata": {},
     "output_type": "execute_result"
    },
    {
     "data": {
      "image/png": "[encoded data removed]",
      "text/plain": [
       "<Figure size 432x288 with 2 Axes>"
      ]
     },
     "metadata": {
      "needs_background": "light"
     },
     "output_type": "display_data"
    }
   ],
   "source": [
    "sns.heatmap(df.isna())"
   ]
  },
  {
   "cell_type": "code",
   "execution_count": 27,
   "metadata": {},
   "outputs": [
    {
     "data": {
      "text/html": [
       "<div>\n",
       "<style scoped>\n",
       "    .dataframe tbody tr th:only-of-type {\n",
       "        vertical-align: middle;\n",
       "    }\n",
       "\n",
       "    .dataframe tbody tr th {\n",
       "        vertical-align: top;\n",
       "    }\n",
       "\n",
       "    .dataframe thead th {\n",
       "        text-align: right;\n",
       "    }\n",
       "</style>\n",
       "<table border=\"1\" class=\"dataframe\">\n",
       "  <thead>\n",
       "    <tr style=\"text-align: right;\">\n",
       "      <th></th>\n",
       "      <th>Sr No</th>\n",
       "      <th>Date ddmmyyyy</th>\n",
       "      <th>Startup Name</th>\n",
       "      <th>Industry Vertical</th>\n",
       "      <th>SubVertical</th>\n",
       "      <th>City  Location</th>\n",
       "      <th>Investorsxe2x80x99 Name</th>\n",
       "      <th>InvestmentnType</th>\n",
       "      <th>Amount in USD</th>\n",
       "      <th>Remarks</th>\n",
       "    </tr>\n",
       "  </thead>\n",
       "  <tbody>\n",
       "    <tr>\n",
       "      <th>0</th>\n",
       "      <td>0</td>\n",
       "      <td>05/09/2019</td>\n",
       "      <td>FPL Technologies</td>\n",
       "      <td>FinTech</td>\n",
       "      <td>Financial Services</td>\n",
       "      <td>Pune</td>\n",
       "      <td>Matrix Partners India, Sequoia India</td>\n",
       "      <td>Maiden Round</td>\n",
       "      <td>4500000.0</td>\n",
       "      <td>NaN</td>\n",
       "    </tr>\n",
       "    <tr>\n",
       "      <th>1</th>\n",
       "      <td>1</td>\n",
       "      <td>04/09/2019</td>\n",
       "      <td>Cashflo</td>\n",
       "      <td>FinTech</td>\n",
       "      <td>Invoice discounting platform and SME lending m...</td>\n",
       "      <td>Mumbai</td>\n",
       "      <td>SAIF Partners</td>\n",
       "      <td>Series A</td>\n",
       "      <td>3300000.0</td>\n",
       "      <td>NaN</td>\n",
       "    </tr>\n",
       "    <tr>\n",
       "      <th>2</th>\n",
       "      <td>2</td>\n",
       "      <td>04/09/2019</td>\n",
       "      <td>Digital F5</td>\n",
       "      <td>Advertising, Marketing</td>\n",
       "      <td>Digital marketing firm</td>\n",
       "      <td>Mumbai</td>\n",
       "      <td>TIW Private Equity</td>\n",
       "      <td>Private Equity Round</td>\n",
       "      <td>6000000.0</td>\n",
       "      <td>NaN</td>\n",
       "    </tr>\n",
       "    <tr>\n",
       "      <th>3</th>\n",
       "      <td>3</td>\n",
       "      <td>04/09/2019</td>\n",
       "      <td>3rdFlix</td>\n",
       "      <td>SaaS</td>\n",
       "      <td>Education Technology</td>\n",
       "      <td>Hyderabad</td>\n",
       "      <td>Exfinity Venture Partners</td>\n",
       "      <td>pre-series A</td>\n",
       "      <td>5000000.0</td>\n",
       "      <td>NaN</td>\n",
       "    </tr>\n",
       "    <tr>\n",
       "      <th>4</th>\n",
       "      <td>4</td>\n",
       "      <td>04/09/2019</td>\n",
       "      <td>75F</td>\n",
       "      <td>IoT</td>\n",
       "      <td>Building automation system</td>\n",
       "      <td>Burnsville</td>\n",
       "      <td>Breakthrough Energy Ventures</td>\n",
       "      <td>Series A</td>\n",
       "      <td>18000000.0</td>\n",
       "      <td>NaN</td>\n",
       "    </tr>\n",
       "  </tbody>\n",
       "</table>\n",
       "</div>"
      ],
      "text/plain": [
       "   Sr No Date ddmmyyyy      Startup Name       Industry Vertical  \\\n",
       "0      0    05/09/2019  FPL Technologies                 FinTech   \n",
       "1      1    04/09/2019           Cashflo                 FinTech   \n",
       "2      2    04/09/2019        Digital F5  Advertising, Marketing   \n",
       "3      3    04/09/2019           3rdFlix                    SaaS   \n",
       "4      4    04/09/2019               75F                     IoT   \n",
       "\n",
       "                                         SubVertical City  Location  \\\n",
       "0                                 Financial Services           Pune   \n",
       "1  Invoice discounting platform and SME lending m...         Mumbai   \n",
       "2                             Digital marketing firm         Mumbai   \n",
       "3                               Education Technology      Hyderabad   \n",
       "4                         Building automation system     Burnsville   \n",
       "\n",
       "                Investorsxe2x80x99 Name       InvestmentnType  Amount in USD  \\\n",
       "0  Matrix Partners India, Sequoia India          Maiden Round      4500000.0   \n",
       "1                         SAIF Partners              Series A      3300000.0   \n",
       "2                    TIW Private Equity  Private Equity Round      6000000.0   \n",
       "3             Exfinity Venture Partners          pre-series A      5000000.0   \n",
       "4          Breakthrough Energy Ventures              Series A     18000000.0   \n",
       "\n",
       "  Remarks  \n",
       "0     NaN  \n",
       "1     NaN  \n",
       "2     NaN  \n",
       "3     NaN  \n",
       "4     NaN  "
      ]
     },
     "execution_count": 27,
     "metadata": {},
     "output_type": "execute_result"
    }
   ],
   "source": [
    "df.head()"
   ]
  },
  {
   "cell_type": "code",
   "execution_count": 28,
   "metadata": {},
   "outputs": [],
   "source": [
    "df[\"Investorsxe2x80x99 Name\"].dropna(axis=0 , how=\"any\",  inplace=True)"
   ]
  },
  {
   "cell_type": "code",
   "execution_count": 29,
   "metadata": {},
   "outputs": [
    {
     "data": {
      "text/plain": [
       "<matplotlib.axes._subplots.AxesSubplot at 0x7faba0455b38>"
      ]
     },
     "execution_count": 29,
     "metadata": {},
     "output_type": "execute_result"
    },
    {
     "data": {
      "image/png": "[encoded data removed]",
      "text/plain": [
       "<Figure size 432x288 with 2 Axes>"
      ]
     },
     "metadata": {
      "needs_background": "light"
     },
     "output_type": "display_data"
    }
   ],
   "source": [
    "sns.heatmap(df.isna())"
   ]
  },
  {
   "cell_type": "code",
   "execution_count": 30,
   "metadata": {},
   "outputs": [
    {
     "data": {
      "text/plain": [
       "0"
      ]
     },
     "execution_count": 30,
     "metadata": {},
     "output_type": "execute_result"
    }
   ],
   "source": [
    "df[\"Investorsxe2x80x99 Name\"].isna().sum()"
   ]
  },
  {
   "cell_type": "code",
   "execution_count": 31,
   "metadata": {},
   "outputs": [],
   "source": [
    "df[\"InvestmentnType\"].fillna(df[\"InvestmentnType\"].mode()[0] , inplace=True)"
   ]
  },
  {
   "cell_type": "code",
   "execution_count": 32,
   "metadata": {},
   "outputs": [],
   "source": [
    "df[\"Amount in USD\"].fillna(df[\"Amount in USD\"].mean() , inplace=True)"
   ]
  },
  {
   "cell_type": "code",
   "execution_count": 33,
   "metadata": {},
   "outputs": [
    {
     "data": {
      "text/plain": [
       "<matplotlib.axes._subplots.AxesSubplot at 0x7faba028ac88>"
      ]
     },
     "execution_count": 33,
     "metadata": {},
     "output_type": "execute_result"
    },
    {
     "data": {
      "image/png": "[encoded data removed]",
      "text/plain": [
       "<Figure size 432x288 with 2 Axes>"
      ]
     },
     "metadata": {
      "needs_background": "light"
     },
     "output_type": "display_data"
    }
   ],
   "source": [
    "sns.heatmap(df.isna())"
   ]
  },
  {
   "cell_type": "code",
   "execution_count": 35,
   "metadata": {},
   "outputs": [
    {
     "data": {
      "text/plain": [
       "array(['FPL Technologies', 'Cashflo', 'Digital F5', ..., 'Graphene',\n",
       "       'Simplotel', 'couponmachine.in'], dtype=object)"
      ]
     },
     "execution_count": 35,
     "metadata": {},
     "output_type": "execute_result"
    }
   ],
   "source": [
    "df[\"Startup Name\"].unique()"
   ]
  },
  {
   "cell_type": "code",
   "execution_count": 36,
   "metadata": {
    "collapsed": true,
    "jupyter": {
     "outputs_hidden": true
    }
   },
   "outputs": [
    {
     "data": {
      "text/plain": [
       "array(['FinTech', 'Advertising, Marketing', 'SaaS', 'IoT',\n",
       "       'Information Technology', 'Consumer Technology',\n",
       "       'Health and Wellness', 'Accounting', 'E-Commerce', 'Finance',\n",
       "       'Retail', 'Customer Service Platform', 'Automotive',\n",
       "       'Consumer Goods', 'Food and Beverage', 'EdTech', 'Services',\n",
       "       'Transportation', 'Compliance', 'Transport',\n",
       "       'Artificial Intelligence', 'Tech', 'Health Care', 'Luxury Label',\n",
       "       'Waste Management Service', 'Deep-Tech', 'Agriculture', 'Energy',\n",
       "       'Digital Media', 'E-commerce', 'Saas', 'Automobile', 'Agtech',\n",
       "       'Social Media', 'Fintech', 'Edtech', 'Technology', 'AI',\n",
       "       'Ecommerce', 'Nanotechnology', 'Hospitality', 'Services Platform',\n",
       "       'Travel Tech', 'Online Education', 'Online Marketplace', 'B2B',\n",
       "       'SaaS, Ecommerce', 'NBFC', 'Gaming', 'Food', 'Food Tech',\n",
       "       'Automation', 'Education', 'Investment', 'Social Network',\n",
       "       'Financial Tech', 'Software', 'Fashion', 'Logistics',\n",
       "       'Real Estate', 'Logistics Tech', 'Consumer Internet',\n",
       "       'B2B Platform', 'Healthcare', 'Fin-Tech', 'Food-Tech', 'Ed-Tech',\n",
       "       'IT', 'Ed-tech', 'Clean-tech', 'Fiinance', 'Food & Beverages',\n",
       "       'Media', 'Food and Beverages', 'Publishing', 'Entertainment',\n",
       "       'Consumer internet', 'ECommerce', 'eCommerce', 'Inspiration',\n",
       "       'Storytelling', 'Lifestyle', 'Food & Beverage', 'eCommece',\n",
       "       'Consumer Portal', 'Others', 'ecommerce', 'healthcare', 'FMCG',\n",
       "       'Reality', 'Auto', 'BFSI', 'Consumer Interne',\n",
       "       'Online Education Information platform', 'Brand Licensing Startup',\n",
       "       'Gourmet Food Discovery & Delivery platform',\n",
       "       'Transportation & Logistics Platform',\n",
       "       'Enterprise Marketing Automation platform',\n",
       "       'Health, Wellness & Beauty Services App', 'Digital Healthcare',\n",
       "       'Last Minute Hotel Booking App', 'Womens Fashion Wear Portal',\n",
       "       'Product Learning platform',\n",
       "       'Online Food ordering & Delivery platform',\n",
       "       'App based Bus Pooling Services', 'Social Learning Platform',\n",
       "       'Social Fitness platform', 'On Demand Mobile app developer',\n",
       "       'Car Maintenance & Management mobile app',\n",
       "       'Online Wedding Marketplace', 'Splitting Bills Mobile App',\n",
       "       'IOT Energy Management Analytics platform',\n",
       "       'Custom Made furniture e-tailer', 'QSR Chain',\n",
       "       'eLearning platform', 'Smart Safety Wearable Devices',\n",
       "       'Cab Sharing service Mobile app',\n",
       "       'Cloud Enterprise Mobility Platform',\n",
       "       'Online Shopping Assistant Mobile app',\n",
       "       'Home Cooked Food Order & Delivery platform',\n",
       "       'Online School for Analytics learning',\n",
       "       'Chat based personal Assistant App',\n",
       "       'Picture creation & Social mobile app',\n",
       "       'Nonbanking finance company', 'eCommerce returns etailer',\n",
       "       'Online Freight Services Aggregator',\n",
       "       'Online Branded Furniture etailer', 'Digital Analytics Platform',\n",
       "       'Internet Network Infrastructure Services',\n",
       "       'Supply Chain & Logistics Solutions', 'Holiday Resort Chain',\n",
       "       'Mobile Point of Sale solutions',\n",
       "       'Peer-to-Peer Money Transfer & Recharge App',\n",
       "       'Test Automation SAAS platform', 'Citizens Engagement Platform',\n",
       "       'Indoor Navigation & Analytics Solutions',\n",
       "       'Hyperlocal On-Demand Household Services platform',\n",
       "       'Online RTI application services',\n",
       "       'ECommerce Website Creation SAAS platform',\n",
       "       'Wedding Venues & Vendors Marketplace',\n",
       "       'Interface development platform for Government officials',\n",
       "       'Modular Furnishings Marketplace',\n",
       "       'Private Jet Bookings Marketplace',\n",
       "       'Cab search Comparison & Booking platform',\n",
       "       'Performance Optimization Platform for athletes',\n",
       "       'Event Venue Booking Platform', 'Digital Media Platform',\n",
       "       'visual search and discovery platform',\n",
       "       'Home services marketplace',\n",
       "       'End to End reverse logistics Solution platform',\n",
       "       'Virtual Health consultation app', 'Online Renting platform',\n",
       "       'Logistics Services Provider',\n",
       "       'Data Science & UX design Learning platform',\n",
       "       'Online marketplace for Chef Meals', 'Electric Bike Manufacturers',\n",
       "       'ECommerce platform solutions', 'Online Media Publication',\n",
       "       'International Hiring Platform',\n",
       "       'Logistics Service Provider Marketplace',\n",
       "       'Hyperlocal\\\\\\\\xc2\\\\\\\\xa0 Grocery Delivery Service',\n",
       "       'Sports Education Platform',\n",
       "       'Bike, Appliances Renting marketplace',\n",
       "       'Online Marketplace for Industrial Goods',\n",
       "       'Reward points mobile app', 'Mobile accessories online store',\n",
       "       'Content Discovery & reward points platform',\n",
       "       'Artificial Intelligence platform',\n",
       "       'Medical Consultation & Doctor appointment booking platform',\n",
       "       'Mobile Fitness App',\n",
       "       'Digital Coupons, Deal & Cashback aggregator app',\n",
       "       'Mobile Game development & Design platform',\n",
       "       'B2B eCommerce Marketplace',\n",
       "       'Furniture and appliances rental platform',\n",
       "       'B2B Merchandize platform', 'Real Estate focused Tech platform',\n",
       "       'Photographer Online search & booking platform',\n",
       "       'Grocery Delivery platform',\n",
       "       'Mobile Car Servicing appointment app', 'New Curation Mobile App',\n",
       "       'Mobile Wallet', 'Online Food Ordering & Delivery platform',\n",
       "       'Bus Aggregation and rental mobile app',\n",
       "       'hyperlocal online Services platform',\n",
       "       'WiFi \\\\xe2\\\\x80\\\\x93 first Cloud communication platform',\n",
       "       'Alternate Mobile Monetization platform',\n",
       "       'Online Food Ordering Marketplace',\n",
       "       'Quick Service Restaurant & Online Delivery',\n",
       "       'Online Loans Marketplace', 'Budget Hotels Aggregator',\n",
       "       'Efficient Energy Management platform',\n",
       "       'Digital Intelligent learning platform',\n",
       "       'Voice Call incentivization mobile app',\n",
       "       'Online Counselling and psychological support platform',\n",
       "       'Domestic Help Aggregation platform',\n",
       "       'Home Stay & room rentals platform', 'Selfie Mobile App',\n",
       "       'Online Reputation Management Platform', 'Online Grocery platform',\n",
       "       'Online content platform for women',\n",
       "       'Online Vehicle Spare Parts etailer', 'Event Ticketing platform',\n",
       "       'affordable Personal Healthcare Products',\n",
       "       'Premium dining Lounges & restaurants',\n",
       "       'Mobile Growth Hacking\\\\\\\\nPlatform', 'Skill Training Startup',\n",
       "       'Beauty and Wellness Marketplace', 'Marketplace App for Bangkok',\n",
       "       'On-demand Maids Service Provider',\n",
       "       'eCommerce Product Search Engine', 'Ready to cook packaged Foods',\n",
       "       'Product Customization Platform',\n",
       "       'Branded Food products online sales',\n",
       "       'Talent platform for Fashion professionals',\n",
       "       'Auto Insurance Online platform',\n",
       "       'Hyperlocal Logistics Service Provider',\n",
       "       'Cricket Management Mobile Game',\n",
       "       'On Demand Laundry Service platform',\n",
       "       'Ecommerce Discount & Cashback coupons platform',\n",
       "       'Virtual Reality Headset creator',\n",
       "       'Home Improvement Service platform',\n",
       "       'mobile-only tasks marketplace',\n",
       "       'Women Ethnic Wear\\\\\\\\xc2\\\\\\\\xa0 Online Marketplace',\n",
       "       'Numerical Computing & Data Science Platform',\n",
       "       'Designer fashion Jewellery Marketplace',\n",
       "       'Online Products Discovery Platform',\n",
       "       'Kids Tool kit for Innovation platform',\n",
       "       'Mobile Learning Solutions', 'Car Aggregator & Retail Mobile App',\n",
       "       'conversational commerce mobile app', 'Viral Content web Platform',\n",
       "       'Express local delivery platform',\n",
       "       'On-Demand Local Logistics provider',\n",
       "       'Curated Freelancer Marketplace', 'Online Taxi Rental Platform',\n",
       "       'Mobile Services Marketplace', 'Smartwatch Maker',\n",
       "       'Online Gourmet Food Marketplace', 'Online Jewellery etailer',\n",
       "       'Sales & Productivity Software',\n",
       "       'ecommerce related software product platform',\n",
       "       'Health-Tech platform', 'Nightlife Discovery Mobile App',\n",
       "       'Online Real Estate Marketplace',\n",
       "       'Home Healthcare Services platform,',\n",
       "       'Indian Ethnic Crafts Etailer',\n",
       "       'Social platform for traders and investors',\n",
       "       'Online Furniture, Home Appliances Rental Platform',\n",
       "       'Healthcare Services Discovery platform',\n",
       "       'Health and Beauty Services Marketplace',\n",
       "       'Automotive Services platform',\n",
       "       'Online and TV Shopping Marketplace',\n",
       "       'Big Data Analytics Platform',\n",
       "       'Mobile App based Loan disbursement platform',\n",
       "       'On Demand Laundry Services App', 'Education Content Provider',\n",
       "       'Content Management Software Solutions',\n",
       "       'Fitness Tracking Management Solutions',\n",
       "       'Hyper-local Grocery Delivery platform',\n",
       "       'Hyperlocal healthcare product Delivery Service provider',\n",
       "       'Online Lending Marketplace', 'On Demand Beauty Services Platform',\n",
       "       'Self Driven Rental Car Platform', 'Education Content etailer',\n",
       "       'Clud based Learning platform',\n",
       "       'Talent Exchange & Talent Services Marketplace',\n",
       "       'Two-Wheeler Taxi Service', 'character merchandize sales platform',\n",
       "       'Mobile Application Developer',\n",
       "       'Ecommerce Delivery locker services',\n",
       "       'extra curricular activities marketplace app',\n",
       "       'Hyperlocal Online Home services provider',\n",
       "       'Easy Business Loans platform',\n",
       "       'Performance based Wholesale Marketplace',\n",
       "       'Professional Services Marketplace', 'Movie-on-demand platform',\n",
       "       'us ticketing and fleet management platform',\n",
       "       'Online Income Tax Filing platform',\n",
       "       'Product discovery & recommendation platform',\n",
       "       'Mobile Payments App', 'Beauty & Wellness Products e-tailer',\n",
       "       'Fashion jewelry and accessories e-tailer',\n",
       "       'Online Consumer Lending platform',\n",
       "       'Premium Apparel shopping portal',\n",
       "       'Exclusive Platform for Doctors & Healthcare professionals',\n",
       "       'Job Board', 'Sports Management & Physical Education Business',\n",
       "       'multi-sport program for preschoolers',\n",
       "       'QSR & Online delivery portal', 'Online Homeopathy Clinic',\n",
       "       'E-Learning Service Provider', 'Organic Food etailer',\n",
       "       'Delivery & Logistics Service provider',\n",
       "       'Product Discovery & comparison App',\n",
       "       'Online Apparels Fashion brand',\n",
       "       'Home Cooked Food marketplace & Delivery',\n",
       "       'Gesture based Mobile Development',\n",
       "       'Hotel Mobile CRM Software platform',\n",
       "       'Rental Accommodation Search platform', 'Logistics Tech Platform',\n",
       "       'Developer Portfolio Showcase platform',\n",
       "       'Doctors Network Mobile App', 'End-to-End Lending platform',\n",
       "       'on-demand healthcare marketplace',\n",
       "       '360-degree view creating platform',\n",
       "       'Advertising & Marketing Community Networking platform',\n",
       "       'Food Ordering & Delivery App', 'Ride Sharing platform',\n",
       "       'Online P2P lending marketplace',\n",
       "       'B2B marketplace for industrial goods',\n",
       "       'Cloud Based Collaboration platform',\n",
       "       'global community for travellers', 'Prepaid Bill manager App',\n",
       "       'Mobile Only Shopping Assistant', 'Mobile Messaging Assistant App',\n",
       "       'Personalized Wish List creator app', 'Music Streaming mobile app',\n",
       "       'Raw Meat & Ready to eat food etailer', 'Gym Discovery platform',\n",
       "       'Online Purchase rewards app', 'Home rental platform',\n",
       "       'Crowdsourced Delivery platform', 'Real Estate Insights platform',\n",
       "       'Structural & Civil Engg Service Automation',\n",
       "       'Startup Funding Marketplace', 'Payments Solution platform',\n",
       "       'Travel Destination Discovery platform',\n",
       "       'Order Fulfillment SAAS platform', 'Last Mile Delivery Service',\n",
       "       'Healthcare IT Solutions & services', 'Gourmet Meals Delivery',\n",
       "       'Healthy Meals Food delivery platform', 'Real Estate Mobile CRM',\n",
       "       'Micro-Brewery', 'Home Made Food Marketplace',\n",
       "       'residential rental management platform',\n",
       "       'Personalized Stock Intelligence Platform',\n",
       "       'Personal Diagnostic Mobile App',\n",
       "       'Online food ordering & Delivery service',\n",
       "       'Hotel Aggregator & booking platform', 'Online Logistics Platform',\n",
       "       'Online Student & Campus Social Networking platform',\n",
       "       'Professionals & Project Search Marketplace', 'Online Pharmacy',\n",
       "       'Online Payment Gateway', 'Psychometric Test Online Software',\n",
       "       'Location based Nightlife recommendation\\\\\\\\xc2\\\\\\\\xa0 Platform',\n",
       "       'Professional Health Services Platform',\n",
       "       'Hyperlocal Logistics Service', 'Online user engagement platform',\n",
       "       'Asset Financing platform',\n",
       "       'Virtual Reality activity based learning platform',\n",
       "       'Online Grocery Store', 'Investment management platform',\n",
       "       'Industrial Toons Marketplace', 'Public Commute helper App',\n",
       "       'Artificial Intelligence Ecommerce Chatbot',\n",
       "       'Truck Aggregator & Logistics service', 'Ridesharing Mobile app',\n",
       "       'Food Discovery & Delivery Mobile app',\n",
       "       'Competitive exam learning platform',\n",
       "       'Document Digitization platform',\n",
       "       'proximity marketing & Mobile Advertising platform',\n",
       "       'Autorickshaw Aggregator & Booking platform',\n",
       "       'FinTech Startup Incubation platform', 'Payment Services platform',\n",
       "       'Personalized Styling platform',\n",
       "       'Luxury goods\\\\\\\\xc2\\\\\\\\xa0 Shopping Platform',\n",
       "       'Food Delivery Platform', 'Online Lingerie Marketplace',\n",
       "       'Cloud software solutions', 'Job Search Platform',\n",
       "       'Doctor consultancy Mobile App', 'Small Business Financing (NBFC)',\n",
       "       'Beauty & Wellness Services Marketplace',\n",
       "       'Online Movie Review Platform',\n",
       "       'ECommerce Brands\\\\\\\\xe2\\\\\\\\x80\\\\\\\\x99 Full Service Agency',\n",
       "       'Cloud-based Hotel Booking Platform',\n",
       "       'Community Driven News/Views Platform',\n",
       "       'Study Material Marketplace',\n",
       "       'Restaurant Ratings & Reviews platform',\n",
       "       'Dairy Based Product Manufacturer',\n",
       "       'Government Test Preparation platform',\n",
       "       'Smart Report Cards for Schools', 'Teacher empowerment platform',\n",
       "       'Multilingual Test Preparation Platform',\n",
       "       'Industrial Tools Marketplace',\n",
       "       'Non Profit Organization to alleviate poverty',\n",
       "       'Gym & Fitness Studios Subscription platform',\n",
       "       'pre-used luxury item Marketplace',\n",
       "       'pre-used apparel shopping mobile app',\n",
       "       'Home Design & D\\\\\\\\xc3\\\\\\\\xa9cor platform',\n",
       "       'Used Vehicles Marketplace', 'Online Bus & Cab ticketing platform',\n",
       "       'Mobile App testing platform', 'Hyperlocal Delivery Services',\n",
       "       'Early Cancer Detection Solutions', 'Cab rental Mobile app',\n",
       "       'Online Insurance Distribution Platform',\n",
       "       'Mobile Marketing Automation Platform',\n",
       "       'Prepaid Mobile Bill Manager App',\n",
       "       'Chain of Tea Caf\\\\\\\\xc3\\\\\\\\xa9\\\\\\\\xe2\\\\\\\\x80\\\\\\\\x99s',\n",
       "       'Branded Budget Hotel Marketplace',\n",
       "       'Home Fitting & Fixtures Marketplace',\n",
       "       'Food Subscription platform', 'Wedding Planning Platform',\n",
       "       'B2B Mobile Auction Marketplace',\n",
       "       'ECommerce Data Analytics Platform',\n",
       "       'Designer Merchandize Marketplace',\n",
       "       'Private label Fashion eTailer', 'Online Food ordering & delivery',\n",
       "       'Real Estate Broker Platform App',\n",
       "       'Online Health & Wellness platform', 'Internet of Things platform',\n",
       "       'Diagnostic Labs aggregator platform',\n",
       "       'Hyperlocal Delivery Platform', 'Home Medical Care Services',\n",
       "       'Real-Time stock data platform',\n",
       "       'Food discovery & table booking app',\n",
       "       'coupons and cashback aggregator app',\n",
       "       'Financial Products lead generation platform',\n",
       "       'Sustainable Agri-inputs Firm', 'Financial Services Portal',\n",
       "       'Pre-owned games Marketplace',\n",
       "       'Content-based Subscription eCommerce platform',\n",
       "       'virtual reality, 3d simulation and stereoscopic products',\n",
       "       'Online Interior Designing platform',\n",
       "       'End-to-end Logistics platform', 'Private Label Apparel sales',\n",
       "       'Healthcare Consulting platform', 'Stock Market Portal',\n",
       "       'Cross-device retargeting platform',\n",
       "       'Digital & Physical Publishing platform',\n",
       "       'Data Driven Publishing platform',\n",
       "       'Employee OnBoarding & Orientation platform',\n",
       "       'Solar Power Solutions company', 'Online Meat Ordering platform',\n",
       "       'online meal-booking platform for train travelers',\n",
       "       'hyperlocal delivery platform', 'Cab Booking app platform',\n",
       "       'E-Commerce & M-Commerce platform', 'Mobile Advertising platform',\n",
       "       'Hyperlocal Grocery Delivery',\n",
       "       'Ecommerce Product recommendation platform',\n",
       "       'Activity Based Social Network', 'Fashion Discovery platform',\n",
       "       'Consumer lending marketplace', 'Big Data Management Platform',\n",
       "       'Budget Accommodation Platform', 'Local Mobile OS',\n",
       "       'Digital Signal processing platform', 'Ecommerce Marketplace',\n",
       "       'Restaurant Discount app', 'Tech-enabled learning',\n",
       "       'ECommerce Logistics provider',\n",
       "       'on-demand home beauty and wellness portal',\n",
       "       'Self Driven Car rental', 'Budget Hotel accommodation brand',\n",
       "       'Energy & Environment Online Marketplace',\n",
       "       'User Engagment & Analytics platform',\n",
       "       'On-Demand Delivery Logistics',\n",
       "       'fund raising platform for startups', 'Online budget hotel chain',\n",
       "       'Hyperlocal Handyman services', 'hotel booking app',\n",
       "       'Rental Accomodation finder', 'Tech Platform for property brokers',\n",
       "       'Luxury Apparel rental',\n",
       "       'App security\\\\\\\\xc2\\\\\\\\xa0 testing platform',\n",
       "       'Doctor Appointment booking app', 'anonymous bulletin board app',\n",
       "       'Travel community platform', 'Crowd funding platform',\n",
       "       'Mobile based PoS solution', 'Car & Bike ecommerce platform',\n",
       "       'Fast food Chain Franchisee', 'Loyalty Programs & Reward Points',\n",
       "       'Energy saving solutions provider', 'Self-Storage Spaces',\n",
       "       'Grocery retail Mobile app', 'Taxi Rental platform',\n",
       "       'Machine Learning Platform', 'mobile social network',\n",
       "       'Hyper-Local Ecommerce', 'Online printing marketplace',\n",
       "       'mobile payment software platform',\n",
       "       'Automated Storage & Warehousing Solution',\n",
       "       'Home Design & D\\\\\\\\xc3\\\\\\\\xa9cor solutions',\n",
       "       'Quick Service Restaurant Chain',\n",
       "       'Subscription based Online Grocery platform',\n",
       "       'engineering services company', 'Business and IT consulting',\n",
       "       'Credit Card Fraud protection solutions',\n",
       "       'Online & mobile Grocery store', 'Career Community for Women',\n",
       "       'Mutual Fund Investing platform',\n",
       "       'Ecommerce Marketing Software Platform',\n",
       "       'Financial Inclusion platform',\n",
       "       'Digital Marketing automation solution',\n",
       "       'Mobile Commerce for Farmers', 'Picture based Social App',\n",
       "       'Logistics service platform', 'On-Demand Beauty Services',\n",
       "       'Exam Preparation Platform', 'Startup Focused Online Publisher',\n",
       "       'Waste Management Solutions', 'App based Fitness coaching',\n",
       "       'On demand cleaning & fixing services',\n",
       "       'Beauty & Lifestyle platform', 'on-demand delivery service',\n",
       "       'Data Analytics Platform', 'Deep Learning Cloud Algorithms',\n",
       "       'Location based engagement & rewards platform',\n",
       "       'Online Identity Verification Services platform',\n",
       "       'Corporate Wellness App', 'Fashion Search & Review Platform',\n",
       "       'Hyperlocal Maintenance, Repair & Cleaning services',\n",
       "       'pre-owned Luxury online apparel seller',\n",
       "       'Online Furniture Marketplace',\n",
       "       'Online Diagnostic Tests Marketplace',\n",
       "       'Online marketplace for Photographers', 'Visual Blogging platform',\n",
       "       'Food Customer analytics platform',\n",
       "       'Professional Service Appointment booking service',\n",
       "       'Scientific Horoscope Online Assistance platform',\n",
       "       'Tech enabled AC bus service',\n",
       "       'On-Demand App based Professional service provider',\n",
       "       'Restaurant Reservation Platform', 'Cross-channel CRM platform',\n",
       "       'Professional Custom creators Marketplace',\n",
       "       'on-Demand Washing & Dry-Cleaning', 'On-Demand Beauty Service',\n",
       "       'solar products and services marketplace',\n",
       "       'Online Food Community Platform',\n",
       "       'Private Cloud Networks SAAS platform', 'Education Marketplace',\n",
       "       'Cloud Based Hotel Sales Platform',\n",
       "       'online recipe sharing platform',\n",
       "       'Beauty & Lifestyle Mobile Marketplace', 'QSR Restaurant Chain',\n",
       "       'Digital Media publishing platform',\n",
       "       'Online Coffee Delivery platform',\n",
       "       'Language Localization Cloud platform',\n",
       "       'Big Data & predictive Analysis Platform',\n",
       "       'Business IT Intelligence Services', 'CRM / Analytics platform',\n",
       "       'Hyperlocal Electronics repair Service', 'Ed-Tech Platform',\n",
       "       'IT infrastructure & Data Center services',\n",
       "       'Online Financial Services', 'Used Car Marketplace',\n",
       "       'Language Learning App', 'Mobile Fitness Marketplace',\n",
       "       'Custom Merchandize platform', 'P2P Pre-owned goods marketplace',\n",
       "       'Custom Furniture Marketplace', 'Online Tailoring Services',\n",
       "       'Rail Ticket Confirmation predictor',\n",
       "       'Ethnic Beverages manufacturer', 'Hyperlocal Goods marketplace',\n",
       "       'Budget Accommodation aggregator', 'Real Estate Rating & Analysis',\n",
       "       'Food Delivery platform', 'Food Discovery App',\n",
       "       'Music Streaming App', 'Big Data & Analytics platform',\n",
       "       'Coupon Aggregator Platform', 'Electric Scooter manufacturer',\n",
       "       'Online Food-Tech Platform', 'Celebrity Fashion Brand',\n",
       "       'Online Finance lending platform', 'Healthcare Mobile App',\n",
       "       'Self-driven vehicle rental',\n",
       "       '\\\\\\\\xc2\\\\\\\\xa0News Aggregator mobile app',\n",
       "       '\\\\\\\\xc2\\\\\\\\xa0Online Jewellery Store',\n",
       "       '\\\\\\\\xc2\\\\\\\\xa0Fashion Info Aggregator App',\n",
       "       '\\\\\\\\xc2\\\\\\\\xa0Online Study Notes Marketplace',\n",
       "       '\\\\\\\\xc2\\\\\\\\xa0Warranty Programs Service Administration',\n",
       "       '\\\\\\\\xc2\\\\\\\\xa0Pre-School Chain',\n",
       "       '\\\\\\\\xc2\\\\\\\\xa0Premium Loyalty Rewards Point Management',\n",
       "       '\\\\\\\\xc2\\\\\\\\xa0Contact Center Software Platform',\n",
       "       '\\\\\\\\xc2\\\\\\\\xa0Casual Dining restaurant Chain',\n",
       "       '\\\\\\\\xc2\\\\\\\\xa0Online Grocery Delivery',\n",
       "       'Online comparison engine',\n",
       "       'Residential Rental management platform',\n",
       "       'Physical Storage warehouses', 'Tech Recruitment platform',\n",
       "       'Bike Rental Platform', 'Tech enabled logistics platform',\n",
       "       'Budget Hotel Accommodation',\n",
       "       'Restaurant customer engagement platform',\n",
       "       'Live video streaming app', 'Hyper local logistics platform',\n",
       "       'Crowd Funding Platform', 'F&B sector Mobile Payment platform',\n",
       "       'Industrial Supplies B2B ecommerce', 'Payment Solutions platform',\n",
       "       'Online Hiring Platform', 'Organic Food ecommerce',\n",
       "       'Fine Dining Restaurant Chain', 'Luxury Rental Homes',\n",
       "       'Mobile Point of Sale payment solution', 'Online Grocers',\n",
       "       'Casual Dating App', 'Clinical Genomics Provider',\n",
       "       'Travel information portal', 'Fitness Marketplace',\n",
       "       'Online & Mobile classified listings',\n",
       "       'Private Jet/ Helicopter Marketplace',\n",
       "       'Real Estate Broker network App',\n",
       "       'Ethnic/ Traditional Fashion Store', 'Used Bikes Marketplace',\n",
       "       'Spa & Salon Management Software',\n",
       "       'B2B logistics delivery platform', 'Logistics Automation Platform',\n",
       "       'Online home d\\\\\\\\xc3\\\\\\\\xa9cor marketplace',\n",
       "       'Hyperlocal food & grocery store', 'Hyperlocal Handyman Services',\n",
       "       'Medical Tech Instruments', 'Hyperlocal Deals Marketplace',\n",
       "       'Innovative Water Solutions', 'Online Jewelry Store',\n",
       "       'Business intelligence & Analytics', 'Used Vehicle Marketplace',\n",
       "       'Educational Board Games', 'Chinese food delivery',\n",
       "       'On-Demand Laundry & Dry cleaning App',\n",
       "       'On-Demand Car services App', 'Hyperlocal Grocery App',\n",
       "       'Online Curated Holiday package bookings',\n",
       "       'Hasbro Toy Manufacturer', 'Beauty and Wellness Platform',\n",
       "       'Healthy Food Manufacturer', 'Online Learning Platform',\n",
       "       'Healthy Food Online Community', 'Used two-wheeler Marketplace',\n",
       "       'Online Fashion Video Portal',\n",
       "       'Probiotic Technology Products Manufacturer',\n",
       "       'Architectural Design & Consulting',\n",
       "       'Big Data & Analytics Services', 'Preventive Healthcare Services',\n",
       "       'Tech-enabled Rural Healthcare Services',\n",
       "       'Engineering Innovations', 'Real Estate Intelligence Platform',\n",
       "       'Online Car Rental Affiliates', 'Data Center Software platform',\n",
       "       'Online City & Lifestyle Guide', 'P2P Payments platform',\n",
       "       'Bespoke Merchandize Marketplace', 'Women Lifestyle Marketplace',\n",
       "       'Logistics Solution Provider', 'Video Intelligence Platform',\n",
       "       'Hyperlocal Shopping App', 'eCommerce platform',\n",
       "       'Renewable energy solutions', 'Healthcare\\\\\\\\nService provider',\n",
       "       'Auto Rickshaw Based Services', 'Artist / Designer Marketplace',\n",
       "       'Off-grid Solar Power', 'Private Label lingerie Ecommerce',\n",
       "       'Online Food Ordering', 'Mobile Commerce Platform',\n",
       "       'Online Printing Services', 'Digital Marketing Services',\n",
       "       'Travel Guide Mobile App', 'Fashion Ecommerce store',\n",
       "       'Mobile Compression Software', 'Peer to Peer Lending platform',\n",
       "       'Global Healthcare products', 'Home Furnishing Solutions',\n",
       "       'Skill Training & Placement Platform',\n",
       "       'Intra-City Logistics service', 'online tiffin service aggregator',\n",
       "       'Electronic Goods recycling service',\n",
       "       'Online Coupon & comparison platform',\n",
       "       'Parents & Kids Online platform', 'Dental Clinic chain',\n",
       "       'On-Demand Logistics Service', '3D Printer Manufacturer',\n",
       "       'IT / Customer Engagement Consulting', 'Health & Fitness App',\n",
       "       'Online Education Marketplace', 'Financial Services Platform',\n",
       "       'Social Network for Artists', 'Startup funding platform',\n",
       "       'Data Driven recruitment recommendation', 'Travel Search Engine',\n",
       "       'Brain Games Platform', 'Video Advertisement Platform',\n",
       "       'Algorithmic Match Making Platform',\n",
       "       'Mobile Chat based concierge service',\n",
       "       'Online Budget Hotel Booking Service',\n",
       "       'Online education marketplace', 'Preventive healthcare services',\n",
       "       'Science Learning App', 'Beauty and Wellness platform',\n",
       "       'Online Education Platform', 'SaaS product intelligence platform',\n",
       "       'App Analytics platform', 'Micro Finance Platform',\n",
       "       'Freight logistics platform', 'Credit Management Services',\n",
       "       'Hyperlocal services marketplace',\n",
       "       'Beauty services Mobile Marketplace',\n",
       "       'Marketing / Advertising Automation platform',\n",
       "       'Online Lingerie platform', 'Railways Information Mobile app',\n",
       "       'Hyperlocal grocery delivery', 'Flat rental Mobile App',\n",
       "       'Wealth Management Platform', 'Online Food Delivery',\n",
       "       'Fund Raising Platform', 'Workforce Management Software',\n",
       "       'Online Art Marketplace', 'Affordable Education',\n",
       "       'Career Development', 'Real Estate Advisory',\n",
       "       'Banking Analytics Platform', 'Customer Engagement Platform',\n",
       "       'Ecommerce Logistics', 'Speech Recognition Solutions',\n",
       "       'Online Product Comparison', 'Online Security Platform',\n",
       "       'Online Medical Diagnostic', 'Cloud Data Integration Platform',\n",
       "       'Mobile Laundry Cleaning Service', 'Service-On-Demand Mobile App',\n",
       "       'Intelligent Data Analytics', 'Online Office Rental',\n",
       "       'Lifestyle Ecommerce Portal', 'Online Fashion Aggregator',\n",
       "       'Online Job skills Showcase', 'Online News Media',\n",
       "       'Enterprise Communication Platform', 'Offline Tea Chain',\n",
       "       'Business Messaging App', 'Health Mobile App',\n",
       "       'Online Ed-Tech Platform', 'Online Travel Planning',\n",
       "       'Hyperlocal Mobile Marketplace', 'Trucking Logistic Operations',\n",
       "       'B2C Messaging App', 'Rooftop Solar Plants', 'Online Car Portal',\n",
       "       'Online Table Reservation', 'Parents focused Web Content',\n",
       "       'Payments Solution Provider', 'On-demand Service marketplace',\n",
       "       'On-Demand Business messaging', 'Online Home D\\\\\\\\xc3\\\\\\\\xa9cor',\n",
       "       'API Workflow platform', 'Affordable Hotel Booking Online',\n",
       "       'Logistics Intelligence', 'Last Mile Logistics',\n",
       "       'Self-driven Car rental', 'Weight Management Service',\n",
       "       'Electric Scooter Manufacturer', 'Web Content Publishing',\n",
       "       'Location Based App', 'Video Streaming', 'Price Comparison',\n",
       "       'Online Classifieds', 'Travel Entertainment',\n",
       "       'Digital / Mobile Wallet', 'Cab Aggregator', 'Device Repair Svcs',\n",
       "       'Premium Beverages', 'Online Furnishing\\\\\\\\neCommerce',\n",
       "       'Interactive\\\\\\\\xc2\\\\\\\\xa0 How-To Guides', 'Mobile Health Tech',\n",
       "       'Restaurant Reviews', 'Online Grocer', 'Online Hotel Booking',\n",
       "       'Online Kitchen Furniture', 'Hyper-local Online Services',\n",
       "       'Hyper-Local Online/Mobile Grocery', 'Online Policy Aggregator',\n",
       "       'Hyperlocal Mobile Services Marketplace',\n",
       "       'OnDemand\\\\\\\\nMobile Handyman Services', 'Mobile App Development',\n",
       "       'On-Demand Handyman Services', 'Beauty & Wellness Mobile App',\n",
       "       'Material Collection & Recycling', 'Online Pharmacy & Drug DB',\n",
       "       'Online / Mobile Customer Support',\n",
       "       'Online Classifieds & Listings', 'Fashion ECommerce',\n",
       "       'Private Coaching Centers', 'Online Certification Courses',\n",
       "       'Ethnic Product eCommerce',\n",
       "       'Last Minute Travel Deals mobile marketplace',\n",
       "       'usiness expense management', 'Auto Rickshaw based Logistics',\n",
       "       'Restaurant reservation app', 'Spam Call block App',\n",
       "       'Online Insurance Aggregator', 'Restaurant Management Platform',\n",
       "       'Food Logistics & Delivery', 'Interactive Educational Games',\n",
       "       'Clean Tech', 'Grey collar Job Board',\n",
       "       'Online Furniture ecommerce', 'Robotic Program learning',\n",
       "       'Tele-Shopping / eCommerce', 'Used Gadgets Buy / Refurbishing',\n",
       "       'Cloud Enterprise Software', 'Startup Analytics platform',\n",
       "       'Mobile Food Ordering app', 'Financial Markets Software',\n",
       "       'Hiring Analytics platform', 'Online Travel Marketplace'],\n",
       "      dtype=object)"
      ]
     },
     "execution_count": 36,
     "metadata": {},
     "output_type": "execute_result"
    }
   ],
   "source": [
    "df[\"Industry Vertical\"].unique()"
   ]
  },
  {
   "cell_type": "code",
   "execution_count": 37,
   "metadata": {
    "collapsed": true,
    "jupyter": {
     "outputs_hidden": true
    }
   },
   "outputs": [
    {
     "data": {
      "text/plain": [
       "0                                      Financial Services\n",
       "1       Invoice discounting platform and SME lending m...\n",
       "2                                  Digital marketing firm\n",
       "3                                    Education Technology\n",
       "4                              Building automation system\n",
       "5                                         Deep-technology\n",
       "6                   Consumer Electronics, Home Appliances\n",
       "7                                  Wearable Fitness Bands\n",
       "8                        Mobile-based Accounting Software\n",
       "9                                              Automotive\n",
       "10                                Supply Chain Management\n",
       "11                                          Fuel Delivery\n",
       "12                                               VC Funds\n",
       "13                Last-mile retail transaction technology\n",
       "14                                        Social Commerce\n",
       "15                                             Car Retail\n",
       "16                                      Conversational AI\n",
       "17                                  Road Safety Analytics\n",
       "18                            Low carb food for Diabetics\n",
       "19                               Digital Lending Platform\n",
       "20                                      Wealth Management\n",
       "21                                           B2B Foodtech\n",
       "22                                  University Admissions\n",
       "23                                         Product Review\n",
       "24                                       Grocery Delivery\n",
       "25                                              Bike Taxi\n",
       "26                                         Auto Insurance\n",
       "27                                               Big Data\n",
       "28                                             Consulting\n",
       "29                                                   Cabs\n",
       "                              ...                        \n",
       "2979                              Online Lending Platform\n",
       "2980                              Online Lending Platform\n",
       "2981                              Online Lending Platform\n",
       "2982                              Online Lending Platform\n",
       "2983                              Online Lending Platform\n",
       "2984                              Online Lending Platform\n",
       "2985                              Online Lending Platform\n",
       "2986                              Online Lending Platform\n",
       "2987                              Online Lending Platform\n",
       "2988                              Online Lending Platform\n",
       "2989                              Online Lending Platform\n",
       "2990                              Online Lending Platform\n",
       "2991                              Online Lending Platform\n",
       "2992                              Online Lending Platform\n",
       "2993                              Online Lending Platform\n",
       "2994                              Online Lending Platform\n",
       "2995                              Online Lending Platform\n",
       "2996                              Online Lending Platform\n",
       "2997                              Online Lending Platform\n",
       "2998                              Online Lending Platform\n",
       "2999                              Online Lending Platform\n",
       "3000                              Online Lending Platform\n",
       "3001                              Online Lending Platform\n",
       "3002                              Online Lending Platform\n",
       "3003                              Online Lending Platform\n",
       "3004                              Online Lending Platform\n",
       "3005                              Online Lending Platform\n",
       "3006                              Online Lending Platform\n",
       "3007                              Online Lending Platform\n",
       "3008                              Online Lending Platform\n",
       "Name: SubVertical, Length: 3009, dtype: object"
      ]
     },
     "execution_count": 37,
     "metadata": {},
     "output_type": "execute_result"
    }
   ],
   "source": [
    "df[\"SubVertical\"]"
   ]
  },
  {
   "cell_type": "code",
   "execution_count": 38,
   "metadata": {
    "collapsed": true,
    "jupyter": {
     "outputs_hidden": true
    }
   },
   "outputs": [
    {
     "data": {
      "text/plain": [
       "array(['Pune', 'Mumbai', 'Hyderabad', 'Burnsville', 'Bengaluru',\n",
       "       'Menlo Park', 'Gurgaon', 'New Delhi', 'Noida', 'Gurugram',\n",
       "       'Palo Alto', 'San Francisco', 'Santa Monica', 'Singapore',\n",
       "       'Kormangala', 'Taramani', 'Andheri', 'Chembur', 'Nairobi',\n",
       "       'Haryana', 'New York', 'Karnataka', 'Mumbai/Bengaluru', 'Delhi',\n",
       "       'Bhopal', 'Bengaluru and Gurugram', 'India/Singapore', 'Jaipur',\n",
       "       'India/US', 'Chennai', 'Nagpur', 'Indore', 'New York, Bengaluru',\n",
       "       'California', 'India', 'Ahemadabad', 'Rourkela', 'Srinagar',\n",
       "       'Bhubneswar', 'Chandigarh', 'Delhi & Cambridge', 'Kolkatta',\n",
       "       'Kolkata', 'Coimbatore', 'Bangalore', 'Faridabad', 'Udaipur',\n",
       "       'Ahemdabad', 'Bhubaneswar', 'Ahmedabad', 'Surat', 'Goa',\n",
       "       'Uttar Pradesh', 'Nw Delhi', 'Gaya', 'Vadodara', 'Trivandrum',\n",
       "       'Missourie', 'Panaji', 'Gwalior', 'Karur', 'Udupi', 'Kochi',\n",
       "       'Agra', 'Bangalore/ Bangkok', 'Hubli', 'Kerala', 'Kozhikode', 'US',\n",
       "       'Siliguri', 'USA', 'Lucknow', 'Kanpur', 'SFO / Bangalore',\n",
       "       'London', 'Seattle / Bangalore', 'Pune/Seattle', 'Pune / Dubai',\n",
       "       'Bangalore / SFO', 'Varanasi', 'New Delhi / US', 'Mumbai / UK',\n",
       "       'Jodhpur', 'Hyderabad/USA', 'Boston', 'Bangalore / Palo Alto',\n",
       "       'Mumbai / NY', 'USA/India', 'Goa/Hyderabad', 'Noida / Singapore',\n",
       "       'Belgaum', 'Pune / US', 'Chennai/ Singapore', 'Pune / Singapore',\n",
       "       'Bangalore / San Mateo', 'New York/ India', 'US/India',\n",
       "       'Gurgaon / SFO', 'Bangalore / USA', 'New Delhi/ Houston',\n",
       "       'Mumbai / Global', 'India / US', '\\\\\\\\xc2\\\\\\\\xa0Noida',\n",
       "       '\\\\\\\\xc2\\\\\\\\xa0Bangalore', '\\\\\\\\xc2\\\\\\\\xa0Gurgaon',\n",
       "       '\\\\\\\\xc2\\\\\\\\xa0New Delhi', '\\\\\\\\xc2\\\\\\\\xa0Mumbai',\n",
       "       'New Delhi / California', 'Dallas / Hyderabad'], dtype=object)"
      ]
     },
     "execution_count": 38,
     "metadata": {},
     "output_type": "execute_result"
    }
   ],
   "source": [
    "df[\"City  Location\"].unique()"
   ]
  },
  {
   "cell_type": "code",
   "execution_count": 39,
   "metadata": {
    "collapsed": true,
    "jupyter": {
     "outputs_hidden": true
    }
   },
   "outputs": [
    {
     "data": {
      "text/plain": [
       "Undisclosed Investors                                                                                                                                      39\n",
       "Undisclosed investors                                                                                                                                      30\n",
       "Ratan Tata                                                                                                                                                 25\n",
       "Indian Angel Network                                                                                                                                       23\n",
       "Kalaari Capital                                                                                                                                            16\n",
       "Sequoia Capital                                                                                                                                            15\n",
       "Group of Angel Investors                                                                                                                                   15\n",
       "Accel Partners                                                                                                                                             12\n",
       "Undisclosed Investor                                                                                                                                       12\n",
       "Undisclosed                                                                                                                                                11\n",
       "undisclosed investors                                                                                                                                      11\n",
       "Venture Catalysts                                                                                                                                          11\n",
       "Brand Capital                                                                                                                                              11\n",
       "RoundGlass Partners                                                                                                                                        10\n",
       "SAIF Partners                                                                                                                                              10\n",
       "Info Edge (India) Ltd                                                                                                                                       9\n",
       "Nexus Venture Partners                                                                                                                                      9\n",
       "Undisclosed investor                                                                                                                                        9\n",
       "Trifecta Capital                                                                                                                                            8\n",
       "Unitus Seed Fund                                                                                                                                            8\n",
       "Blume Ventures                                                                                                                                              8\n",
       "Tiger Global                                                                                                                                                8\n",
       "Matrix Partners                                                                                                                                             7\n",
       "YouWeCan Ventures                                                                                                                                           7\n",
       "Bessemer Venture Partners                                                                                                                                   6\n",
       "Y Combinator                                                                                                                                                6\n",
       "The Chennai Angels                                                                                                                                          6\n",
       "Tiger Global Management                                                                                                                                     6\n",
       "Sixth Sense Ventures                                                                                                                                        5\n",
       "Kae Capital                                                                                                                                                 5\n",
       "                                                                                                                                                           ..\n",
       "Tano Capital                                                                                                                                                1\n",
       "Raj Singh Bhandal                                                                                                                                           1\n",
       "Chicago Capital Ventures, Sanjay Mehta, Others                                                                                                              1\n",
       "KCL                                                                                                                                                         1\n",
       "Manish Singhal, P39 Capital & Others                                                                                                                        1\n",
       "Ashish Mahajan, Sarvesh Sharma                                                                                                                              1\n",
       "Mahindra & Mahindra and Infuse Ventures                                                                                                                     1\n",
       "Ritesh Dwivedy, Ramakant Sharma, Mount Nathan Advisors                                                                                                      1\n",
       "Peepul Capital                                                                                                                                              1\n",
       "Norwest Venture Partners, DST Global, Accel Partners                                                                                                        1\n",
       "Mumbai Angels, Singapore Angel Network, Zishaan Hayath                                                                                                      1\n",
       "Unicorn Venture                                                                                                                                             1\n",
       "Rudy Gopalakrishnan, ah! Ventures                                                                                                                           1\n",
       "Ambarish Gupta, Aneesh Reddy, Bold Ventures, Vona Investments                                                                                               1\n",
       "Helion Venture Partners, Orios Venture Partners                                                                                                             1\n",
       "M&Y Partners, SVG Media, Anthil Ventures & others                                                                                                           1\n",
       "Bodhtree Consulting Limited                                                                                                                                 1\n",
       "Multiple investors                                                                                                                                          1\n",
       "Jozef Bardik, Leo Wang Sangeeth Ram                                                                                                                         1\n",
       "Mitesh Majithia                                                                                                                                             1\n",
       "BlueOrchard Finance Ltd, Hinduja Leyland Finance and IntelleGrow                                                                                            1\n",
       "Matrix Partner, Amrish Rau, Investopad, Digital Currency Group, Hinduja Group, Lightspeed India, Eight Innovate, Amit Ranjan, Prashant Malik and others     1\n",
       "Ravi Agarwal                                                                                                                                                1\n",
       "Mahavir Sharma, Vishal Jain, Rohit Sethi, Gaurav Luniya                                                                                                     1\n",
       "Rajnish Sinha, Prijit Debnath, Kanchan Ghoshal                                                                                                              1\n",
       "Arjun Handa, Amit Jindal, Nagendra Chaudhary                                                                                                                1\n",
       "GWB Group, Blume Ventures                                                                                                                                   1\n",
       "Sa\\\\xc3\\\\xafd Business School Seed Fund.                                                                                                                    1\n",
       "Indian Angel Network, Native Angels Network                                                                                                                 1\n",
       "Ranjan Mahtani                                                                                                                                              1\n",
       "Name: Investorsxe2x80x99 Name, Length: 2385, dtype: int64"
      ]
     },
     "execution_count": 39,
     "metadata": {},
     "output_type": "execute_result"
    }
   ],
   "source": [
    "df[\"Investorsxe2x80x99 Name\"].value_counts()"
   ]
  },
  {
   "cell_type": "code",
   "execution_count": 34,
   "metadata": {},
   "outputs": [
    {
     "data": {
      "text/html": [
       "<div>\n",
       "<style scoped>\n",
       "    .dataframe tbody tr th:only-of-type {\n",
       "        vertical-align: middle;\n",
       "    }\n",
       "\n",
       "    .dataframe tbody tr th {\n",
       "        vertical-align: top;\n",
       "    }\n",
       "\n",
       "    .dataframe thead th {\n",
       "        text-align: right;\n",
       "    }\n",
       "</style>\n",
       "<table border=\"1\" class=\"dataframe\">\n",
       "  <thead>\n",
       "    <tr style=\"text-align: right;\">\n",
       "      <th></th>\n",
       "      <th>Sr No</th>\n",
       "      <th>Date ddmmyyyy</th>\n",
       "      <th>Startup Name</th>\n",
       "      <th>Industry Vertical</th>\n",
       "      <th>SubVertical</th>\n",
       "      <th>City  Location</th>\n",
       "      <th>Investorsxe2x80x99 Name</th>\n",
       "      <th>InvestmentnType</th>\n",
       "      <th>Amount in USD</th>\n",
       "      <th>Remarks</th>\n",
       "    </tr>\n",
       "  </thead>\n",
       "  <tbody>\n",
       "    <tr>\n",
       "      <th>0</th>\n",
       "      <td>0</td>\n",
       "      <td>05/09/2019</td>\n",
       "      <td>FPL Technologies</td>\n",
       "      <td>FinTech</td>\n",
       "      <td>Financial Services</td>\n",
       "      <td>Pune</td>\n",
       "      <td>Matrix Partners India, Sequoia India</td>\n",
       "      <td>Maiden Round</td>\n",
       "      <td>4500000.0</td>\n",
       "      <td>NaN</td>\n",
       "    </tr>\n",
       "    <tr>\n",
       "      <th>1</th>\n",
       "      <td>1</td>\n",
       "      <td>04/09/2019</td>\n",
       "      <td>Cashflo</td>\n",
       "      <td>FinTech</td>\n",
       "      <td>Invoice discounting platform and SME lending m...</td>\n",
       "      <td>Mumbai</td>\n",
       "      <td>SAIF Partners</td>\n",
       "      <td>Series A</td>\n",
       "      <td>3300000.0</td>\n",
       "      <td>NaN</td>\n",
       "    </tr>\n",
       "    <tr>\n",
       "      <th>2</th>\n",
       "      <td>2</td>\n",
       "      <td>04/09/2019</td>\n",
       "      <td>Digital F5</td>\n",
       "      <td>Advertising, Marketing</td>\n",
       "      <td>Digital marketing firm</td>\n",
       "      <td>Mumbai</td>\n",
       "      <td>TIW Private Equity</td>\n",
       "      <td>Private Equity Round</td>\n",
       "      <td>6000000.0</td>\n",
       "      <td>NaN</td>\n",
       "    </tr>\n",
       "    <tr>\n",
       "      <th>3</th>\n",
       "      <td>3</td>\n",
       "      <td>04/09/2019</td>\n",
       "      <td>3rdFlix</td>\n",
       "      <td>SaaS</td>\n",
       "      <td>Education Technology</td>\n",
       "      <td>Hyderabad</td>\n",
       "      <td>Exfinity Venture Partners</td>\n",
       "      <td>pre-series A</td>\n",
       "      <td>5000000.0</td>\n",
       "      <td>NaN</td>\n",
       "    </tr>\n",
       "    <tr>\n",
       "      <th>4</th>\n",
       "      <td>4</td>\n",
       "      <td>04/09/2019</td>\n",
       "      <td>75F</td>\n",
       "      <td>IoT</td>\n",
       "      <td>Building automation system</td>\n",
       "      <td>Burnsville</td>\n",
       "      <td>Breakthrough Energy Ventures</td>\n",
       "      <td>Series A</td>\n",
       "      <td>18000000.0</td>\n",
       "      <td>NaN</td>\n",
       "    </tr>\n",
       "  </tbody>\n",
       "</table>\n",
       "</div>"
      ],
      "text/plain": [
       "   Sr No Date ddmmyyyy      Startup Name       Industry Vertical  \\\n",
       "0      0    05/09/2019  FPL Technologies                 FinTech   \n",
       "1      1    04/09/2019           Cashflo                 FinTech   \n",
       "2      2    04/09/2019        Digital F5  Advertising, Marketing   \n",
       "3      3    04/09/2019           3rdFlix                    SaaS   \n",
       "4      4    04/09/2019               75F                     IoT   \n",
       "\n",
       "                                         SubVertical City  Location  \\\n",
       "0                                 Financial Services           Pune   \n",
       "1  Invoice discounting platform and SME lending m...         Mumbai   \n",
       "2                             Digital marketing firm         Mumbai   \n",
       "3                               Education Technology      Hyderabad   \n",
       "4                         Building automation system     Burnsville   \n",
       "\n",
       "                Investorsxe2x80x99 Name       InvestmentnType  Amount in USD  \\\n",
       "0  Matrix Partners India, Sequoia India          Maiden Round      4500000.0   \n",
       "1                         SAIF Partners              Series A      3300000.0   \n",
       "2                    TIW Private Equity  Private Equity Round      6000000.0   \n",
       "3             Exfinity Venture Partners          pre-series A      5000000.0   \n",
       "4          Breakthrough Energy Ventures              Series A     18000000.0   \n",
       "\n",
       "  Remarks  \n",
       "0     NaN  \n",
       "1     NaN  \n",
       "2     NaN  \n",
       "3     NaN  \n",
       "4     NaN  "
      ]
     },
     "execution_count": 34,
     "metadata": {},
     "output_type": "execute_result"
    }
   ],
   "source": [
    "df.head()"
   ]
  },
  {
   "cell_type": "code",
   "execution_count": 35,
   "metadata": {},
   "outputs": [],
   "source": [
    "df.rename(columns={\"Date ddmmyyyy\":\"Date\" ,\n",
    "          \"SubVertical\":\"Sub Vertical\" , \n",
    "          \"Investorsxe2x80x99 Name\":\"Investors Name\"} , inplace=True)"
   ]
  },
  {
   "cell_type": "code",
   "execution_count": 36,
   "metadata": {},
   "outputs": [
    {
     "data": {
      "text/html": [
       "<div>\n",
       "<style scoped>\n",
       "    .dataframe tbody tr th:only-of-type {\n",
       "        vertical-align: middle;\n",
       "    }\n",
       "\n",
       "    .dataframe tbody tr th {\n",
       "        vertical-align: top;\n",
       "    }\n",
       "\n",
       "    .dataframe thead th {\n",
       "        text-align: right;\n",
       "    }\n",
       "</style>\n",
       "<table border=\"1\" class=\"dataframe\">\n",
       "  <thead>\n",
       "    <tr style=\"text-align: right;\">\n",
       "      <th></th>\n",
       "      <th>Sr No</th>\n",
       "      <th>Date</th>\n",
       "      <th>Startup Name</th>\n",
       "      <th>Industry Vertical</th>\n",
       "      <th>Sub Vertical</th>\n",
       "      <th>City  Location</th>\n",
       "      <th>Investors Name</th>\n",
       "      <th>InvestmentnType</th>\n",
       "      <th>Amount in USD</th>\n",
       "      <th>Remarks</th>\n",
       "    </tr>\n",
       "  </thead>\n",
       "  <tbody>\n",
       "    <tr>\n",
       "      <th>0</th>\n",
       "      <td>0</td>\n",
       "      <td>05/09/2019</td>\n",
       "      <td>FPL Technologies</td>\n",
       "      <td>FinTech</td>\n",
       "      <td>Financial Services</td>\n",
       "      <td>Pune</td>\n",
       "      <td>Matrix Partners India, Sequoia India</td>\n",
       "      <td>Maiden Round</td>\n",
       "      <td>4500000.0</td>\n",
       "      <td>NaN</td>\n",
       "    </tr>\n",
       "    <tr>\n",
       "      <th>1</th>\n",
       "      <td>1</td>\n",
       "      <td>04/09/2019</td>\n",
       "      <td>Cashflo</td>\n",
       "      <td>FinTech</td>\n",
       "      <td>Invoice discounting platform and SME lending m...</td>\n",
       "      <td>Mumbai</td>\n",
       "      <td>SAIF Partners</td>\n",
       "      <td>Series A</td>\n",
       "      <td>3300000.0</td>\n",
       "      <td>NaN</td>\n",
       "    </tr>\n",
       "    <tr>\n",
       "      <th>2</th>\n",
       "      <td>2</td>\n",
       "      <td>04/09/2019</td>\n",
       "      <td>Digital F5</td>\n",
       "      <td>Advertising, Marketing</td>\n",
       "      <td>Digital marketing firm</td>\n",
       "      <td>Mumbai</td>\n",
       "      <td>TIW Private Equity</td>\n",
       "      <td>Private Equity Round</td>\n",
       "      <td>6000000.0</td>\n",
       "      <td>NaN</td>\n",
       "    </tr>\n",
       "    <tr>\n",
       "      <th>3</th>\n",
       "      <td>3</td>\n",
       "      <td>04/09/2019</td>\n",
       "      <td>3rdFlix</td>\n",
       "      <td>SaaS</td>\n",
       "      <td>Education Technology</td>\n",
       "      <td>Hyderabad</td>\n",
       "      <td>Exfinity Venture Partners</td>\n",
       "      <td>pre-series A</td>\n",
       "      <td>5000000.0</td>\n",
       "      <td>NaN</td>\n",
       "    </tr>\n",
       "    <tr>\n",
       "      <th>4</th>\n",
       "      <td>4</td>\n",
       "      <td>04/09/2019</td>\n",
       "      <td>75F</td>\n",
       "      <td>IoT</td>\n",
       "      <td>Building automation system</td>\n",
       "      <td>Burnsville</td>\n",
       "      <td>Breakthrough Energy Ventures</td>\n",
       "      <td>Series A</td>\n",
       "      <td>18000000.0</td>\n",
       "      <td>NaN</td>\n",
       "    </tr>\n",
       "  </tbody>\n",
       "</table>\n",
       "</div>"
      ],
      "text/plain": [
       "   Sr No        Date      Startup Name       Industry Vertical  \\\n",
       "0      0  05/09/2019  FPL Technologies                 FinTech   \n",
       "1      1  04/09/2019           Cashflo                 FinTech   \n",
       "2      2  04/09/2019        Digital F5  Advertising, Marketing   \n",
       "3      3  04/09/2019           3rdFlix                    SaaS   \n",
       "4      4  04/09/2019               75F                     IoT   \n",
       "\n",
       "                                        Sub Vertical City  Location  \\\n",
       "0                                 Financial Services           Pune   \n",
       "1  Invoice discounting platform and SME lending m...         Mumbai   \n",
       "2                             Digital marketing firm         Mumbai   \n",
       "3                               Education Technology      Hyderabad   \n",
       "4                         Building automation system     Burnsville   \n",
       "\n",
       "                         Investors Name       InvestmentnType  Amount in USD  \\\n",
       "0  Matrix Partners India, Sequoia India          Maiden Round      4500000.0   \n",
       "1                         SAIF Partners              Series A      3300000.0   \n",
       "2                    TIW Private Equity  Private Equity Round      6000000.0   \n",
       "3             Exfinity Venture Partners          pre-series A      5000000.0   \n",
       "4          Breakthrough Energy Ventures              Series A     18000000.0   \n",
       "\n",
       "  Remarks  \n",
       "0     NaN  \n",
       "1     NaN  \n",
       "2     NaN  \n",
       "3     NaN  \n",
       "4     NaN  "
      ]
     },
     "execution_count": 36,
     "metadata": {},
     "output_type": "execute_result"
    }
   ],
   "source": [
    "df.head()"
   ]
  },
  {
   "cell_type": "code",
   "execution_count": 37,
   "metadata": {},
   "outputs": [],
   "source": [
    "Date = df[\"Date\"]"
   ]
  },
  {
   "cell_type": "code",
   "execution_count": 38,
   "metadata": {},
   "outputs": [
    {
     "data": {
      "text/html": [
       "<div>\n",
       "<style scoped>\n",
       "    .dataframe tbody tr th:only-of-type {\n",
       "        vertical-align: middle;\n",
       "    }\n",
       "\n",
       "    .dataframe tbody tr th {\n",
       "        vertical-align: top;\n",
       "    }\n",
       "\n",
       "    .dataframe thead th {\n",
       "        text-align: right;\n",
       "    }\n",
       "</style>\n",
       "<table border=\"1\" class=\"dataframe\">\n",
       "  <thead>\n",
       "    <tr style=\"text-align: right;\">\n",
       "      <th></th>\n",
       "      <th>Sr No</th>\n",
       "      <th>Date</th>\n",
       "      <th>Startup Name</th>\n",
       "      <th>Industry Vertical</th>\n",
       "      <th>Sub Vertical</th>\n",
       "      <th>City  Location</th>\n",
       "      <th>Investors Name</th>\n",
       "      <th>InvestmentnType</th>\n",
       "      <th>Amount in USD</th>\n",
       "      <th>Remarks</th>\n",
       "    </tr>\n",
       "  </thead>\n",
       "  <tbody>\n",
       "    <tr>\n",
       "      <th>0</th>\n",
       "      <td>0</td>\n",
       "      <td>05/09/2019</td>\n",
       "      <td>FPL Technologies</td>\n",
       "      <td>FinTech</td>\n",
       "      <td>Financial Services</td>\n",
       "      <td>Pune</td>\n",
       "      <td>Matrix Partners India, Sequoia India</td>\n",
       "      <td>Maiden Round</td>\n",
       "      <td>4500000.0</td>\n",
       "      <td>NaN</td>\n",
       "    </tr>\n",
       "    <tr>\n",
       "      <th>1</th>\n",
       "      <td>1</td>\n",
       "      <td>04/09/2019</td>\n",
       "      <td>Cashflo</td>\n",
       "      <td>FinTech</td>\n",
       "      <td>Invoice discounting platform and SME lending m...</td>\n",
       "      <td>Mumbai</td>\n",
       "      <td>SAIF Partners</td>\n",
       "      <td>Series A</td>\n",
       "      <td>3300000.0</td>\n",
       "      <td>NaN</td>\n",
       "    </tr>\n",
       "    <tr>\n",
       "      <th>2</th>\n",
       "      <td>2</td>\n",
       "      <td>04/09/2019</td>\n",
       "      <td>Digital F5</td>\n",
       "      <td>Advertising, Marketing</td>\n",
       "      <td>Digital marketing firm</td>\n",
       "      <td>Mumbai</td>\n",
       "      <td>TIW Private Equity</td>\n",
       "      <td>Private Equity Round</td>\n",
       "      <td>6000000.0</td>\n",
       "      <td>NaN</td>\n",
       "    </tr>\n",
       "    <tr>\n",
       "      <th>3</th>\n",
       "      <td>3</td>\n",
       "      <td>04/09/2019</td>\n",
       "      <td>3rdFlix</td>\n",
       "      <td>SaaS</td>\n",
       "      <td>Education Technology</td>\n",
       "      <td>Hyderabad</td>\n",
       "      <td>Exfinity Venture Partners</td>\n",
       "      <td>pre-series A</td>\n",
       "      <td>5000000.0</td>\n",
       "      <td>NaN</td>\n",
       "    </tr>\n",
       "    <tr>\n",
       "      <th>4</th>\n",
       "      <td>4</td>\n",
       "      <td>04/09/2019</td>\n",
       "      <td>75F</td>\n",
       "      <td>IoT</td>\n",
       "      <td>Building automation system</td>\n",
       "      <td>Burnsville</td>\n",
       "      <td>Breakthrough Energy Ventures</td>\n",
       "      <td>Series A</td>\n",
       "      <td>18000000.0</td>\n",
       "      <td>NaN</td>\n",
       "    </tr>\n",
       "  </tbody>\n",
       "</table>\n",
       "</div>"
      ],
      "text/plain": [
       "   Sr No        Date      Startup Name       Industry Vertical  \\\n",
       "0      0  05/09/2019  FPL Technologies                 FinTech   \n",
       "1      1  04/09/2019           Cashflo                 FinTech   \n",
       "2      2  04/09/2019        Digital F5  Advertising, Marketing   \n",
       "3      3  04/09/2019           3rdFlix                    SaaS   \n",
       "4      4  04/09/2019               75F                     IoT   \n",
       "\n",
       "                                        Sub Vertical City  Location  \\\n",
       "0                                 Financial Services           Pune   \n",
       "1  Invoice discounting platform and SME lending m...         Mumbai   \n",
       "2                             Digital marketing firm         Mumbai   \n",
       "3                               Education Technology      Hyderabad   \n",
       "4                         Building automation system     Burnsville   \n",
       "\n",
       "                         Investors Name       InvestmentnType  Amount in USD  \\\n",
       "0  Matrix Partners India, Sequoia India          Maiden Round      4500000.0   \n",
       "1                         SAIF Partners              Series A      3300000.0   \n",
       "2                    TIW Private Equity  Private Equity Round      6000000.0   \n",
       "3             Exfinity Venture Partners          pre-series A      5000000.0   \n",
       "4          Breakthrough Energy Ventures              Series A     18000000.0   \n",
       "\n",
       "  Remarks  \n",
       "0     NaN  \n",
       "1     NaN  \n",
       "2     NaN  \n",
       "3     NaN  \n",
       "4     NaN  "
      ]
     },
     "execution_count": 38,
     "metadata": {},
     "output_type": "execute_result"
    }
   ],
   "source": [
    "df.head()"
   ]
  },
  {
   "cell_type": "code",
   "execution_count": 39,
   "metadata": {},
   "outputs": [
    {
     "name": "stdout",
     "output_type": "stream",
     "text": [
      "05/072018\n",
      "01/07/015\n",
      "\\\\xc2\\\\xa010/7/2015\n",
      "12/05.2015\n",
      "13/04.2015\n",
      "15/01.2015\n",
      "22/01//2015\n"
     ]
    }
   ],
   "source": [
    "for i in Date.unique():\n",
    "    if len(i) >10 :\n",
    "        print(i)\n",
    "    elif i[-5] != \"/\":\n",
    "        print(i)"
   ]
  },
  {
   "cell_type": "code",
   "execution_count": 40,
   "metadata": {},
   "outputs": [
    {
     "name": "stderr",
     "output_type": "stream",
     "text": [
      "/root/anaconda3/lib/python3.7/site-packages/ipykernel_launcher.py:1: SettingWithCopyWarning: \n",
      "A value is trying to be set on a copy of a slice from a DataFrame\n",
      "\n",
      "See the caveats in the documentation: http://pandas.pydata.org/pandas-docs/stable/indexing.html#indexing-view-versus-copy\n",
      "  \"\"\"Entry point for launching an IPython kernel.\n",
      "/root/anaconda3/lib/python3.7/site-packages/ipykernel_launcher.py:2: SettingWithCopyWarning: \n",
      "A value is trying to be set on a copy of a slice from a DataFrame\n",
      "\n",
      "See the caveats in the documentation: http://pandas.pydata.org/pandas-docs/stable/indexing.html#indexing-view-versus-copy\n",
      "  \n",
      "/root/anaconda3/lib/python3.7/site-packages/ipykernel_launcher.py:3: SettingWithCopyWarning: \n",
      "A value is trying to be set on a copy of a slice from a DataFrame\n",
      "\n",
      "See the caveats in the documentation: http://pandas.pydata.org/pandas-docs/stable/indexing.html#indexing-view-versus-copy\n",
      "  This is separate from the ipykernel package so we can avoid doing imports until\n",
      "/root/anaconda3/lib/python3.7/site-packages/ipykernel_launcher.py:4: SettingWithCopyWarning: \n",
      "A value is trying to be set on a copy of a slice from a DataFrame\n",
      "\n",
      "See the caveats in the documentation: http://pandas.pydata.org/pandas-docs/stable/indexing.html#indexing-view-versus-copy\n",
      "  after removing the cwd from sys.path.\n",
      "/root/anaconda3/lib/python3.7/site-packages/ipykernel_launcher.py:5: SettingWithCopyWarning: \n",
      "A value is trying to be set on a copy of a slice from a DataFrame\n",
      "\n",
      "See the caveats in the documentation: http://pandas.pydata.org/pandas-docs/stable/indexing.html#indexing-view-versus-copy\n",
      "  \"\"\"\n",
      "/root/anaconda3/lib/python3.7/site-packages/ipykernel_launcher.py:6: SettingWithCopyWarning: \n",
      "A value is trying to be set on a copy of a slice from a DataFrame\n",
      "\n",
      "See the caveats in the documentation: http://pandas.pydata.org/pandas-docs/stable/indexing.html#indexing-view-versus-copy\n",
      "  \n",
      "/root/anaconda3/lib/python3.7/site-packages/ipykernel_launcher.py:7: SettingWithCopyWarning: \n",
      "A value is trying to be set on a copy of a slice from a DataFrame\n",
      "\n",
      "See the caveats in the documentation: http://pandas.pydata.org/pandas-docs/stable/indexing.html#indexing-view-versus-copy\n",
      "  import sys\n"
     ]
    }
   ],
   "source": [
    "df[\"Date\"][df[\"Date\"] == \"05/072018\"] = \"05/07/2018\"\n",
    "df[\"Date\"][df[\"Date\"] == \"01/07/015\"] = \"01/07/2015\"\n",
    "df[\"Date\"][df[\"Date\"] == \"\\\\xc2\\\\xa010/7/2015\"] = \"10/07/2015\"\n",
    "df[\"Date\"][df[\"Date\"] == \"12/05.2015\"] = \"12/05/2015\"\n",
    "df[\"Date\"][df[\"Date\"] == \"13/04.2015\"] = \"13/04/2015\"\n",
    "df[\"Date\"][df[\"Date\"] == \"15/01.2015\"] = \"15/01/2015\"\n",
    "df[\"Date\"][df[\"Date\"] == \"22/01//2015\"] = \"22/01/2015\""
   ]
  },
  {
   "cell_type": "code",
   "execution_count": 41,
   "metadata": {},
   "outputs": [
    {
     "name": "stderr",
     "output_type": "stream",
     "text": [
      "/root/anaconda3/lib/python3.7/site-packages/ipykernel_launcher.py:1: SettingWithCopyWarning: \n",
      "A value is trying to be set on a copy of a slice from a DataFrame\n",
      "\n",
      "See the caveats in the documentation: http://pandas.pydata.org/pandas-docs/stable/indexing.html#indexing-view-versus-copy\n",
      "  \"\"\"Entry point for launching an IPython kernel.\n"
     ]
    }
   ],
   "source": [
    "df[\"Date\"][df[\"Date\"] == \"\\\\\\\\xc2\\\\\\\\xa010/7/2015\"] = \"10/07/2015\"\n"
   ]
  },
  {
   "cell_type": "code",
   "execution_count": 42,
   "metadata": {},
   "outputs": [],
   "source": [
    "for i in Date.unique():\n",
    "    if len(i) >10 :\n",
    "        print(i)\n",
    "    elif i[-5] != \"/\":\n",
    "        print(i)"
   ]
  },
  {
   "cell_type": "code",
   "execution_count": 43,
   "metadata": {},
   "outputs": [],
   "source": [
    "df[\"Date\"] = pd.to_datetime(df[\"Date\"] , dayfirst=True , )"
   ]
  },
  {
   "cell_type": "code",
   "execution_count": 44,
   "metadata": {},
   "outputs": [
    {
     "data": {
      "text/html": [
       "<div>\n",
       "<style scoped>\n",
       "    .dataframe tbody tr th:only-of-type {\n",
       "        vertical-align: middle;\n",
       "    }\n",
       "\n",
       "    .dataframe tbody tr th {\n",
       "        vertical-align: top;\n",
       "    }\n",
       "\n",
       "    .dataframe thead th {\n",
       "        text-align: right;\n",
       "    }\n",
       "</style>\n",
       "<table border=\"1\" class=\"dataframe\">\n",
       "  <thead>\n",
       "    <tr style=\"text-align: right;\">\n",
       "      <th></th>\n",
       "      <th>Sr No</th>\n",
       "      <th>Date</th>\n",
       "      <th>Startup Name</th>\n",
       "      <th>Industry Vertical</th>\n",
       "      <th>Sub Vertical</th>\n",
       "      <th>City  Location</th>\n",
       "      <th>Investors Name</th>\n",
       "      <th>InvestmentnType</th>\n",
       "      <th>Amount in USD</th>\n",
       "      <th>Remarks</th>\n",
       "    </tr>\n",
       "  </thead>\n",
       "  <tbody>\n",
       "    <tr>\n",
       "      <th>0</th>\n",
       "      <td>0</td>\n",
       "      <td>2019-09-05</td>\n",
       "      <td>FPL Technologies</td>\n",
       "      <td>FinTech</td>\n",
       "      <td>Financial Services</td>\n",
       "      <td>Pune</td>\n",
       "      <td>Matrix Partners India, Sequoia India</td>\n",
       "      <td>Maiden Round</td>\n",
       "      <td>4500000.0</td>\n",
       "      <td>NaN</td>\n",
       "    </tr>\n",
       "    <tr>\n",
       "      <th>1</th>\n",
       "      <td>1</td>\n",
       "      <td>2019-09-04</td>\n",
       "      <td>Cashflo</td>\n",
       "      <td>FinTech</td>\n",
       "      <td>Invoice discounting platform and SME lending m...</td>\n",
       "      <td>Mumbai</td>\n",
       "      <td>SAIF Partners</td>\n",
       "      <td>Series A</td>\n",
       "      <td>3300000.0</td>\n",
       "      <td>NaN</td>\n",
       "    </tr>\n",
       "    <tr>\n",
       "      <th>2</th>\n",
       "      <td>2</td>\n",
       "      <td>2019-09-04</td>\n",
       "      <td>Digital F5</td>\n",
       "      <td>Advertising, Marketing</td>\n",
       "      <td>Digital marketing firm</td>\n",
       "      <td>Mumbai</td>\n",
       "      <td>TIW Private Equity</td>\n",
       "      <td>Private Equity Round</td>\n",
       "      <td>6000000.0</td>\n",
       "      <td>NaN</td>\n",
       "    </tr>\n",
       "    <tr>\n",
       "      <th>3</th>\n",
       "      <td>3</td>\n",
       "      <td>2019-09-04</td>\n",
       "      <td>3rdFlix</td>\n",
       "      <td>SaaS</td>\n",
       "      <td>Education Technology</td>\n",
       "      <td>Hyderabad</td>\n",
       "      <td>Exfinity Venture Partners</td>\n",
       "      <td>pre-series A</td>\n",
       "      <td>5000000.0</td>\n",
       "      <td>NaN</td>\n",
       "    </tr>\n",
       "    <tr>\n",
       "      <th>4</th>\n",
       "      <td>4</td>\n",
       "      <td>2019-09-04</td>\n",
       "      <td>75F</td>\n",
       "      <td>IoT</td>\n",
       "      <td>Building automation system</td>\n",
       "      <td>Burnsville</td>\n",
       "      <td>Breakthrough Energy Ventures</td>\n",
       "      <td>Series A</td>\n",
       "      <td>18000000.0</td>\n",
       "      <td>NaN</td>\n",
       "    </tr>\n",
       "  </tbody>\n",
       "</table>\n",
       "</div>"
      ],
      "text/plain": [
       "   Sr No       Date      Startup Name       Industry Vertical  \\\n",
       "0      0 2019-09-05  FPL Technologies                 FinTech   \n",
       "1      1 2019-09-04           Cashflo                 FinTech   \n",
       "2      2 2019-09-04        Digital F5  Advertising, Marketing   \n",
       "3      3 2019-09-04           3rdFlix                    SaaS   \n",
       "4      4 2019-09-04               75F                     IoT   \n",
       "\n",
       "                                        Sub Vertical City  Location  \\\n",
       "0                                 Financial Services           Pune   \n",
       "1  Invoice discounting platform and SME lending m...         Mumbai   \n",
       "2                             Digital marketing firm         Mumbai   \n",
       "3                               Education Technology      Hyderabad   \n",
       "4                         Building automation system     Burnsville   \n",
       "\n",
       "                         Investors Name       InvestmentnType  Amount in USD  \\\n",
       "0  Matrix Partners India, Sequoia India          Maiden Round      4500000.0   \n",
       "1                         SAIF Partners              Series A      3300000.0   \n",
       "2                    TIW Private Equity  Private Equity Round      6000000.0   \n",
       "3             Exfinity Venture Partners          pre-series A      5000000.0   \n",
       "4          Breakthrough Energy Ventures              Series A     18000000.0   \n",
       "\n",
       "  Remarks  \n",
       "0     NaN  \n",
       "1     NaN  \n",
       "2     NaN  \n",
       "3     NaN  \n",
       "4     NaN  "
      ]
     },
     "execution_count": 44,
     "metadata": {},
     "output_type": "execute_result"
    }
   ],
   "source": [
    "df.head()"
   ]
  },
  {
   "cell_type": "code",
   "execution_count": 45,
   "metadata": {},
   "outputs": [
    {
     "name": "stdout",
     "output_type": "stream",
     "text": [
      "<class 'pandas.core.frame.DataFrame'>\n",
      "RangeIndex: 3009 entries, 0 to 3008\n",
      "Data columns (total 10 columns):\n",
      "Sr No                3009 non-null int64\n",
      "Date                 3009 non-null datetime64[ns]\n",
      "Startup Name         3009 non-null object\n",
      "Industry Vertical    3009 non-null object\n",
      "Sub Vertical         3009 non-null object\n",
      "City  Location       3009 non-null object\n",
      "Investors Name       2986 non-null object\n",
      "InvestmentnType      3009 non-null object\n",
      "Amount in USD        3009 non-null float64\n",
      "Remarks              419 non-null object\n",
      "dtypes: datetime64[ns](1), float64(1), int64(1), object(7)\n",
      "memory usage: 235.2+ KB\n"
     ]
    }
   ],
   "source": [
    "df.info()"
   ]
  },
  {
   "cell_type": "markdown",
   "metadata": {},
   "source": [
    "-----------------------------------------------------------\n",
    "\n",
    "Possible questions which could be answered are:\n",
    "\n",
    "    How does the funding ecosystem change with time?\n",
    "    Do cities play a major role in funding?\n",
    "    Which industries are favored by investors for funding?\n",
    "    Who are the important investors in the Indian Ecosystem?\n",
    "    How much funds does startups generally get in India?\n"
   ]
  },
  {
   "cell_type": "code",
   "execution_count": 46,
   "metadata": {},
   "outputs": [
    {
     "name": "stderr",
     "output_type": "stream",
     "text": [
      "/root/anaconda3/lib/python3.7/site-packages/pandas/plotting/_converter.py:129: FutureWarning: Using an implicitly registered datetime converter for a matplotlib plotting method. The converter was registered by pandas on import. Future versions of pandas will require you to explicitly register matplotlib converters.\n",
      "\n",
      "To register the converters:\n",
      "\t>>> from pandas.plotting import register_matplotlib_converters\n",
      "\t>>> register_matplotlib_converters()\n",
      "  warnings.warn(msg, FutureWarning)\n"
     ]
    },
    {
     "data": {
      "image/png": "[encoded data removed]",
      "text/plain": [
       "<Figure size 432x288 with 1 Axes>"
      ]
     },
     "metadata": {
      "needs_background": "light"
     },
     "output_type": "display_data"
    }
   ],
   "source": [
    "# Ecosystem change with time\n",
    "plt.figure()\n",
    "plt.hist(df.Date , bins=10)\n",
    "plt.show()"
   ]
  },
  {
   "cell_type": "code",
   "execution_count": null,
   "metadata": {},
   "outputs": [],
   "source": []
  },
  {
   "cell_type": "code",
   "execution_count": null,
   "metadata": {},
   "outputs": [],
   "source": []
  },
  {
   "cell_type": "code",
   "execution_count": 47,
   "metadata": {},
   "outputs": [],
   "source": [
    "year_counts = df.Date.dt.year.value_counts()"
   ]
  },
  {
   "cell_type": "markdown",
   "metadata": {},
   "source": [
    "#     How does the funding ecosystem change with time?\n"
   ]
  },
  {
   "cell_type": "code",
   "execution_count": 48,
   "metadata": {},
   "outputs": [
    {
     "data": {
      "image/png": "[encoded data removed]",
      "text/plain": [
       "<Figure size 432x288 with 1 Axes>"
      ]
     },
     "metadata": {
      "needs_background": "light"
     },
     "output_type": "display_data"
    }
   ],
   "source": [
    "\n",
    "plt.figure()\n",
    "plt.title(\"Indian Startup Funds on Year\")\n",
    "g = sns.barplot(year_counts.index , year_counts.values)\n",
    "plt.xlabel(\"Year\")\n",
    "plt.ylabel(\"Counts\")\n",
    "plt.show()"
   ]
  },
  {
   "cell_type": "markdown",
   "metadata": {},
   "source": [
    "# Do cities play a major role in funding?\n"
   ]
  },
  {
   "cell_type": "code",
   "execution_count": 49,
   "metadata": {},
   "outputs": [],
   "source": [
    "cities_df= df[\"City  Location\"].value_counts()"
   ]
  },
  {
   "cell_type": "code",
   "execution_count": 50,
   "metadata": {},
   "outputs": [
    {
     "data": {
      "image/png": "[encoded data removed]",
      "text/plain": [
       "<Figure size 432x288 with 1 Axes>"
      ]
     },
     "metadata": {
      "needs_background": "light"
     },
     "output_type": "display_data"
    }
   ],
   "source": [
    "plt.figure()\n",
    "plt.title(\"Top 10 cities in Indian Startup Funds\")\n",
    "g = sns.barplot(y=cities_df.index[:10] , x=cities_df.values[:10])\n",
    "plt.xlabel(\"No.Of.Funds\")\n",
    "plt.xticks(rotation=90)\n",
    "plt.ylabel(\"Top 10 Cities\")\n",
    "plt.show()"
   ]
  },
  {
   "cell_type": "code",
   "execution_count": 51,
   "metadata": {},
   "outputs": [
    {
     "data": {
      "text/plain": [
       "Index(['Bangalore', 'Mumbai', 'New Delhi', 'Gurgaon', 'Bengaluru', 'Pune',\n",
       "       'Hyderabad', 'Chennai', 'Noida', 'Gurugram'],\n",
       "      dtype='object')"
      ]
     },
     "execution_count": 51,
     "metadata": {},
     "output_type": "execute_result"
    }
   ],
   "source": [
    "cities_df.index[:10]"
   ]
  },
  {
   "cell_type": "markdown",
   "metadata": {},
   "source": [
    "#     Which industries are favored by investors for funding?\n"
   ]
  },
  {
   "cell_type": "code",
   "execution_count": 54,
   "metadata": {
    "collapsed": true,
    "jupyter": {
     "outputs_hidden": true
    }
   },
   "outputs": [
    {
     "data": {
      "text/plain": [
       "Consumer Internet                                     1112\n",
       "Technology                                             476\n",
       "E-Commerce                                             272\n",
       "Healthcare                                              69\n",
       "Finance                                                 61\n",
       "Logistics                                               31\n",
       "Food & Beverage                                         23\n",
       "Education                                               22\n",
       "Ed-Tech                                                 14\n",
       "E-commerce                                              11\n",
       "IT                                                       8\n",
       "Ecommerce                                                8\n",
       "Others                                                   6\n",
       "FinTech                                                  6\n",
       "Real Estate                                              6\n",
       "Fin-Tech                                                 6\n",
       "Online Education Platform                                5\n",
       "Logistics Tech                                           5\n",
       "Online Food Delivery                                     5\n",
       "Food and Beverage                                        5\n",
       "Transport                                                4\n",
       "Health and Wellness                                      4\n",
       "Information Technology                                   3\n",
       "Services                                                 3\n",
       "FMCG                                                     3\n",
       "Food & Beverages                                         3\n",
       "Social Media                                             3\n",
       "Food                                                     3\n",
       "Big Data & Analytics platform                            3\n",
       "Transportation                                           3\n",
       "                                                      ... \n",
       "Organic Food etailer                                     1\n",
       "Online Furniture, Home Appliances Rental Platform        1\n",
       "Beauty & Wellness Services Marketplace                   1\n",
       "OnDemand\\\\nMobile Handyman Services                      1\n",
       "Photographer Online search & booking platform            1\n",
       "Entertainment                                            1\n",
       "Mobile Growth Hacking\\\\nPlatform                         1\n",
       "Clean Tech                                               1\n",
       "Online Pharmacy & Drug DB                                1\n",
       "Online Insurance Aggregator                              1\n",
       "Teacher empowerment platform                             1\n",
       "Employee OnBoarding & Orientation platform               1\n",
       "Efficient Energy Management platform                     1\n",
       "Affordable Education                                     1\n",
       "Data Driven recruitment recommendation                   1\n",
       "Energy saving solutions provider                         1\n",
       "Branded Budget Hotel Marketplace                         1\n",
       "Online Printing Services                                 1\n",
       "Restaurant Reservation Platform                          1\n",
       "Mobile Commerce for Farmers                              1\n",
       "\\\\xc2\\\\xa0Online Grocery Delivery                        1\n",
       "Electric Scooter Manufacturer                            1\n",
       "Hyperlocal Maintenance, Repair & Cleaning services       1\n",
       "Local Mobile OS                                          1\n",
       "Online Meat Ordering platform                            1\n",
       "Fashion ECommerce                                        1\n",
       "ECommerce platform solutions                             1\n",
       "Online Fashion Aggregator                                1\n",
       "Location based engagement & rewards platform             1\n",
       "Multilingual Test Preparation Platform                   1\n",
       "Name: Industry Vertical, Length: 809, dtype: int64"
      ]
     },
     "execution_count": 54,
     "metadata": {},
     "output_type": "execute_result"
    }
   ],
   "source": [
    "df[\"Industry Vertical\"].value_counts()"
   ]
  },
  {
   "cell_type": "code",
   "execution_count": 55,
   "metadata": {},
   "outputs": [
    {
     "name": "stderr",
     "output_type": "stream",
     "text": [
      "/root/anaconda3/lib/python3.7/site-packages/ipykernel_launcher.py:1: SettingWithCopyWarning: \n",
      "A value is trying to be set on a copy of a slice from a DataFrame\n",
      "\n",
      "See the caveats in the documentation: http://pandas.pydata.org/pandas-docs/stable/indexing.html#indexing-view-versus-copy\n",
      "  \"\"\"Entry point for launching an IPython kernel.\n",
      "/root/anaconda3/lib/python3.7/site-packages/ipykernel_launcher.py:2: SettingWithCopyWarning: \n",
      "A value is trying to be set on a copy of a slice from a DataFrame\n",
      "\n",
      "See the caveats in the documentation: http://pandas.pydata.org/pandas-docs/stable/indexing.html#indexing-view-versus-copy\n",
      "  \n"
     ]
    }
   ],
   "source": [
    "df[\"Industry Vertical\"] [df[\"Industry Vertical\"] == \"eCommerce\"] =\"E-Commerce\"\n",
    "df[\"Industry Vertical\"] [df[\"Industry Vertical\"] == \"ECommerce\"] =\"E-Commerce\"\n"
   ]
  },
  {
   "cell_type": "code",
   "execution_count": 56,
   "metadata": {},
   "outputs": [],
   "source": [
    "industries_df = df[\"Industry Vertical\"].value_counts()"
   ]
  },
  {
   "cell_type": "code",
   "execution_count": 57,
   "metadata": {},
   "outputs": [],
   "source": [
    "industries_df = industries_df.iloc[industries_df.values > 10]"
   ]
  },
  {
   "cell_type": "code",
   "execution_count": 58,
   "metadata": {},
   "outputs": [
    {
     "data": {
      "text/plain": [
       "Consumer Internet    1112\n",
       "Technology            476\n",
       "E-Commerce            272\n",
       "Healthcare             69\n",
       "Finance                61\n",
       "Logistics              31\n",
       "Food & Beverage        23\n",
       "Education              22\n",
       "Ed-Tech                14\n",
       "E-commerce             11\n",
       "Name: Industry Vertical, dtype: int64"
      ]
     },
     "execution_count": 58,
     "metadata": {},
     "output_type": "execute_result"
    }
   ],
   "source": [
    "industries_df"
   ]
  },
  {
   "cell_type": "code",
   "execution_count": 59,
   "metadata": {},
   "outputs": [
    {
     "data": {
      "image/png": "[encoded data removed]",
      "text/plain": [
       "<Figure size 432x288 with 1 Axes>"
      ]
     },
     "metadata": {
      "needs_background": "light"
     },
     "output_type": "display_data"
    }
   ],
   "source": [
    "plt.figure()\n",
    "plt.title(\"Top 10 Industries in Indian Startup Funds\")\n",
    "g = sns.barplot(y=industries_df.index[:10] , x=industries_df.values[:10])\n",
    "plt.xlabel(\"No of Investors\")\n",
    "plt.xticks(rotation=90)\n",
    "plt.ylabel(\"Top 10 Industry\")\n",
    "plt.show()"
   ]
  },
  {
   "cell_type": "markdown",
   "metadata": {},
   "source": [
    "#     Who are the important investors in the Indian Ecosystem?\n"
   ]
  },
  {
   "cell_type": "code",
   "execution_count": 60,
   "metadata": {
    "collapsed": true,
    "jupyter": {
     "outputs_hidden": true
    }
   },
   "outputs": [
    {
     "name": "stderr",
     "output_type": "stream",
     "text": [
      "/root/anaconda3/lib/python3.7/site-packages/ipykernel_launcher.py:1: SettingWithCopyWarning: \n",
      "A value is trying to be set on a copy of a slice from a DataFrame\n",
      "\n",
      "See the caveats in the documentation: http://pandas.pydata.org/pandas-docs/stable/indexing.html#indexing-view-versus-copy\n",
      "  \"\"\"Entry point for launching an IPython kernel.\n",
      "/root/anaconda3/lib/python3.7/site-packages/ipykernel_launcher.py:2: SettingWithCopyWarning: \n",
      "A value is trying to be set on a copy of a slice from a DataFrame\n",
      "\n",
      "See the caveats in the documentation: http://pandas.pydata.org/pandas-docs/stable/indexing.html#indexing-view-versus-copy\n",
      "  \n",
      "/root/anaconda3/lib/python3.7/site-packages/ipykernel_launcher.py:3: SettingWithCopyWarning: \n",
      "A value is trying to be set on a copy of a slice from a DataFrame\n",
      "\n",
      "See the caveats in the documentation: http://pandas.pydata.org/pandas-docs/stable/indexing.html#indexing-view-versus-copy\n",
      "  This is separate from the ipykernel package so we can avoid doing imports until\n",
      "/root/anaconda3/lib/python3.7/site-packages/ipykernel_launcher.py:4: SettingWithCopyWarning: \n",
      "A value is trying to be set on a copy of a slice from a DataFrame\n",
      "\n",
      "See the caveats in the documentation: http://pandas.pydata.org/pandas-docs/stable/indexing.html#indexing-view-versus-copy\n",
      "  after removing the cwd from sys.path.\n"
     ]
    }
   ],
   "source": [
    "df[\"Investors Name\"] [df[\"Investors Name\"] ==\"Undisclosed investors\"] = \"Undisclosed Investors\"\n",
    "df[\"Investors Name\"] [df[\"Investors Name\"] ==\"Undisclosed Investor\"] = \"Undisclosed Investors\"\n",
    "df[\"Investors Name\"] [df[\"Investors Name\"] ==\"undisclosed investors\"] = \"Undisclosed Investors\"\n",
    "df[\"Investors Name\"] [df[\"Investors Name\"] ==\"Undisclosed\"] = \"Undisclosed Investors\"\n"
   ]
  },
  {
   "cell_type": "code",
   "execution_count": 61,
   "metadata": {},
   "outputs": [],
   "source": [
    "investors_df = df[\"Investors Name\"].value_counts()"
   ]
  },
  {
   "cell_type": "code",
   "execution_count": 62,
   "metadata": {},
   "outputs": [
    {
     "data": {
      "text/plain": [
       "Undisclosed Investors       103\n",
       "Ratan Tata                   25\n",
       "Indian Angel Network         23\n",
       "Kalaari Capital              16\n",
       "Group of Angel Investors     15\n",
       "Name: Investors Name, dtype: int64"
      ]
     },
     "execution_count": 62,
     "metadata": {},
     "output_type": "execute_result"
    }
   ],
   "source": [
    "investors_df.head()\n"
   ]
  },
  {
   "cell_type": "code",
   "execution_count": 63,
   "metadata": {},
   "outputs": [
    {
     "data": {
      "image/png": "[encoded data removed]",
      "text/plain": [
       "<Figure size 432x288 with 1 Axes>"
      ]
     },
     "metadata": {
      "needs_background": "light"
     },
     "output_type": "display_data"
    }
   ],
   "source": [
    "plt.figure()\n",
    "plt.title(\"Top 10 Investors in Indian Startup Funds\")\n",
    "g = sns.barplot(x=investors_df.index[:10] , y=investors_df.values[:10] , palette=\"summer\")\n",
    "plt.ylabel(\"No of Invesments\")\n",
    "plt.xticks(rotation=90)\n",
    "plt.xlabel(\"Top 10 Investors\")\n",
    "plt.show()"
   ]
  },
  {
   "cell_type": "markdown",
   "metadata": {},
   "source": [
    "#     How much funds does startups generally get in India?\n"
   ]
  },
  {
   "cell_type": "code",
   "execution_count": 64,
   "metadata": {},
   "outputs": [
    {
     "data": {
      "text/html": [
       "<div>\n",
       "<style scoped>\n",
       "    .dataframe tbody tr th:only-of-type {\n",
       "        vertical-align: middle;\n",
       "    }\n",
       "\n",
       "    .dataframe tbody tr th {\n",
       "        vertical-align: top;\n",
       "    }\n",
       "\n",
       "    .dataframe thead th {\n",
       "        text-align: right;\n",
       "    }\n",
       "</style>\n",
       "<table border=\"1\" class=\"dataframe\">\n",
       "  <thead>\n",
       "    <tr style=\"text-align: right;\">\n",
       "      <th></th>\n",
       "      <th>Sr No</th>\n",
       "      <th>Date</th>\n",
       "      <th>Startup Name</th>\n",
       "      <th>Industry Vertical</th>\n",
       "      <th>Sub Vertical</th>\n",
       "      <th>City  Location</th>\n",
       "      <th>Investors Name</th>\n",
       "      <th>InvestmentnType</th>\n",
       "      <th>Amount in USD</th>\n",
       "      <th>Remarks</th>\n",
       "    </tr>\n",
       "  </thead>\n",
       "  <tbody>\n",
       "    <tr>\n",
       "      <th>0</th>\n",
       "      <td>0</td>\n",
       "      <td>2019-09-05</td>\n",
       "      <td>FPL Technologies</td>\n",
       "      <td>FinTech</td>\n",
       "      <td>Financial Services</td>\n",
       "      <td>Pune</td>\n",
       "      <td>Matrix Partners India, Sequoia India</td>\n",
       "      <td>Maiden Round</td>\n",
       "      <td>4500000.0</td>\n",
       "      <td>NaN</td>\n",
       "    </tr>\n",
       "    <tr>\n",
       "      <th>1</th>\n",
       "      <td>1</td>\n",
       "      <td>2019-09-04</td>\n",
       "      <td>Cashflo</td>\n",
       "      <td>FinTech</td>\n",
       "      <td>Invoice discounting platform and SME lending m...</td>\n",
       "      <td>Mumbai</td>\n",
       "      <td>SAIF Partners</td>\n",
       "      <td>Series A</td>\n",
       "      <td>3300000.0</td>\n",
       "      <td>NaN</td>\n",
       "    </tr>\n",
       "    <tr>\n",
       "      <th>2</th>\n",
       "      <td>2</td>\n",
       "      <td>2019-09-04</td>\n",
       "      <td>Digital F5</td>\n",
       "      <td>Advertising, Marketing</td>\n",
       "      <td>Digital marketing firm</td>\n",
       "      <td>Mumbai</td>\n",
       "      <td>TIW Private Equity</td>\n",
       "      <td>Private Equity Round</td>\n",
       "      <td>6000000.0</td>\n",
       "      <td>NaN</td>\n",
       "    </tr>\n",
       "    <tr>\n",
       "      <th>3</th>\n",
       "      <td>3</td>\n",
       "      <td>2019-09-04</td>\n",
       "      <td>3rdFlix</td>\n",
       "      <td>SaaS</td>\n",
       "      <td>Education Technology</td>\n",
       "      <td>Hyderabad</td>\n",
       "      <td>Exfinity Venture Partners</td>\n",
       "      <td>pre-series A</td>\n",
       "      <td>5000000.0</td>\n",
       "      <td>NaN</td>\n",
       "    </tr>\n",
       "    <tr>\n",
       "      <th>4</th>\n",
       "      <td>4</td>\n",
       "      <td>2019-09-04</td>\n",
       "      <td>75F</td>\n",
       "      <td>IoT</td>\n",
       "      <td>Building automation system</td>\n",
       "      <td>Burnsville</td>\n",
       "      <td>Breakthrough Energy Ventures</td>\n",
       "      <td>Series A</td>\n",
       "      <td>18000000.0</td>\n",
       "      <td>NaN</td>\n",
       "    </tr>\n",
       "  </tbody>\n",
       "</table>\n",
       "</div>"
      ],
      "text/plain": [
       "   Sr No       Date      Startup Name       Industry Vertical  \\\n",
       "0      0 2019-09-05  FPL Technologies                 FinTech   \n",
       "1      1 2019-09-04           Cashflo                 FinTech   \n",
       "2      2 2019-09-04        Digital F5  Advertising, Marketing   \n",
       "3      3 2019-09-04           3rdFlix                    SaaS   \n",
       "4      4 2019-09-04               75F                     IoT   \n",
       "\n",
       "                                        Sub Vertical City  Location  \\\n",
       "0                                 Financial Services           Pune   \n",
       "1  Invoice discounting platform and SME lending m...         Mumbai   \n",
       "2                             Digital marketing firm         Mumbai   \n",
       "3                               Education Technology      Hyderabad   \n",
       "4                         Building automation system     Burnsville   \n",
       "\n",
       "                         Investors Name       InvestmentnType  Amount in USD  \\\n",
       "0  Matrix Partners India, Sequoia India          Maiden Round      4500000.0   \n",
       "1                         SAIF Partners              Series A      3300000.0   \n",
       "2                    TIW Private Equity  Private Equity Round      6000000.0   \n",
       "3             Exfinity Venture Partners          pre-series A      5000000.0   \n",
       "4          Breakthrough Energy Ventures              Series A     18000000.0   \n",
       "\n",
       "  Remarks  \n",
       "0     NaN  \n",
       "1     NaN  \n",
       "2     NaN  \n",
       "3     NaN  \n",
       "4     NaN  "
      ]
     },
     "execution_count": 64,
     "metadata": {},
     "output_type": "execute_result"
    }
   ],
   "source": [
    "df.head()"
   ]
  },
  {
   "cell_type": "code",
   "execution_count": 65,
   "metadata": {},
   "outputs": [],
   "source": [
    "startup_funds = df.groupby(\"Industry Vertical\")[\"Amount in USD\"]"
   ]
  },
  {
   "cell_type": "code",
   "execution_count": 66,
   "metadata": {},
   "outputs": [],
   "source": [
    "st_fud = startup_funds.mean()"
   ]
  },
  {
   "cell_type": "code",
   "execution_count": 67,
   "metadata": {},
   "outputs": [],
   "source": [
    "st_fud = pd.DataFrame({\n",
    "    \"Industry Vertical\":st_fud.index , \n",
    "    \"mean\"  :st_fud.values\n",
    "})"
   ]
  },
  {
   "cell_type": "code",
   "execution_count": 68,
   "metadata": {
    "collapsed": true,
    "jupyter": {
     "outputs_hidden": true
    }
   },
   "outputs": [
    {
     "data": {
      "text/html": [
       "<div>\n",
       "<style scoped>\n",
       "    .dataframe tbody tr th:only-of-type {\n",
       "        vertical-align: middle;\n",
       "    }\n",
       "\n",
       "    .dataframe tbody tr th {\n",
       "        vertical-align: top;\n",
       "    }\n",
       "\n",
       "    .dataframe thead th {\n",
       "        text-align: right;\n",
       "    }\n",
       "</style>\n",
       "<table border=\"1\" class=\"dataframe\">\n",
       "  <thead>\n",
       "    <tr style=\"text-align: right;\">\n",
       "      <th></th>\n",
       "      <th>Industry Vertical</th>\n",
       "      <th>mean</th>\n",
       "    </tr>\n",
       "  </thead>\n",
       "  <tbody>\n",
       "    <tr>\n",
       "      <th>761</th>\n",
       "      <td>\\\\xc2\\\\xa0News Aggregator mobile app</td>\n",
       "      <td>2.020000e+09</td>\n",
       "    </tr>\n",
       "    <tr>\n",
       "      <th>766</th>\n",
       "      <td>\\\\xc2\\\\xa0Premium Loyalty Rewards Point Manage...</td>\n",
       "      <td>2.019350e+09</td>\n",
       "    </tr>\n",
       "    <tr>\n",
       "      <th>763</th>\n",
       "      <td>\\\\xc2\\\\xa0Online Jewellery Store</td>\n",
       "      <td>2.016200e+09</td>\n",
       "    </tr>\n",
       "    <tr>\n",
       "      <th>758</th>\n",
       "      <td>\\\\xc2\\\\xa0Casual Dining restaurant Chain</td>\n",
       "      <td>2.010000e+09</td>\n",
       "    </tr>\n",
       "    <tr>\n",
       "      <th>718</th>\n",
       "      <td>Transportation</td>\n",
       "      <td>1.302861e+09</td>\n",
       "    </tr>\n",
       "    <tr>\n",
       "      <th>165</th>\n",
       "      <td>E-Commerce &amp; M-Commerce platform</td>\n",
       "      <td>6.800000e+08</td>\n",
       "    </tr>\n",
       "    <tr>\n",
       "      <th>180</th>\n",
       "      <td>Ecommerce Marketplace</td>\n",
       "      <td>5.000000e+08</td>\n",
       "    </tr>\n",
       "    <tr>\n",
       "      <th>82</th>\n",
       "      <td>Car Aggregator &amp; Retail Mobile App</td>\n",
       "      <td>5.000000e+08</td>\n",
       "    </tr>\n",
       "    <tr>\n",
       "      <th>76</th>\n",
       "      <td>Cab Aggregator</td>\n",
       "      <td>4.000000e+08</td>\n",
       "    </tr>\n",
       "    <tr>\n",
       "      <th>523</th>\n",
       "      <td>Online Marketplace</td>\n",
       "      <td>3.500715e+08</td>\n",
       "    </tr>\n",
       "    <tr>\n",
       "      <th>29</th>\n",
       "      <td>Automation</td>\n",
       "      <td>3.000000e+08</td>\n",
       "    </tr>\n",
       "    <tr>\n",
       "      <th>37</th>\n",
       "      <td>B2B Platform</td>\n",
       "      <td>2.250000e+08</td>\n",
       "    </tr>\n",
       "    <tr>\n",
       "      <th>759</th>\n",
       "      <td>\\\\xc2\\\\xa0Contact Center Software Platform</td>\n",
       "      <td>2.050000e+08</td>\n",
       "    </tr>\n",
       "    <tr>\n",
       "      <th>468</th>\n",
       "      <td>Online Classifieds</td>\n",
       "      <td>1.500000e+08</td>\n",
       "    </tr>\n",
       "    <tr>\n",
       "      <th>11</th>\n",
       "      <td>Agtech</td>\n",
       "      <td>1.400000e+08</td>\n",
       "    </tr>\n",
       "    <tr>\n",
       "      <th>377</th>\n",
       "      <td>Logistics Solution Provider</td>\n",
       "      <td>1.370000e+08</td>\n",
       "    </tr>\n",
       "    <tr>\n",
       "      <th>79</th>\n",
       "      <td>Cab rental Mobile app</td>\n",
       "      <td>1.229755e+08</td>\n",
       "    </tr>\n",
       "    <tr>\n",
       "      <th>309</th>\n",
       "      <td>Hyper-local Grocery Delivery platform</td>\n",
       "      <td>1.200000e+08</td>\n",
       "    </tr>\n",
       "    <tr>\n",
       "      <th>276</th>\n",
       "      <td>Health and Wellness</td>\n",
       "      <td>1.195500e+08</td>\n",
       "    </tr>\n",
       "    <tr>\n",
       "      <th>254</th>\n",
       "      <td>Food and Beverages</td>\n",
       "      <td>1.001037e+08</td>\n",
       "    </tr>\n",
       "    <tr>\n",
       "      <th>67</th>\n",
       "      <td>Budget Hotel Accommodation</td>\n",
       "      <td>1.000000e+08</td>\n",
       "    </tr>\n",
       "    <tr>\n",
       "      <th>68</th>\n",
       "      <td>Budget Hotel accommodation brand</td>\n",
       "      <td>1.000000e+08</td>\n",
       "    </tr>\n",
       "    <tr>\n",
       "      <th>303</th>\n",
       "      <td>Hospitality</td>\n",
       "      <td>1.000000e+08</td>\n",
       "    </tr>\n",
       "    <tr>\n",
       "      <th>426</th>\n",
       "      <td>Music Streaming App</td>\n",
       "      <td>1.000000e+08</td>\n",
       "    </tr>\n",
       "    <tr>\n",
       "      <th>561</th>\n",
       "      <td>Online home d\\\\xc3\\\\xa9cor marketplace</td>\n",
       "      <td>1.000000e+08</td>\n",
       "    </tr>\n",
       "    <tr>\n",
       "      <th>395</th>\n",
       "      <td>Mobile Advertising platform</td>\n",
       "      <td>1.000000e+08</td>\n",
       "    </tr>\n",
       "    <tr>\n",
       "      <th>159</th>\n",
       "      <td>Doctor Appointment booking app</td>\n",
       "      <td>9.000000e+07</td>\n",
       "    </tr>\n",
       "    <tr>\n",
       "      <th>178</th>\n",
       "      <td>Ecommerce Logistics</td>\n",
       "      <td>8.500000e+07</td>\n",
       "    </tr>\n",
       "    <tr>\n",
       "      <th>605</th>\n",
       "      <td>Private label Fashion eTailer</td>\n",
       "      <td>7.500000e+07</td>\n",
       "    </tr>\n",
       "    <tr>\n",
       "      <th>579</th>\n",
       "      <td>Peer-to-Peer Money Transfer &amp; Recharge App</td>\n",
       "      <td>7.000000e+07</td>\n",
       "    </tr>\n",
       "    <tr>\n",
       "      <th>...</th>\n",
       "      <td>...</td>\n",
       "      <td>...</td>\n",
       "    </tr>\n",
       "    <tr>\n",
       "      <th>440</th>\n",
       "      <td>On Demand Laundry Services App</td>\n",
       "      <td>1.100000e+05</td>\n",
       "    </tr>\n",
       "    <tr>\n",
       "      <th>588</th>\n",
       "      <td>Picture based Social App</td>\n",
       "      <td>1.000000e+05</td>\n",
       "    </tr>\n",
       "    <tr>\n",
       "      <th>792</th>\n",
       "      <td>on-Demand Washing &amp; Dry-Cleaning</td>\n",
       "      <td>1.000000e+05</td>\n",
       "    </tr>\n",
       "    <tr>\n",
       "      <th>283</th>\n",
       "      <td>Healthcare Services Discovery platform</td>\n",
       "      <td>1.000000e+05</td>\n",
       "    </tr>\n",
       "    <tr>\n",
       "      <th>78</th>\n",
       "      <td>Cab Sharing service Mobile app</td>\n",
       "      <td>1.000000e+05</td>\n",
       "    </tr>\n",
       "    <tr>\n",
       "      <th>168</th>\n",
       "      <td>ECommerce Brands\\\\xe2\\\\x80\\\\x99 Full Service A...</td>\n",
       "      <td>1.000000e+05</td>\n",
       "    </tr>\n",
       "    <tr>\n",
       "      <th>700</th>\n",
       "      <td>Subscription based Online Grocery platform</td>\n",
       "      <td>1.000000e+05</td>\n",
       "    </tr>\n",
       "    <tr>\n",
       "      <th>269</th>\n",
       "      <td>Gym &amp; Fitness Studios Subscription platform</td>\n",
       "      <td>1.000000e+05</td>\n",
       "    </tr>\n",
       "    <tr>\n",
       "      <th>258</th>\n",
       "      <td>Fund Raising Platform</td>\n",
       "      <td>1.000000e+05</td>\n",
       "    </tr>\n",
       "    <tr>\n",
       "      <th>465</th>\n",
       "      <td>Online Car Rental Affiliates</td>\n",
       "      <td>1.000000e+05</td>\n",
       "    </tr>\n",
       "    <tr>\n",
       "      <th>298</th>\n",
       "      <td>Home Made Food Marketplace</td>\n",
       "      <td>1.000000e+05</td>\n",
       "    </tr>\n",
       "    <tr>\n",
       "      <th>720</th>\n",
       "      <td>Travel Destination Discovery platform</td>\n",
       "      <td>1.000000e+05</td>\n",
       "    </tr>\n",
       "    <tr>\n",
       "      <th>228</th>\n",
       "      <td>FinTech Startup Incubation platform</td>\n",
       "      <td>1.000000e+05</td>\n",
       "    </tr>\n",
       "    <tr>\n",
       "      <th>83</th>\n",
       "      <td>Car Maintenance &amp; Management mobile app</td>\n",
       "      <td>1.000000e+05</td>\n",
       "    </tr>\n",
       "    <tr>\n",
       "      <th>441</th>\n",
       "      <td>On Demand Mobile app developer</td>\n",
       "      <td>1.000000e+05</td>\n",
       "    </tr>\n",
       "    <tr>\n",
       "      <th>339</th>\n",
       "      <td>Industrial Supplies B2B ecommerce</td>\n",
       "      <td>1.000000e+05</td>\n",
       "    </tr>\n",
       "    <tr>\n",
       "      <th>683</th>\n",
       "      <td>Social platform for traders and investors</td>\n",
       "      <td>1.000000e+05</td>\n",
       "    </tr>\n",
       "    <tr>\n",
       "      <th>490</th>\n",
       "      <td>Online Food ordering &amp; Delivery platform</td>\n",
       "      <td>1.000000e+05</td>\n",
       "    </tr>\n",
       "    <tr>\n",
       "      <th>95</th>\n",
       "      <td>Cloud Based Collaboration platform</td>\n",
       "      <td>1.000000e+05</td>\n",
       "    </tr>\n",
       "    <tr>\n",
       "      <th>802</th>\n",
       "      <td>proximity marketing &amp; Mobile Advertising platform</td>\n",
       "      <td>8.000000e+04</td>\n",
       "    </tr>\n",
       "    <tr>\n",
       "      <th>626</th>\n",
       "      <td>Raw Meat &amp; Ready to eat food etailer</td>\n",
       "      <td>7.700000e+04</td>\n",
       "    </tr>\n",
       "    <tr>\n",
       "      <th>370</th>\n",
       "      <td>Location based Nightlife recommendation\\\\xc2\\\\...</td>\n",
       "      <td>7.700000e+04</td>\n",
       "    </tr>\n",
       "    <tr>\n",
       "      <th>250</th>\n",
       "      <td>Food Ordering &amp; Delivery App</td>\n",
       "      <td>7.700000e+04</td>\n",
       "    </tr>\n",
       "    <tr>\n",
       "      <th>144</th>\n",
       "      <td>Developer Portfolio Showcase platform</td>\n",
       "      <td>7.000000e+04</td>\n",
       "    </tr>\n",
       "    <tr>\n",
       "      <th>585</th>\n",
       "      <td>Personalized Wish List creator app</td>\n",
       "      <td>5.000000e+04</td>\n",
       "    </tr>\n",
       "    <tr>\n",
       "      <th>117</th>\n",
       "      <td>Coupon Aggregator Platform</td>\n",
       "      <td>2.000000e+04</td>\n",
       "    </tr>\n",
       "    <tr>\n",
       "      <th>760</th>\n",
       "      <td>\\\\xc2\\\\xa0Fashion Info Aggregator App</td>\n",
       "      <td>2.000000e+01</td>\n",
       "    </tr>\n",
       "    <tr>\n",
       "      <th>762</th>\n",
       "      <td>\\\\xc2\\\\xa0Online Grocery Delivery</td>\n",
       "      <td>2.000000e+01</td>\n",
       "    </tr>\n",
       "    <tr>\n",
       "      <th>642</th>\n",
       "      <td>Residential Rental management platform</td>\n",
       "      <td>2.000000e+01</td>\n",
       "    </tr>\n",
       "    <tr>\n",
       "      <th>764</th>\n",
       "      <td>\\\\xc2\\\\xa0Online Study Notes Marketplace</td>\n",
       "      <td>2.000000e+01</td>\n",
       "    </tr>\n",
       "  </tbody>\n",
       "</table>\n",
       "<p>809 rows × 2 columns</p>\n",
       "</div>"
      ],
      "text/plain": [
       "                                     Industry Vertical          mean\n",
       "761               \\\\xc2\\\\xa0News Aggregator mobile app  2.020000e+09\n",
       "766  \\\\xc2\\\\xa0Premium Loyalty Rewards Point Manage...  2.019350e+09\n",
       "763                   \\\\xc2\\\\xa0Online Jewellery Store  2.016200e+09\n",
       "758           \\\\xc2\\\\xa0Casual Dining restaurant Chain  2.010000e+09\n",
       "718                                     Transportation  1.302861e+09\n",
       "165                   E-Commerce & M-Commerce platform  6.800000e+08\n",
       "180                              Ecommerce Marketplace  5.000000e+08\n",
       "82                  Car Aggregator & Retail Mobile App  5.000000e+08\n",
       "76                                      Cab Aggregator  4.000000e+08\n",
       "523                                 Online Marketplace  3.500715e+08\n",
       "29                                          Automation  3.000000e+08\n",
       "37                                        B2B Platform  2.250000e+08\n",
       "759         \\\\xc2\\\\xa0Contact Center Software Platform  2.050000e+08\n",
       "468                                 Online Classifieds  1.500000e+08\n",
       "11                                              Agtech  1.400000e+08\n",
       "377                        Logistics Solution Provider  1.370000e+08\n",
       "79                               Cab rental Mobile app  1.229755e+08\n",
       "309              Hyper-local Grocery Delivery platform  1.200000e+08\n",
       "276                                Health and Wellness  1.195500e+08\n",
       "254                                 Food and Beverages  1.001037e+08\n",
       "67                          Budget Hotel Accommodation  1.000000e+08\n",
       "68                    Budget Hotel accommodation brand  1.000000e+08\n",
       "303                                        Hospitality  1.000000e+08\n",
       "426                                Music Streaming App  1.000000e+08\n",
       "561             Online home d\\\\xc3\\\\xa9cor marketplace  1.000000e+08\n",
       "395                        Mobile Advertising platform  1.000000e+08\n",
       "159                     Doctor Appointment booking app  9.000000e+07\n",
       "178                                Ecommerce Logistics  8.500000e+07\n",
       "605                      Private label Fashion eTailer  7.500000e+07\n",
       "579         Peer-to-Peer Money Transfer & Recharge App  7.000000e+07\n",
       "..                                                 ...           ...\n",
       "440                     On Demand Laundry Services App  1.100000e+05\n",
       "588                           Picture based Social App  1.000000e+05\n",
       "792                   on-Demand Washing & Dry-Cleaning  1.000000e+05\n",
       "283             Healthcare Services Discovery platform  1.000000e+05\n",
       "78                      Cab Sharing service Mobile app  1.000000e+05\n",
       "168  ECommerce Brands\\\\xe2\\\\x80\\\\x99 Full Service A...  1.000000e+05\n",
       "700         Subscription based Online Grocery platform  1.000000e+05\n",
       "269        Gym & Fitness Studios Subscription platform  1.000000e+05\n",
       "258                              Fund Raising Platform  1.000000e+05\n",
       "465                       Online Car Rental Affiliates  1.000000e+05\n",
       "298                         Home Made Food Marketplace  1.000000e+05\n",
       "720              Travel Destination Discovery platform  1.000000e+05\n",
       "228                FinTech Startup Incubation platform  1.000000e+05\n",
       "83             Car Maintenance & Management mobile app  1.000000e+05\n",
       "441                     On Demand Mobile app developer  1.000000e+05\n",
       "339                  Industrial Supplies B2B ecommerce  1.000000e+05\n",
       "683          Social platform for traders and investors  1.000000e+05\n",
       "490           Online Food ordering & Delivery platform  1.000000e+05\n",
       "95                  Cloud Based Collaboration platform  1.000000e+05\n",
       "802  proximity marketing & Mobile Advertising platform  8.000000e+04\n",
       "626               Raw Meat & Ready to eat food etailer  7.700000e+04\n",
       "370  Location based Nightlife recommendation\\\\xc2\\\\...  7.700000e+04\n",
       "250                       Food Ordering & Delivery App  7.700000e+04\n",
       "144              Developer Portfolio Showcase platform  7.000000e+04\n",
       "585                 Personalized Wish List creator app  5.000000e+04\n",
       "117                         Coupon Aggregator Platform  2.000000e+04\n",
       "760              \\\\xc2\\\\xa0Fashion Info Aggregator App  2.000000e+01\n",
       "762                  \\\\xc2\\\\xa0Online Grocery Delivery  2.000000e+01\n",
       "642             Residential Rental management platform  2.000000e+01\n",
       "764           \\\\xc2\\\\xa0Online Study Notes Marketplace  2.000000e+01\n",
       "\n",
       "[809 rows x 2 columns]"
      ]
     },
     "execution_count": 68,
     "metadata": {},
     "output_type": "execute_result"
    }
   ],
   "source": [
    "st_fud.sort_values(by=\"mean\" , ascending=False)"
   ]
  },
  {
   "cell_type": "code",
   "execution_count": 69,
   "metadata": {},
   "outputs": [
    {
     "data": {
      "image/png": "[encoded data removed]",
      "text/plain": [
       "<Figure size 432x288 with 1 Axes>"
      ]
     },
     "metadata": {
      "needs_background": "light"
     },
     "output_type": "display_data"
    }
   ],
   "source": [
    "plt.figure()\n",
    "plt.title(\"Top 10 funds in Indian Startup Funds\")\n",
    "g = sns.barplot(x=st_fud[\"Industry Vertical\"][:10] , y=st_fud[\"mean\"][:10] , palette=\"summer\")\n",
    "plt.ylabel(\"Amount in USD\")\n",
    "plt.xticks(rotation=90)\n",
    "plt.xlabel(\"Top 10 Startups\")\n",
    "plt.show()"
   ]
  },
  {
   "cell_type": "code",
   "execution_count": 70,
   "metadata": {},
   "outputs": [],
   "source": [
    "startup_funds_yearly = df.groupby(df[\"Date\"].dt.year)[\"Amount in USD\"]"
   ]
  },
  {
   "cell_type": "code",
   "execution_count": 71,
   "metadata": {},
   "outputs": [
    {
     "data": {
      "text/plain": [
       "Text(0, 0.5, 'Amount in USD in [E]')"
      ]
     },
     "execution_count": 71,
     "metadata": {},
     "output_type": "execute_result"
    },
    {
     "data": {
      "image/png": "[encoded data removed]",
      "text/plain": [
       "<Figure size 432x288 with 1 Axes>"
      ]
     },
     "metadata": {
      "needs_background": "light"
     },
     "output_type": "display_data"
    }
   ],
   "source": [
    "plt.figure()\n",
    "plt.title(\"Average fund for indian startup YEARLY\")\n",
    "startup_funds_yearly.mean().plot()\n",
    "plt.xlabel(\"Year\")\n",
    "plt.ylabel(\"Amount in USD in [E]\")"
   ]
  },
  {
   "cell_type": "code",
   "execution_count": 72,
   "metadata": {},
   "outputs": [
    {
     "data": {
      "text/plain": [
       "Date\n",
       "2015    2.429212e+07\n",
       "2016    1.244227e+07\n",
       "2017    2.222563e+07\n",
       "2018    1.956505e+07\n",
       "2019    7.969910e+07\n",
       "Name: Amount in USD, dtype: float64"
      ]
     },
     "execution_count": 72,
     "metadata": {},
     "output_type": "execute_result"
    }
   ],
   "source": [
    "startup_funds_yearly.mean()"
   ]
  },
  {
   "cell_type": "code",
   "execution_count": null,
   "metadata": {},
   "outputs": [],
   "source": []
  },
  {
   "cell_type": "code",
   "execution_count": null,
   "metadata": {},
   "outputs": [],
   "source": []
  }
 ],
 "metadata": {
  "kernelspec": {
   "display_name": "Python 3",
   "language": "python",
   "name": "python3"
  },
  "language_info": {
   "codemirror_mode": {
    "name": "ipython",
    "version": 3
   },
   "file_extension": ".py",
   "mimetype": "text/x-python",
   "name": "python",
   "nbconvert_exporter": "python",
   "pygments_lexer": "ipython3",
   "version": "3.7.3"
  }
 },
 "nbformat": 4,
 "nbformat_minor": 4
}
