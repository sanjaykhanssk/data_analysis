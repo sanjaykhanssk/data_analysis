{
 "cells": [
  {
   "cell_type": "markdown",
   "metadata": {
    "Collapsed": "false"
   },
   "source": [
    "# Lets import the things"
   ]
  },
  {
   "cell_type": "code",
   "execution_count": 1,
   "metadata": {
    "Collapsed": "false"
   },
   "outputs": [
    {
     "name": "stderr",
     "output_type": "stream",
     "text": [
      "\n",
      "Bad key \"lines.markerfacecolor\" on line 11 in\n",
      "/usr/share/matplotlib/mpl-data/stylelib/classic.mplstyle.\n",
      "You probably need to get an updated matplotlibrc file from\n",
      "http://github.com/matplotlib/matplotlib/blob/master/matplotlibrc.template\n",
      "or from the matplotlib source distribution\n",
      "\n",
      "Bad key \"lines.markeredgecolor\" on line 12 in\n",
      "/usr/share/matplotlib/mpl-data/stylelib/classic.mplstyle.\n",
      "You probably need to get an updated matplotlibrc file from\n",
      "http://github.com/matplotlib/matplotlib/blob/master/matplotlibrc.template\n",
      "or from the matplotlib source distribution\n"
     ]
    }
   ],
   "source": [
    "import pandas as pd\n",
    "import numpy as np\n",
    "import matplotlib.pyplot as plt\n",
    "import seaborn as sns"
   ]
  },
  {
   "cell_type": "markdown",
   "metadata": {
    "Collapsed": "false"
   },
   "source": [
    "# Lets load the dataset"
   ]
  },
  {
   "cell_type": "code",
   "execution_count": 2,
   "metadata": {
    "Collapsed": "false"
   },
   "outputs": [],
   "source": [
    "df = pd.read_csv(\"Suicides in India 2001-2012.csv\")"
   ]
  },
  {
   "cell_type": "markdown",
   "metadata": {
    "Collapsed": "false"
   },
   "source": [
    "# 1. Data Wrangling"
   ]
  },
  {
   "cell_type": "code",
   "execution_count": 3,
   "metadata": {
    "Collapsed": "false"
   },
   "outputs": [
    {
     "data": {
      "text/html": [
       "<div>\n",
       "<style scoped>\n",
       "    .dataframe tbody tr th:only-of-type {\n",
       "        vertical-align: middle;\n",
       "    }\n",
       "\n",
       "    .dataframe tbody tr th {\n",
       "        vertical-align: top;\n",
       "    }\n",
       "\n",
       "    .dataframe thead th {\n",
       "        text-align: right;\n",
       "    }\n",
       "</style>\n",
       "<table border=\"1\" class=\"dataframe\">\n",
       "  <thead>\n",
       "    <tr style=\"text-align: right;\">\n",
       "      <th></th>\n",
       "      <th>Year</th>\n",
       "      <th>Total</th>\n",
       "    </tr>\n",
       "  </thead>\n",
       "  <tbody>\n",
       "    <tr>\n",
       "      <td>count</td>\n",
       "      <td>237519.000000</td>\n",
       "      <td>237519.000000</td>\n",
       "    </tr>\n",
       "    <tr>\n",
       "      <td>mean</td>\n",
       "      <td>2006.500448</td>\n",
       "      <td>55.034477</td>\n",
       "    </tr>\n",
       "    <tr>\n",
       "      <td>std</td>\n",
       "      <td>3.452240</td>\n",
       "      <td>792.749038</td>\n",
       "    </tr>\n",
       "    <tr>\n",
       "      <td>min</td>\n",
       "      <td>2001.000000</td>\n",
       "      <td>0.000000</td>\n",
       "    </tr>\n",
       "    <tr>\n",
       "      <td>25%</td>\n",
       "      <td>2004.000000</td>\n",
       "      <td>0.000000</td>\n",
       "    </tr>\n",
       "    <tr>\n",
       "      <td>50%</td>\n",
       "      <td>2007.000000</td>\n",
       "      <td>0.000000</td>\n",
       "    </tr>\n",
       "    <tr>\n",
       "      <td>75%</td>\n",
       "      <td>2010.000000</td>\n",
       "      <td>6.000000</td>\n",
       "    </tr>\n",
       "    <tr>\n",
       "      <td>max</td>\n",
       "      <td>2012.000000</td>\n",
       "      <td>63343.000000</td>\n",
       "    </tr>\n",
       "  </tbody>\n",
       "</table>\n",
       "</div>"
      ],
      "text/plain": [
       "                Year          Total\n",
       "count  237519.000000  237519.000000\n",
       "mean     2006.500448      55.034477\n",
       "std         3.452240     792.749038\n",
       "min      2001.000000       0.000000\n",
       "25%      2004.000000       0.000000\n",
       "50%      2007.000000       0.000000\n",
       "75%      2010.000000       6.000000\n",
       "max      2012.000000   63343.000000"
      ]
     },
     "execution_count": 3,
     "metadata": {},
     "output_type": "execute_result"
    }
   ],
   "source": [
    "df.describe()"
   ]
  },
  {
   "cell_type": "markdown",
   "metadata": {
    "Collapsed": "false"
   },
   "source": [
    "## 1.1Getting Info about dataset"
   ]
  },
  {
   "cell_type": "code",
   "execution_count": null,
   "metadata": {
    "Collapsed": "false"
   },
   "outputs": [],
   "source": []
  },
  {
   "cell_type": "code",
   "execution_count": 4,
   "metadata": {
    "Collapsed": "false"
   },
   "outputs": [
    {
     "name": "stdout",
     "output_type": "stream",
     "text": [
      "<class 'pandas.core.frame.DataFrame'>\n",
      "RangeIndex: 237519 entries, 0 to 237518\n",
      "Data columns (total 7 columns):\n",
      "State        237519 non-null object\n",
      "Year         237519 non-null int64\n",
      "Type_code    237519 non-null object\n",
      "Type         237519 non-null object\n",
      "Gender       237519 non-null object\n",
      "Age_group    237519 non-null object\n",
      "Total        237519 non-null int64\n",
      "dtypes: int64(2), object(5)\n",
      "memory usage: 12.7+ MB\n"
     ]
    }
   ],
   "source": [
    "df.info()"
   ]
  },
  {
   "cell_type": "markdown",
   "metadata": {
    "Collapsed": "false"
   },
   "source": [
    "## 1.2Getting sample about Dataset"
   ]
  },
  {
   "cell_type": "code",
   "execution_count": 5,
   "metadata": {
    "Collapsed": "false"
   },
   "outputs": [
    {
     "data": {
      "text/html": [
       "<div>\n",
       "<style scoped>\n",
       "    .dataframe tbody tr th:only-of-type {\n",
       "        vertical-align: middle;\n",
       "    }\n",
       "\n",
       "    .dataframe tbody tr th {\n",
       "        vertical-align: top;\n",
       "    }\n",
       "\n",
       "    .dataframe thead th {\n",
       "        text-align: right;\n",
       "    }\n",
       "</style>\n",
       "<table border=\"1\" class=\"dataframe\">\n",
       "  <thead>\n",
       "    <tr style=\"text-align: right;\">\n",
       "      <th></th>\n",
       "      <th>State</th>\n",
       "      <th>Year</th>\n",
       "      <th>Type_code</th>\n",
       "      <th>Type</th>\n",
       "      <th>Gender</th>\n",
       "      <th>Age_group</th>\n",
       "      <th>Total</th>\n",
       "    </tr>\n",
       "  </thead>\n",
       "  <tbody>\n",
       "    <tr>\n",
       "      <th>0</th>\n",
       "      <td>A &amp; N Islands</td>\n",
       "      <td>2001</td>\n",
       "      <td>Causes</td>\n",
       "      <td>Illness (Aids/STD)</td>\n",
       "      <td>Female</td>\n",
       "      <td>0-14</td>\n",
       "      <td>0</td>\n",
       "    </tr>\n",
       "    <tr>\n",
       "      <th>1</th>\n",
       "      <td>A &amp; N Islands</td>\n",
       "      <td>2001</td>\n",
       "      <td>Causes</td>\n",
       "      <td>Bankruptcy or Sudden change in Economic</td>\n",
       "      <td>Female</td>\n",
       "      <td>0-14</td>\n",
       "      <td>0</td>\n",
       "    </tr>\n",
       "    <tr>\n",
       "      <th>2</th>\n",
       "      <td>A &amp; N Islands</td>\n",
       "      <td>2001</td>\n",
       "      <td>Causes</td>\n",
       "      <td>Cancellation/Non-Settlement of Marriage</td>\n",
       "      <td>Female</td>\n",
       "      <td>0-14</td>\n",
       "      <td>0</td>\n",
       "    </tr>\n",
       "    <tr>\n",
       "      <th>3</th>\n",
       "      <td>A &amp; N Islands</td>\n",
       "      <td>2001</td>\n",
       "      <td>Causes</td>\n",
       "      <td>Physical Abuse (Rape/Incest Etc.)</td>\n",
       "      <td>Female</td>\n",
       "      <td>0-14</td>\n",
       "      <td>0</td>\n",
       "    </tr>\n",
       "    <tr>\n",
       "      <th>4</th>\n",
       "      <td>A &amp; N Islands</td>\n",
       "      <td>2001</td>\n",
       "      <td>Causes</td>\n",
       "      <td>Dowry Dispute</td>\n",
       "      <td>Female</td>\n",
       "      <td>0-14</td>\n",
       "      <td>0</td>\n",
       "    </tr>\n",
       "  </tbody>\n",
       "</table>\n",
       "</div>"
      ],
      "text/plain": [
       "           State  Year Type_code                                     Type  \\\n",
       "0  A & N Islands  2001    Causes                       Illness (Aids/STD)   \n",
       "1  A & N Islands  2001    Causes  Bankruptcy or Sudden change in Economic   \n",
       "2  A & N Islands  2001    Causes  Cancellation/Non-Settlement of Marriage   \n",
       "3  A & N Islands  2001    Causes        Physical Abuse (Rape/Incest Etc.)   \n",
       "4  A & N Islands  2001    Causes                            Dowry Dispute   \n",
       "\n",
       "   Gender Age_group  Total  \n",
       "0  Female      0-14      0  \n",
       "1  Female      0-14      0  \n",
       "2  Female      0-14      0  \n",
       "3  Female      0-14      0  \n",
       "4  Female      0-14      0  "
      ]
     },
     "execution_count": 5,
     "metadata": {},
     "output_type": "execute_result"
    }
   ],
   "source": [
    "df.head()"
   ]
  },
  {
   "cell_type": "markdown",
   "metadata": {
    "Collapsed": "false"
   },
   "source": [
    "## 1.3 Checking for null value"
   ]
  },
  {
   "cell_type": "code",
   "execution_count": 6,
   "metadata": {
    "Collapsed": "false"
   },
   "outputs": [
    {
     "data": {
      "text/plain": [
       "State        0\n",
       "Year         0\n",
       "Type_code    0\n",
       "Type         0\n",
       "Gender       0\n",
       "Age_group    0\n",
       "Total        0\n",
       "dtype: int64"
      ]
     },
     "execution_count": 6,
     "metadata": {},
     "output_type": "execute_result"
    }
   ],
   "source": [
    "df.isna().sum()"
   ]
  },
  {
   "cell_type": "markdown",
   "metadata": {
    "Collapsed": "false"
   },
   "source": [
    "## 1.4 Shape of the Dataset"
   ]
  },
  {
   "cell_type": "code",
   "execution_count": 7,
   "metadata": {
    "Collapsed": "false"
   },
   "outputs": [
    {
     "data": {
      "text/plain": [
       "(237519, 7)"
      ]
     },
     "execution_count": 7,
     "metadata": {},
     "output_type": "execute_result"
    }
   ],
   "source": [
    "df.shape"
   ]
  },
  {
   "cell_type": "markdown",
   "metadata": {
    "Collapsed": "false"
   },
   "source": [
    "## 1.5 Copying the dataset for future use"
   ]
  },
  {
   "cell_type": "code",
   "execution_count": 15,
   "metadata": {
    "Collapsed": "false"
   },
   "outputs": [],
   "source": [
    "df_copy = df.copy()"
   ]
  },
  {
   "cell_type": "markdown",
   "metadata": {
    "Collapsed": "false"
   },
   "source": [
    "## 1.6 Droping the duplicates"
   ]
  },
  {
   "cell_type": "code",
   "execution_count": 9,
   "metadata": {
    "Collapsed": "false"
   },
   "outputs": [],
   "source": [
    "df.drop_duplicates(inplace=True)"
   ]
  },
  {
   "cell_type": "markdown",
   "metadata": {
    "Collapsed": "false"
   },
   "source": [
    "## 1.7 Shape After Droping the Duplicates"
   ]
  },
  {
   "cell_type": "code",
   "execution_count": 10,
   "metadata": {
    "Collapsed": "false"
   },
   "outputs": [
    {
     "data": {
      "text/plain": [
       "(237519, 7)"
      ]
     },
     "execution_count": 10,
     "metadata": {},
     "output_type": "execute_result"
    }
   ],
   "source": [
    "df.shape"
   ]
  },
  {
   "cell_type": "markdown",
   "metadata": {
    "Collapsed": "true"
   },
   "source": [
    "# 2 . Data Visualization"
   ]
  },
  {
   "cell_type": "code",
   "execution_count": 11,
   "metadata": {
    "Collapsed": "false"
   },
   "outputs": [
    {
     "data": {
      "text/html": [
       "<div>\n",
       "<style scoped>\n",
       "    .dataframe tbody tr th:only-of-type {\n",
       "        vertical-align: middle;\n",
       "    }\n",
       "\n",
       "    .dataframe tbody tr th {\n",
       "        vertical-align: top;\n",
       "    }\n",
       "\n",
       "    .dataframe thead th {\n",
       "        text-align: right;\n",
       "    }\n",
       "</style>\n",
       "<table border=\"1\" class=\"dataframe\">\n",
       "  <thead>\n",
       "    <tr style=\"text-align: right;\">\n",
       "      <th></th>\n",
       "      <th>State</th>\n",
       "      <th>Year</th>\n",
       "      <th>Type_code</th>\n",
       "      <th>Type</th>\n",
       "      <th>Gender</th>\n",
       "      <th>Age_group</th>\n",
       "      <th>Total</th>\n",
       "    </tr>\n",
       "  </thead>\n",
       "  <tbody>\n",
       "    <tr>\n",
       "      <th>0</th>\n",
       "      <td>A &amp; N Islands</td>\n",
       "      <td>2001</td>\n",
       "      <td>Causes</td>\n",
       "      <td>Illness (Aids/STD)</td>\n",
       "      <td>Female</td>\n",
       "      <td>0-14</td>\n",
       "      <td>0</td>\n",
       "    </tr>\n",
       "    <tr>\n",
       "      <th>1</th>\n",
       "      <td>A &amp; N Islands</td>\n",
       "      <td>2001</td>\n",
       "      <td>Causes</td>\n",
       "      <td>Bankruptcy or Sudden change in Economic</td>\n",
       "      <td>Female</td>\n",
       "      <td>0-14</td>\n",
       "      <td>0</td>\n",
       "    </tr>\n",
       "    <tr>\n",
       "      <th>2</th>\n",
       "      <td>A &amp; N Islands</td>\n",
       "      <td>2001</td>\n",
       "      <td>Causes</td>\n",
       "      <td>Cancellation/Non-Settlement of Marriage</td>\n",
       "      <td>Female</td>\n",
       "      <td>0-14</td>\n",
       "      <td>0</td>\n",
       "    </tr>\n",
       "    <tr>\n",
       "      <th>3</th>\n",
       "      <td>A &amp; N Islands</td>\n",
       "      <td>2001</td>\n",
       "      <td>Causes</td>\n",
       "      <td>Physical Abuse (Rape/Incest Etc.)</td>\n",
       "      <td>Female</td>\n",
       "      <td>0-14</td>\n",
       "      <td>0</td>\n",
       "    </tr>\n",
       "    <tr>\n",
       "      <th>4</th>\n",
       "      <td>A &amp; N Islands</td>\n",
       "      <td>2001</td>\n",
       "      <td>Causes</td>\n",
       "      <td>Dowry Dispute</td>\n",
       "      <td>Female</td>\n",
       "      <td>0-14</td>\n",
       "      <td>0</td>\n",
       "    </tr>\n",
       "  </tbody>\n",
       "</table>\n",
       "</div>"
      ],
      "text/plain": [
       "           State  Year Type_code                                     Type  \\\n",
       "0  A & N Islands  2001    Causes                       Illness (Aids/STD)   \n",
       "1  A & N Islands  2001    Causes  Bankruptcy or Sudden change in Economic   \n",
       "2  A & N Islands  2001    Causes  Cancellation/Non-Settlement of Marriage   \n",
       "3  A & N Islands  2001    Causes        Physical Abuse (Rape/Incest Etc.)   \n",
       "4  A & N Islands  2001    Causes                            Dowry Dispute   \n",
       "\n",
       "   Gender Age_group  Total  \n",
       "0  Female      0-14      0  \n",
       "1  Female      0-14      0  \n",
       "2  Female      0-14      0  \n",
       "3  Female      0-14      0  \n",
       "4  Female      0-14      0  "
      ]
     },
     "execution_count": 11,
     "metadata": {},
     "output_type": "execute_result"
    }
   ],
   "source": [
    "df.head()"
   ]
  },
  {
   "cell_type": "code",
   "execution_count": 12,
   "metadata": {
    "Collapsed": "false"
   },
   "outputs": [
    {
     "data": {
      "text/plain": [
       "<matplotlib.axes._subplots.AxesSubplot at 0x7f9d612544e0>"
      ]
     },
     "execution_count": 12,
     "metadata": {},
     "output_type": "execute_result"
    },
    {
     "data": {
      "image/png": "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\n",
      "text/plain": [
       "<Figure size 432x288 with 1 Axes>"
      ]
     },
     "metadata": {
      "needs_background": "light"
     },
     "output_type": "display_data"
    }
   ],
   "source": [
    "df.plot()"
   ]
  },
  {
   "cell_type": "code",
   "execution_count": 13,
   "metadata": {
    "Collapsed": "false"
   },
   "outputs": [
    {
     "data": {
      "text/plain": [
       "<matplotlib.axes._subplots.AxesSubplot at 0x7f9d6074b668>"
      ]
     },
     "execution_count": 13,
     "metadata": {},
     "output_type": "execute_result"
    },
    {
     "data": {
      "image/png": "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\n",
      "text/plain": [
       "<Figure size 432x288 with 1 Axes>"
      ]
     },
     "metadata": {
      "needs_background": "light"
     },
     "output_type": "display_data"
    }
   ],
   "source": [
    "df[\"Total\"].plot()"
   ]
  },
  {
   "cell_type": "markdown",
   "metadata": {
    "Collapsed": "false"
   },
   "source": [
    "# From the above Graph\n",
    "## we can see that this df[\"Total\"] is not a going good..\n",
    "## let's see what's going on there"
   ]
  },
  {
   "cell_type": "code",
   "execution_count": 5,
   "metadata": {
    "Collapsed": "false"
   },
   "outputs": [
    {
     "data": {
      "text/plain": [
       "63343"
      ]
     },
     "execution_count": 5,
     "metadata": {},
     "output_type": "execute_result"
    }
   ],
   "source": [
    "df.Total.max()"
   ]
  },
  {
   "cell_type": "markdown",
   "metadata": {
    "Collapsed": "false"
   },
   "source": [
    "### So The max value comes from"
   ]
  },
  {
   "cell_type": "code",
   "execution_count": 6,
   "metadata": {
    "Collapsed": "false"
   },
   "outputs": [
    {
     "data": {
      "text/html": [
       "<div>\n",
       "<style scoped>\n",
       "    .dataframe tbody tr th:only-of-type {\n",
       "        vertical-align: middle;\n",
       "    }\n",
       "\n",
       "    .dataframe tbody tr th {\n",
       "        vertical-align: top;\n",
       "    }\n",
       "\n",
       "    .dataframe thead th {\n",
       "        text-align: right;\n",
       "    }\n",
       "</style>\n",
       "<table border=\"1\" class=\"dataframe\">\n",
       "  <thead>\n",
       "    <tr style=\"text-align: right;\">\n",
       "      <th></th>\n",
       "      <th>State</th>\n",
       "      <th>Year</th>\n",
       "      <th>Type_code</th>\n",
       "      <th>Type</th>\n",
       "      <th>Gender</th>\n",
       "      <th>Age_group</th>\n",
       "      <th>Total</th>\n",
       "    </tr>\n",
       "  </thead>\n",
       "  <tbody>\n",
       "    <tr>\n",
       "      <td>209783</td>\n",
       "      <td>Total (All India)</td>\n",
       "      <td>2012</td>\n",
       "      <td>Social_Status</td>\n",
       "      <td>Married</td>\n",
       "      <td>Male</td>\n",
       "      <td>0-100+</td>\n",
       "      <td>63343</td>\n",
       "    </tr>\n",
       "  </tbody>\n",
       "</table>\n",
       "</div>"
      ],
      "text/plain": [
       "                    State  Year      Type_code     Type Gender Age_group  \\\n",
       "209783  Total (All India)  2012  Social_Status  Married   Male    0-100+   \n",
       "\n",
       "        Total  \n",
       "209783  63343  "
      ]
     },
     "execution_count": 6,
     "metadata": {},
     "output_type": "execute_result"
    }
   ],
   "source": [
    "df[df[\"Total\"] == 63343]"
   ]
  },
  {
   "cell_type": "markdown",
   "metadata": {
    "Collapsed": "false"
   },
   "source": [
    "### We can see that the data is all over india but it should be a State of india  , However let's explore df[\"Total\"] more"
   ]
  },
  {
   "cell_type": "code",
   "execution_count": 7,
   "metadata": {
    "Collapsed": "false"
   },
   "outputs": [
    {
     "data": {
      "text/html": [
       "<div>\n",
       "<style scoped>\n",
       "    .dataframe tbody tr th:only-of-type {\n",
       "        vertical-align: middle;\n",
       "    }\n",
       "\n",
       "    .dataframe tbody tr th {\n",
       "        vertical-align: top;\n",
       "    }\n",
       "\n",
       "    .dataframe thead th {\n",
       "        text-align: right;\n",
       "    }\n",
       "</style>\n",
       "<table border=\"1\" class=\"dataframe\">\n",
       "  <thead>\n",
       "    <tr style=\"text-align: right;\">\n",
       "      <th></th>\n",
       "      <th>State</th>\n",
       "      <th>Year</th>\n",
       "      <th>Type_code</th>\n",
       "      <th>Type</th>\n",
       "      <th>Gender</th>\n",
       "      <th>Age_group</th>\n",
       "      <th>Total</th>\n",
       "    </tr>\n",
       "  </thead>\n",
       "  <tbody>\n",
       "    <tr>\n",
       "      <td>237514</td>\n",
       "      <td>West Bengal</td>\n",
       "      <td>2012</td>\n",
       "      <td>Social_Status</td>\n",
       "      <td>Seperated</td>\n",
       "      <td>Male</td>\n",
       "      <td>0-100+</td>\n",
       "      <td>149</td>\n",
       "    </tr>\n",
       "    <tr>\n",
       "      <td>237515</td>\n",
       "      <td>West Bengal</td>\n",
       "      <td>2012</td>\n",
       "      <td>Social_Status</td>\n",
       "      <td>Widowed/Widower</td>\n",
       "      <td>Male</td>\n",
       "      <td>0-100+</td>\n",
       "      <td>233</td>\n",
       "    </tr>\n",
       "    <tr>\n",
       "      <td>237516</td>\n",
       "      <td>West Bengal</td>\n",
       "      <td>2012</td>\n",
       "      <td>Social_Status</td>\n",
       "      <td>Married</td>\n",
       "      <td>Male</td>\n",
       "      <td>0-100+</td>\n",
       "      <td>5451</td>\n",
       "    </tr>\n",
       "    <tr>\n",
       "      <td>237517</td>\n",
       "      <td>West Bengal</td>\n",
       "      <td>2012</td>\n",
       "      <td>Social_Status</td>\n",
       "      <td>Divorcee</td>\n",
       "      <td>Male</td>\n",
       "      <td>0-100+</td>\n",
       "      <td>189</td>\n",
       "    </tr>\n",
       "    <tr>\n",
       "      <td>237518</td>\n",
       "      <td>West Bengal</td>\n",
       "      <td>2012</td>\n",
       "      <td>Social_Status</td>\n",
       "      <td>Never Married</td>\n",
       "      <td>Male</td>\n",
       "      <td>0-100+</td>\n",
       "      <td>2658</td>\n",
       "    </tr>\n",
       "  </tbody>\n",
       "</table>\n",
       "</div>"
      ],
      "text/plain": [
       "              State  Year      Type_code             Type Gender Age_group  \\\n",
       "237514  West Bengal  2012  Social_Status        Seperated   Male    0-100+   \n",
       "237515  West Bengal  2012  Social_Status  Widowed/Widower   Male    0-100+   \n",
       "237516  West Bengal  2012  Social_Status          Married   Male    0-100+   \n",
       "237517  West Bengal  2012  Social_Status         Divorcee   Male    0-100+   \n",
       "237518  West Bengal  2012  Social_Status    Never Married   Male    0-100+   \n",
       "\n",
       "        Total  \n",
       "237514    149  \n",
       "237515    233  \n",
       "237516   5451  \n",
       "237517    189  \n",
       "237518   2658  "
      ]
     },
     "execution_count": 7,
     "metadata": {},
     "output_type": "execute_result"
    }
   ],
   "source": [
    "df[df[\"Year\"] == 2012].tail()"
   ]
  },
  {
   "cell_type": "markdown",
   "metadata": {
    "Collapsed": "false"
   },
   "source": [
    "### so the data is sorted by State name , we can't find All india total there  , so let's go deep"
   ]
  },
  {
   "cell_type": "code",
   "execution_count": 8,
   "metadata": {
    "Collapsed": "false"
   },
   "outputs": [
    {
     "data": {
      "text/html": [
       "<div>\n",
       "<style scoped>\n",
       "    .dataframe tbody tr th:only-of-type {\n",
       "        vertical-align: middle;\n",
       "    }\n",
       "\n",
       "    .dataframe tbody tr th {\n",
       "        vertical-align: top;\n",
       "    }\n",
       "\n",
       "    .dataframe thead th {\n",
       "        text-align: right;\n",
       "    }\n",
       "</style>\n",
       "<table border=\"1\" class=\"dataframe\">\n",
       "  <thead>\n",
       "    <tr style=\"text-align: right;\">\n",
       "      <th></th>\n",
       "      <th>State</th>\n",
       "      <th>Year</th>\n",
       "      <th>Type_code</th>\n",
       "      <th>Type</th>\n",
       "      <th>Gender</th>\n",
       "      <th>Age_group</th>\n",
       "      <th>Total</th>\n",
       "    </tr>\n",
       "  </thead>\n",
       "  <tbody>\n",
       "    <tr>\n",
       "      <td>209565</td>\n",
       "      <td>Total (All India)</td>\n",
       "      <td>2004</td>\n",
       "      <td>Education_Status</td>\n",
       "      <td>Hr. Secondary/Intermediate/Pre-Universit</td>\n",
       "      <td>Male</td>\n",
       "      <td>0-100+</td>\n",
       "      <td>5678</td>\n",
       "    </tr>\n",
       "    <tr>\n",
       "      <td>209595</td>\n",
       "      <td>Total (All India)</td>\n",
       "      <td>2005</td>\n",
       "      <td>Education_Status</td>\n",
       "      <td>No Education</td>\n",
       "      <td>Male</td>\n",
       "      <td>0-100+</td>\n",
       "      <td>15244</td>\n",
       "    </tr>\n",
       "    <tr>\n",
       "      <td>209490</td>\n",
       "      <td>Total (All India)</td>\n",
       "      <td>2001</td>\n",
       "      <td>Education_Status</td>\n",
       "      <td>Matriculate/Secondary</td>\n",
       "      <td>Male</td>\n",
       "      <td>0-100+</td>\n",
       "      <td>10898</td>\n",
       "    </tr>\n",
       "    <tr>\n",
       "      <td>209688</td>\n",
       "      <td>Total (All India)</td>\n",
       "      <td>2009</td>\n",
       "      <td>Education_Status</td>\n",
       "      <td>Hr. Secondary/Intermediate/Pre-Universit</td>\n",
       "      <td>Female</td>\n",
       "      <td>0-100+</td>\n",
       "      <td>3769</td>\n",
       "    </tr>\n",
       "    <tr>\n",
       "      <td>209697</td>\n",
       "      <td>Total (All India)</td>\n",
       "      <td>2009</td>\n",
       "      <td>Education_Status</td>\n",
       "      <td>Diploma</td>\n",
       "      <td>Male</td>\n",
       "      <td>0-100+</td>\n",
       "      <td>817</td>\n",
       "    </tr>\n",
       "  </tbody>\n",
       "</table>\n",
       "</div>"
      ],
      "text/plain": [
       "                    State  Year         Type_code  \\\n",
       "209565  Total (All India)  2004  Education_Status   \n",
       "209595  Total (All India)  2005  Education_Status   \n",
       "209490  Total (All India)  2001  Education_Status   \n",
       "209688  Total (All India)  2009  Education_Status   \n",
       "209697  Total (All India)  2009  Education_Status   \n",
       "\n",
       "                                            Type  Gender Age_group  Total  \n",
       "209565  Hr. Secondary/Intermediate/Pre-Universit    Male    0-100+   5678  \n",
       "209595                              No Education    Male    0-100+  15244  \n",
       "209490                     Matriculate/Secondary    Male    0-100+  10898  \n",
       "209688  Hr. Secondary/Intermediate/Pre-Universit  Female    0-100+   3769  \n",
       "209697                                   Diploma    Male    0-100+    817  "
      ]
     },
     "execution_count": 8,
     "metadata": {},
     "output_type": "execute_result"
    }
   ],
   "source": [
    "df.query(\"State == 'Total (All India)'\").sample(n=5)"
   ]
  },
  {
   "cell_type": "markdown",
   "metadata": {
    "Collapsed": "false"
   },
   "source": [
    "### so this proves that in all year The data of All India Total is stored right , no  more doubts in df[\"Total\"]"
   ]
  },
  {
   "cell_type": "code",
   "execution_count": 9,
   "metadata": {
    "Collapsed": "false"
   },
   "outputs": [
    {
     "data": {
      "text/html": [
       "<h1> \"Let's Finish Data Visualization and move to Exploratory Data Analysis \"</h1>"
      ],
      "text/plain": [
       "<IPython.core.display.HTML object>"
      ]
     },
     "metadata": {},
     "output_type": "display_data"
    }
   ],
   "source": [
    "%%html\n",
    "<h1> \"Let's Finish Data Visualization and move to Exploratory Data Analysis \"</h1>"
   ]
  },
  {
   "cell_type": "markdown",
   "metadata": {
    "Collapsed": "false"
   },
   "source": [
    "# 3. Exploratory Data Analysis"
   ]
  },
  {
   "cell_type": "markdown",
   "metadata": {
    "Collapsed": "false"
   },
   "source": [
    "## 3.1 . Exploring Single Variables"
   ]
  },
  {
   "cell_type": "code",
   "execution_count": 10,
   "metadata": {
    "Collapsed": "false"
   },
   "outputs": [
    {
     "data": {
      "text/html": [
       "<div>\n",
       "<style scoped>\n",
       "    .dataframe tbody tr th:only-of-type {\n",
       "        vertical-align: middle;\n",
       "    }\n",
       "\n",
       "    .dataframe tbody tr th {\n",
       "        vertical-align: top;\n",
       "    }\n",
       "\n",
       "    .dataframe thead th {\n",
       "        text-align: right;\n",
       "    }\n",
       "</style>\n",
       "<table border=\"1\" class=\"dataframe\">\n",
       "  <thead>\n",
       "    <tr style=\"text-align: right;\">\n",
       "      <th></th>\n",
       "      <th>State</th>\n",
       "      <th>Year</th>\n",
       "      <th>Type_code</th>\n",
       "      <th>Type</th>\n",
       "      <th>Gender</th>\n",
       "      <th>Age_group</th>\n",
       "      <th>Total</th>\n",
       "    </tr>\n",
       "  </thead>\n",
       "  <tbody>\n",
       "    <tr>\n",
       "      <td>0</td>\n",
       "      <td>A &amp; N Islands</td>\n",
       "      <td>2001</td>\n",
       "      <td>Causes</td>\n",
       "      <td>Illness (Aids/STD)</td>\n",
       "      <td>Female</td>\n",
       "      <td>0-14</td>\n",
       "      <td>0</td>\n",
       "    </tr>\n",
       "    <tr>\n",
       "      <td>1</td>\n",
       "      <td>A &amp; N Islands</td>\n",
       "      <td>2001</td>\n",
       "      <td>Causes</td>\n",
       "      <td>Bankruptcy or Sudden change in Economic</td>\n",
       "      <td>Female</td>\n",
       "      <td>0-14</td>\n",
       "      <td>0</td>\n",
       "    </tr>\n",
       "    <tr>\n",
       "      <td>2</td>\n",
       "      <td>A &amp; N Islands</td>\n",
       "      <td>2001</td>\n",
       "      <td>Causes</td>\n",
       "      <td>Cancellation/Non-Settlement of Marriage</td>\n",
       "      <td>Female</td>\n",
       "      <td>0-14</td>\n",
       "      <td>0</td>\n",
       "    </tr>\n",
       "    <tr>\n",
       "      <td>3</td>\n",
       "      <td>A &amp; N Islands</td>\n",
       "      <td>2001</td>\n",
       "      <td>Causes</td>\n",
       "      <td>Physical Abuse (Rape/Incest Etc.)</td>\n",
       "      <td>Female</td>\n",
       "      <td>0-14</td>\n",
       "      <td>0</td>\n",
       "    </tr>\n",
       "    <tr>\n",
       "      <td>4</td>\n",
       "      <td>A &amp; N Islands</td>\n",
       "      <td>2001</td>\n",
       "      <td>Causes</td>\n",
       "      <td>Dowry Dispute</td>\n",
       "      <td>Female</td>\n",
       "      <td>0-14</td>\n",
       "      <td>0</td>\n",
       "    </tr>\n",
       "  </tbody>\n",
       "</table>\n",
       "</div>"
      ],
      "text/plain": [
       "           State  Year Type_code                                     Type  \\\n",
       "0  A & N Islands  2001    Causes                       Illness (Aids/STD)   \n",
       "1  A & N Islands  2001    Causes  Bankruptcy or Sudden change in Economic   \n",
       "2  A & N Islands  2001    Causes  Cancellation/Non-Settlement of Marriage   \n",
       "3  A & N Islands  2001    Causes        Physical Abuse (Rape/Incest Etc.)   \n",
       "4  A & N Islands  2001    Causes                            Dowry Dispute   \n",
       "\n",
       "   Gender Age_group  Total  \n",
       "0  Female      0-14      0  \n",
       "1  Female      0-14      0  \n",
       "2  Female      0-14      0  \n",
       "3  Female      0-14      0  \n",
       "4  Female      0-14      0  "
      ]
     },
     "execution_count": 10,
     "metadata": {},
     "output_type": "execute_result"
    }
   ],
   "source": [
    "df.head()"
   ]
  },
  {
   "cell_type": "markdown",
   "metadata": {
    "Collapsed": "false"
   },
   "source": [
    "### 3.1.0 We don't want to care about Total == 0 right because they are like No susides right"
   ]
  },
  {
   "cell_type": "code",
   "execution_count": 11,
   "metadata": {
    "Collapsed": "false"
   },
   "outputs": [],
   "source": [
    "df = df[df[\"Total\"] > 0 ]"
   ]
  },
  {
   "cell_type": "code",
   "execution_count": 12,
   "metadata": {
    "Collapsed": "false"
   },
   "outputs": [
    {
     "data": {
      "text/plain": [
       "(102038, 7)"
      ]
     },
     "execution_count": 12,
     "metadata": {},
     "output_type": "execute_result"
    }
   ],
   "source": [
    "df.shape"
   ]
  },
  {
   "cell_type": "code",
   "execution_count": 16,
   "metadata": {
    "Collapsed": "false"
   },
   "outputs": [
    {
     "data": {
      "text/plain": [
       "(102038, 7)"
      ]
     },
     "execution_count": 16,
     "metadata": {},
     "output_type": "execute_result"
    }
   ],
   "source": [
    "df_copy.shape"
   ]
  },
  {
   "cell_type": "code",
   "execution_count": 17,
   "metadata": {
    "Collapsed": "false"
   },
   "outputs": [
    {
     "name": "stdout",
     "output_type": "stream",
     "text": [
      "No of columns contains Target == 0 is :0\n"
     ]
    }
   ],
   "source": [
    "print(f\"No of columns contains Target == 0 is :{df_copy.shape[0] - df.shape[0]}\")"
   ]
  },
  {
   "cell_type": "code",
   "execution_count": 18,
   "metadata": {
    "Collapsed": "false"
   },
   "outputs": [
    {
     "data": {
      "text/html": [
       "<div>\n",
       "<style scoped>\n",
       "    .dataframe tbody tr th:only-of-type {\n",
       "        vertical-align: middle;\n",
       "    }\n",
       "\n",
       "    .dataframe tbody tr th {\n",
       "        vertical-align: top;\n",
       "    }\n",
       "\n",
       "    .dataframe thead th {\n",
       "        text-align: right;\n",
       "    }\n",
       "</style>\n",
       "<table border=\"1\" class=\"dataframe\">\n",
       "  <thead>\n",
       "    <tr style=\"text-align: right;\">\n",
       "      <th></th>\n",
       "      <th>State</th>\n",
       "      <th>Year</th>\n",
       "      <th>Type_code</th>\n",
       "      <th>Type</th>\n",
       "      <th>Gender</th>\n",
       "      <th>Age_group</th>\n",
       "      <th>Total</th>\n",
       "    </tr>\n",
       "  </thead>\n",
       "  <tbody>\n",
       "    <tr>\n",
       "      <td>13</td>\n",
       "      <td>A &amp; N Islands</td>\n",
       "      <td>2001</td>\n",
       "      <td>Causes</td>\n",
       "      <td>Love Affairs</td>\n",
       "      <td>Female</td>\n",
       "      <td>0-14</td>\n",
       "      <td>1</td>\n",
       "    </tr>\n",
       "    <tr>\n",
       "      <td>20</td>\n",
       "      <td>A &amp; N Islands</td>\n",
       "      <td>2001</td>\n",
       "      <td>Causes</td>\n",
       "      <td>Other Causes (Please Specity)</td>\n",
       "      <td>Female</td>\n",
       "      <td>0-14</td>\n",
       "      <td>1</td>\n",
       "    </tr>\n",
       "    <tr>\n",
       "      <td>32</td>\n",
       "      <td>A &amp; N Islands</td>\n",
       "      <td>2001</td>\n",
       "      <td>Causes</td>\n",
       "      <td>Other Prolonged Illness</td>\n",
       "      <td>Male</td>\n",
       "      <td>0-14</td>\n",
       "      <td>1</td>\n",
       "    </tr>\n",
       "    <tr>\n",
       "      <td>47</td>\n",
       "      <td>A &amp; N Islands</td>\n",
       "      <td>2001</td>\n",
       "      <td>Causes</td>\n",
       "      <td>Failure in Examination</td>\n",
       "      <td>Male</td>\n",
       "      <td>0-14</td>\n",
       "      <td>1</td>\n",
       "    </tr>\n",
       "    <tr>\n",
       "      <td>54</td>\n",
       "      <td>A &amp; N Islands</td>\n",
       "      <td>2001</td>\n",
       "      <td>Causes</td>\n",
       "      <td>Other Prolonged Illness</td>\n",
       "      <td>Female</td>\n",
       "      <td>15-29</td>\n",
       "      <td>8</td>\n",
       "    </tr>\n",
       "  </tbody>\n",
       "</table>\n",
       "</div>"
      ],
      "text/plain": [
       "            State  Year Type_code                           Type  Gender  \\\n",
       "13  A & N Islands  2001    Causes                   Love Affairs  Female   \n",
       "20  A & N Islands  2001    Causes  Other Causes (Please Specity)  Female   \n",
       "32  A & N Islands  2001    Causes        Other Prolonged Illness    Male   \n",
       "47  A & N Islands  2001    Causes         Failure in Examination    Male   \n",
       "54  A & N Islands  2001    Causes        Other Prolonged Illness  Female   \n",
       "\n",
       "   Age_group  Total  \n",
       "13      0-14      1  \n",
       "20      0-14      1  \n",
       "32      0-14      1  \n",
       "47      0-14      1  \n",
       "54     15-29      8  "
      ]
     },
     "execution_count": 18,
     "metadata": {},
     "output_type": "execute_result"
    }
   ],
   "source": [
    "df.head()"
   ]
  },
  {
   "cell_type": "markdown",
   "metadata": {
    "Collapsed": "false"
   },
   "source": [
    "## 3.2 Get Count of age Group"
   ]
  },
  {
   "cell_type": "code",
   "execution_count": 21,
   "metadata": {
    "Collapsed": "false"
   },
   "outputs": [
    {
     "data": {
      "text/plain": [
       "<matplotlib.axes._subplots.AxesSubplot at 0x7f75a633fdd0>"
      ]
     },
     "execution_count": 21,
     "metadata": {},
     "output_type": "execute_result"
    },
    {
     "data": {
      "image/png": "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\n",
      "text/plain": [
       "<Figure size 432x288 with 1 Axes>"
      ]
     },
     "metadata": {
      "needs_background": "light"
     },
     "output_type": "display_data"
    }
   ],
   "source": [
    "df[\"Age_group\"].value_counts().plot()"
   ]
  },
  {
   "cell_type": "markdown",
   "metadata": {
    "Collapsed": "false"
   },
   "source": [
    "## 3.3 Get Counts by Gender and Age group"
   ]
  },
  {
   "cell_type": "code",
   "execution_count": 22,
   "metadata": {
    "Collapsed": "false"
   },
   "outputs": [
    {
     "data": {
      "text/plain": [
       "15-29     24960\n",
       "30-44     24064\n",
       "45-59     19730\n",
       "60+       13766\n",
       "0-100+     9879\n",
       "0-14       9639\n",
       "Name: Age_group, dtype: int64"
      ]
     },
     "execution_count": 22,
     "metadata": {},
     "output_type": "execute_result"
    }
   ],
   "source": [
    "df[\"Age_group\"].value_counts()"
   ]
  },
  {
   "cell_type": "code",
   "execution_count": 24,
   "metadata": {
    "Collapsed": "false"
   },
   "outputs": [
    {
     "data": {
      "text/plain": [
       "Male      0.541994\n",
       "Female    0.458006\n",
       "Name: Gender, dtype: float64"
      ]
     },
     "execution_count": 24,
     "metadata": {},
     "output_type": "execute_result"
    }
   ],
   "source": [
    "df[\"Gender\"].value_counts(normalize=True)"
   ]
  },
  {
   "cell_type": "markdown",
   "metadata": {
    "Collapsed": "false"
   },
   "source": [
    "## 3.4 Gets counts of TYPE"
   ]
  },
  {
   "cell_type": "code",
   "execution_count": 25,
   "metadata": {
    "Collapsed": "false"
   },
   "outputs": [
    {
     "data": {
      "text/plain": [
       "Others (Please Specify)                           0.053990\n",
       "By Hanging                                        0.034438\n",
       "Causes Not known                                  0.032655\n",
       "Other Causes (Please Specity)                     0.030038\n",
       "Family Problems                                   0.029528\n",
       "                                                    ...   \n",
       "Ideological Causes/Hero Worshipping               0.004616\n",
       "Illegitimate Pregnancy                            0.004116\n",
       "By Other means                                    0.002087\n",
       "Bankruptcy or Sudden change in Economic Status    0.001235\n",
       "Not having Children (Barrenness/Impotency         0.000902\n",
       "Name: Type, Length: 69, dtype: float64"
      ]
     },
     "execution_count": 25,
     "metadata": {},
     "output_type": "execute_result"
    }
   ],
   "source": [
    "df[\"Type\"].value_counts(normalize=True)"
   ]
  },
  {
   "cell_type": "markdown",
   "metadata": {
    "Collapsed": "false"
   },
   "source": [
    "## 3.5 Gets count of Type_code"
   ]
  },
  {
   "cell_type": "code",
   "execution_count": 26,
   "metadata": {
    "Collapsed": "false"
   },
   "outputs": [
    {
     "data": {
      "text/plain": [
       "Causes                  39531\n",
       "Means_adopted           29337\n",
       "Professional_Profile    23291\n",
       "Education_Status         6176\n",
       "Social_Status            3703\n",
       "Name: Type_code, dtype: int64"
      ]
     },
     "execution_count": 26,
     "metadata": {},
     "output_type": "execute_result"
    }
   ],
   "source": [
    "df[\"Type_code\"].value_counts()"
   ]
  },
  {
   "cell_type": "code",
   "execution_count": 27,
   "metadata": {
    "Collapsed": "false"
   },
   "outputs": [
    {
     "data": {
      "text/plain": [
       "Causes                  0.387414\n",
       "Means_adopted           0.287511\n",
       "Professional_Profile    0.228258\n",
       "Education_Status        0.060526\n",
       "Social_Status           0.036290\n",
       "Name: Type_code, dtype: float64"
      ]
     },
     "execution_count": 27,
     "metadata": {},
     "output_type": "execute_result"
    }
   ],
   "source": [
    "df[\"Type_code\"].value_counts(normalize=True)"
   ]
  },
  {
   "cell_type": "markdown",
   "metadata": {
    "Collapsed": "false"
   },
   "source": [
    "# Need to do 2 variable EDA"
   ]
  },
  {
   "cell_type": "code",
   "execution_count": 28,
   "metadata": {
    "Collapsed": "false"
   },
   "outputs": [
    {
     "data": {
      "text/html": [
       "<div>\n",
       "<style scoped>\n",
       "    .dataframe tbody tr th:only-of-type {\n",
       "        vertical-align: middle;\n",
       "    }\n",
       "\n",
       "    .dataframe tbody tr th {\n",
       "        vertical-align: top;\n",
       "    }\n",
       "\n",
       "    .dataframe thead th {\n",
       "        text-align: right;\n",
       "    }\n",
       "</style>\n",
       "<table border=\"1\" class=\"dataframe\">\n",
       "  <thead>\n",
       "    <tr style=\"text-align: right;\">\n",
       "      <th></th>\n",
       "      <th>State</th>\n",
       "      <th>Year</th>\n",
       "      <th>Type_code</th>\n",
       "      <th>Type</th>\n",
       "      <th>Gender</th>\n",
       "      <th>Age_group</th>\n",
       "      <th>Total</th>\n",
       "    </tr>\n",
       "  </thead>\n",
       "  <tbody>\n",
       "    <tr>\n",
       "      <td>13</td>\n",
       "      <td>A &amp; N Islands</td>\n",
       "      <td>2001</td>\n",
       "      <td>Causes</td>\n",
       "      <td>Love Affairs</td>\n",
       "      <td>Female</td>\n",
       "      <td>0-14</td>\n",
       "      <td>1</td>\n",
       "    </tr>\n",
       "    <tr>\n",
       "      <td>20</td>\n",
       "      <td>A &amp; N Islands</td>\n",
       "      <td>2001</td>\n",
       "      <td>Causes</td>\n",
       "      <td>Other Causes (Please Specity)</td>\n",
       "      <td>Female</td>\n",
       "      <td>0-14</td>\n",
       "      <td>1</td>\n",
       "    </tr>\n",
       "    <tr>\n",
       "      <td>32</td>\n",
       "      <td>A &amp; N Islands</td>\n",
       "      <td>2001</td>\n",
       "      <td>Causes</td>\n",
       "      <td>Other Prolonged Illness</td>\n",
       "      <td>Male</td>\n",
       "      <td>0-14</td>\n",
       "      <td>1</td>\n",
       "    </tr>\n",
       "    <tr>\n",
       "      <td>47</td>\n",
       "      <td>A &amp; N Islands</td>\n",
       "      <td>2001</td>\n",
       "      <td>Causes</td>\n",
       "      <td>Failure in Examination</td>\n",
       "      <td>Male</td>\n",
       "      <td>0-14</td>\n",
       "      <td>1</td>\n",
       "    </tr>\n",
       "    <tr>\n",
       "      <td>54</td>\n",
       "      <td>A &amp; N Islands</td>\n",
       "      <td>2001</td>\n",
       "      <td>Causes</td>\n",
       "      <td>Other Prolonged Illness</td>\n",
       "      <td>Female</td>\n",
       "      <td>15-29</td>\n",
       "      <td>8</td>\n",
       "    </tr>\n",
       "  </tbody>\n",
       "</table>\n",
       "</div>"
      ],
      "text/plain": [
       "            State  Year Type_code                           Type  Gender  \\\n",
       "13  A & N Islands  2001    Causes                   Love Affairs  Female   \n",
       "20  A & N Islands  2001    Causes  Other Causes (Please Specity)  Female   \n",
       "32  A & N Islands  2001    Causes        Other Prolonged Illness    Male   \n",
       "47  A & N Islands  2001    Causes         Failure in Examination    Male   \n",
       "54  A & N Islands  2001    Causes        Other Prolonged Illness  Female   \n",
       "\n",
       "   Age_group  Total  \n",
       "13      0-14      1  \n",
       "20      0-14      1  \n",
       "32      0-14      1  \n",
       "47      0-14      1  \n",
       "54     15-29      8  "
      ]
     },
     "execution_count": 28,
     "metadata": {},
     "output_type": "execute_result"
    }
   ],
   "source": [
    "df.head()"
   ]
  },
  {
   "cell_type": "markdown",
   "metadata": {
    "Collapsed": "false"
   },
   "source": [
    "# So lets Get Year and total"
   ]
  },
  {
   "cell_type": "code",
   "execution_count": 29,
   "metadata": {
    "Collapsed": "false"
   },
   "outputs": [],
   "source": [
    "df_year_total = df.groupby(df[\"Year\"]).agg({\"Total\":\"sum\"})"
   ]
  },
  {
   "cell_type": "code",
   "execution_count": 30,
   "metadata": {
    "Collapsed": "false"
   },
   "outputs": [],
   "source": [
    "df_year_total.reset_index(inplace=True)"
   ]
  },
  {
   "cell_type": "code",
   "execution_count": 31,
   "metadata": {
    "Collapsed": "false"
   },
   "outputs": [
    {
     "data": {
      "text/html": [
       "<div>\n",
       "<style scoped>\n",
       "    .dataframe tbody tr th:only-of-type {\n",
       "        vertical-align: middle;\n",
       "    }\n",
       "\n",
       "    .dataframe tbody tr th {\n",
       "        vertical-align: top;\n",
       "    }\n",
       "\n",
       "    .dataframe thead th {\n",
       "        text-align: right;\n",
       "    }\n",
       "</style>\n",
       "<table border=\"1\" class=\"dataframe\">\n",
       "  <thead>\n",
       "    <tr style=\"text-align: right;\">\n",
       "      <th></th>\n",
       "      <th>Year</th>\n",
       "      <th>Total</th>\n",
       "    </tr>\n",
       "  </thead>\n",
       "  <tbody>\n",
       "    <tr>\n",
       "      <td>0</td>\n",
       "      <td>2001</td>\n",
       "      <td>976464</td>\n",
       "    </tr>\n",
       "    <tr>\n",
       "      <td>1</td>\n",
       "      <td>2002</td>\n",
       "      <td>993648</td>\n",
       "    </tr>\n",
       "    <tr>\n",
       "      <td>2</td>\n",
       "      <td>2003</td>\n",
       "      <td>997622</td>\n",
       "    </tr>\n",
       "    <tr>\n",
       "      <td>3</td>\n",
       "      <td>2004</td>\n",
       "      <td>1023137</td>\n",
       "    </tr>\n",
       "    <tr>\n",
       "      <td>4</td>\n",
       "      <td>2005</td>\n",
       "      <td>1025201</td>\n",
       "    </tr>\n",
       "  </tbody>\n",
       "</table>\n",
       "</div>"
      ],
      "text/plain": [
       "   Year    Total\n",
       "0  2001   976464\n",
       "1  2002   993648\n",
       "2  2003   997622\n",
       "3  2004  1023137\n",
       "4  2005  1025201"
      ]
     },
     "execution_count": 31,
     "metadata": {},
     "output_type": "execute_result"
    }
   ],
   "source": [
    "df_year_total.head()"
   ]
  },
  {
   "cell_type": "code",
   "execution_count": 32,
   "metadata": {
    "Collapsed": "false"
   },
   "outputs": [
    {
     "data": {
      "text/plain": [
       "<matplotlib.axes._subplots.AxesSubplot at 0x7f75a6237610>"
      ]
     },
     "execution_count": 32,
     "metadata": {},
     "output_type": "execute_result"
    },
    {
     "data": {
      "image/png": "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\n",
      "text/plain": [
       "<Figure size 432x288 with 1 Axes>"
      ]
     },
     "metadata": {
      "needs_background": "light"
     },
     "output_type": "display_data"
    }
   ],
   "source": [
    "plt.title(\"Suicides in india \")\n",
    "sns.barplot(x=\"Year\" , y=\"Total\" , data=df_year_total , palette=\"viridis\" )"
   ]
  },
  {
   "cell_type": "markdown",
   "metadata": {
    "Collapsed": "false"
   },
   "source": [
    "# Male vs Female in Total suicides rate"
   ]
  },
  {
   "cell_type": "code",
   "execution_count": 33,
   "metadata": {
    "Collapsed": "false"
   },
   "outputs": [],
   "source": [
    "df_gender = df.groupby(\"Gender\").agg({\"Total\":\"sum\"})"
   ]
  },
  {
   "cell_type": "code",
   "execution_count": 34,
   "metadata": {
    "Collapsed": "false"
   },
   "outputs": [],
   "source": [
    "df_gender.reset_index(inplace=True)"
   ]
  },
  {
   "cell_type": "code",
   "execution_count": 35,
   "metadata": {
    "Collapsed": "false"
   },
   "outputs": [
    {
     "data": {
      "text/html": [
       "<div>\n",
       "<style scoped>\n",
       "    .dataframe tbody tr th:only-of-type {\n",
       "        vertical-align: middle;\n",
       "    }\n",
       "\n",
       "    .dataframe tbody tr th {\n",
       "        vertical-align: top;\n",
       "    }\n",
       "\n",
       "    .dataframe thead th {\n",
       "        text-align: right;\n",
       "    }\n",
       "</style>\n",
       "<table border=\"1\" class=\"dataframe\">\n",
       "  <thead>\n",
       "    <tr style=\"text-align: right;\">\n",
       "      <th></th>\n",
       "      <th>Gender</th>\n",
       "      <th>Total</th>\n",
       "    </tr>\n",
       "  </thead>\n",
       "  <tbody>\n",
       "    <tr>\n",
       "      <td>0</td>\n",
       "      <td>Female</td>\n",
       "      <td>4702974</td>\n",
       "    </tr>\n",
       "    <tr>\n",
       "      <td>1</td>\n",
       "      <td>Male</td>\n",
       "      <td>8368760</td>\n",
       "    </tr>\n",
       "  </tbody>\n",
       "</table>\n",
       "</div>"
      ],
      "text/plain": [
       "   Gender    Total\n",
       "0  Female  4702974\n",
       "1    Male  8368760"
      ]
     },
     "execution_count": 35,
     "metadata": {},
     "output_type": "execute_result"
    }
   ],
   "source": [
    "df_gender"
   ]
  },
  {
   "cell_type": "code",
   "execution_count": 36,
   "metadata": {
    "Collapsed": "false"
   },
   "outputs": [
    {
     "data": {
      "image/png": "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\n",
      "text/plain": [
       "<Figure size 720x720 with 1 Axes>"
      ]
     },
     "metadata": {
      "needs_background": "light"
     },
     "output_type": "display_data"
    }
   ],
   "source": [
    "plt.figure(figsize=(10,10))\n",
    "plt.title(\"Male vs Female Suicides in India\")\n",
    "g = sns.barplot(x=\"Gender\" , y=\"Total\" , data=df_gender , palette=\"muted\" )\n"
   ]
  },
  {
   "cell_type": "markdown",
   "metadata": {
    "Collapsed": "false"
   },
   "source": [
    "# Types and Total values"
   ]
  },
  {
   "cell_type": "code",
   "execution_count": 37,
   "metadata": {
    "Collapsed": "false"
   },
   "outputs": [],
   "source": [
    "df_types = df.groupby(df[\"Type\"]).agg({\"Total\":\"sum\"})"
   ]
  },
  {
   "cell_type": "code",
   "execution_count": 38,
   "metadata": {
    "Collapsed": "false"
   },
   "outputs": [],
   "source": [
    "df_types.sort_values(by=\"Total\" , inplace=True ,ascending=False)"
   ]
  },
  {
   "cell_type": "code",
   "execution_count": 39,
   "metadata": {
    "Collapsed": "false"
   },
   "outputs": [],
   "source": [
    "df_types.reset_index(inplace=True)"
   ]
  },
  {
   "cell_type": "markdown",
   "metadata": {
    "Collapsed": "false"
   },
   "source": [
    "## Top 5 Types of Suicides"
   ]
  },
  {
   "cell_type": "code",
   "execution_count": 40,
   "metadata": {
    "Collapsed": "false"
   },
   "outputs": [
    {
     "data": {
      "text/plain": [
       "<matplotlib.axes._subplots.AxesSubplot at 0x7f75a6062d50>"
      ]
     },
     "execution_count": 40,
     "metadata": {},
     "output_type": "execute_result"
    },
    {
     "data": {
      "image/png": "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\n",
      "text/plain": [
       "<Figure size 720x360 with 1 Axes>"
      ]
     },
     "metadata": {
      "needs_background": "light"
     },
     "output_type": "display_data"
    }
   ],
   "source": [
    "plt.figure(figsize=(10,5))\n",
    "plt.title(\"Top 5 Types of Suicides in India\")\n",
    "sns.barplot(x=\"Type\" , y=\"Total\" , data=df_types[:5])"
   ]
  },
  {
   "cell_type": "markdown",
   "metadata": {
    "Collapsed": "false"
   },
   "source": [
    "# Type code vs total"
   ]
  },
  {
   "cell_type": "code",
   "execution_count": 41,
   "metadata": {
    "Collapsed": "false"
   },
   "outputs": [],
   "source": [
    "df_types = df.groupby(df[\"Type_code\"]).agg({\"Total\":\"sum\"})"
   ]
  },
  {
   "cell_type": "code",
   "execution_count": 42,
   "metadata": {
    "Collapsed": "false"
   },
   "outputs": [],
   "source": [
    "df_types.reset_index(inplace=True)"
   ]
  },
  {
   "cell_type": "code",
   "execution_count": 43,
   "metadata": {
    "Collapsed": "false"
   },
   "outputs": [
    {
     "data": {
      "text/plain": [
       "<matplotlib.axes._subplots.AxesSubplot at 0x7f75a5fff610>"
      ]
     },
     "execution_count": 43,
     "metadata": {},
     "output_type": "execute_result"
    },
    {
     "data": {
      "image/png": "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\n",
      "text/plain": [
       "<Figure size 432x288 with 1 Axes>"
      ]
     },
     "metadata": {
      "needs_background": "light"
     },
     "output_type": "display_data"
    }
   ],
   "source": [
    "plt.title(\"Type_code and Suicides count in india\")\n",
    "sns.barplot(y=\"Type_code\" , x=\"Total\" , data=df_types , orient=\"h\")"
   ]
  },
  {
   "cell_type": "code",
   "execution_count": null,
   "metadata": {
    "Collapsed": "false"
   },
   "outputs": [],
   "source": []
  },
  {
   "cell_type": "code",
   "execution_count": 44,
   "metadata": {
    "Collapsed": "false"
   },
   "outputs": [
    {
     "data": {
      "text/html": [
       "<div>\n",
       "<style scoped>\n",
       "    .dataframe tbody tr th:only-of-type {\n",
       "        vertical-align: middle;\n",
       "    }\n",
       "\n",
       "    .dataframe tbody tr th {\n",
       "        vertical-align: top;\n",
       "    }\n",
       "\n",
       "    .dataframe thead th {\n",
       "        text-align: right;\n",
       "    }\n",
       "</style>\n",
       "<table border=\"1\" class=\"dataframe\">\n",
       "  <thead>\n",
       "    <tr style=\"text-align: right;\">\n",
       "      <th></th>\n",
       "      <th>State</th>\n",
       "      <th>Year</th>\n",
       "      <th>Type_code</th>\n",
       "      <th>Type</th>\n",
       "      <th>Gender</th>\n",
       "      <th>Age_group</th>\n",
       "      <th>Total</th>\n",
       "    </tr>\n",
       "  </thead>\n",
       "  <tbody>\n",
       "    <tr>\n",
       "      <td>13</td>\n",
       "      <td>A &amp; N Islands</td>\n",
       "      <td>2001</td>\n",
       "      <td>Causes</td>\n",
       "      <td>Love Affairs</td>\n",
       "      <td>Female</td>\n",
       "      <td>0-14</td>\n",
       "      <td>1</td>\n",
       "    </tr>\n",
       "    <tr>\n",
       "      <td>20</td>\n",
       "      <td>A &amp; N Islands</td>\n",
       "      <td>2001</td>\n",
       "      <td>Causes</td>\n",
       "      <td>Other Causes (Please Specity)</td>\n",
       "      <td>Female</td>\n",
       "      <td>0-14</td>\n",
       "      <td>1</td>\n",
       "    </tr>\n",
       "    <tr>\n",
       "      <td>32</td>\n",
       "      <td>A &amp; N Islands</td>\n",
       "      <td>2001</td>\n",
       "      <td>Causes</td>\n",
       "      <td>Other Prolonged Illness</td>\n",
       "      <td>Male</td>\n",
       "      <td>0-14</td>\n",
       "      <td>1</td>\n",
       "    </tr>\n",
       "    <tr>\n",
       "      <td>47</td>\n",
       "      <td>A &amp; N Islands</td>\n",
       "      <td>2001</td>\n",
       "      <td>Causes</td>\n",
       "      <td>Failure in Examination</td>\n",
       "      <td>Male</td>\n",
       "      <td>0-14</td>\n",
       "      <td>1</td>\n",
       "    </tr>\n",
       "    <tr>\n",
       "      <td>54</td>\n",
       "      <td>A &amp; N Islands</td>\n",
       "      <td>2001</td>\n",
       "      <td>Causes</td>\n",
       "      <td>Other Prolonged Illness</td>\n",
       "      <td>Female</td>\n",
       "      <td>15-29</td>\n",
       "      <td>8</td>\n",
       "    </tr>\n",
       "  </tbody>\n",
       "</table>\n",
       "</div>"
      ],
      "text/plain": [
       "            State  Year Type_code                           Type  Gender  \\\n",
       "13  A & N Islands  2001    Causes                   Love Affairs  Female   \n",
       "20  A & N Islands  2001    Causes  Other Causes (Please Specity)  Female   \n",
       "32  A & N Islands  2001    Causes        Other Prolonged Illness    Male   \n",
       "47  A & N Islands  2001    Causes         Failure in Examination    Male   \n",
       "54  A & N Islands  2001    Causes        Other Prolonged Illness  Female   \n",
       "\n",
       "   Age_group  Total  \n",
       "13      0-14      1  \n",
       "20      0-14      1  \n",
       "32      0-14      1  \n",
       "47      0-14      1  \n",
       "54     15-29      8  "
      ]
     },
     "execution_count": 44,
     "metadata": {},
     "output_type": "execute_result"
    }
   ],
   "source": [
    "df.head()"
   ]
  },
  {
   "cell_type": "markdown",
   "metadata": {
    "Collapsed": "false"
   },
   "source": [
    "## Finally State vs Total"
   ]
  },
  {
   "cell_type": "code",
   "execution_count": 45,
   "metadata": {
    "Collapsed": "false"
   },
   "outputs": [],
   "source": [
    "df_state = df.groupby(\"State\").agg({\"Total\":\"sum\"}).sort_values(by=\"Total\" , ascending=False)"
   ]
  },
  {
   "cell_type": "code",
   "execution_count": 46,
   "metadata": {
    "Collapsed": "false"
   },
   "outputs": [],
   "source": [
    "df_state.reset_index(inplace=True)"
   ]
  },
  {
   "cell_type": "code",
   "execution_count": 47,
   "metadata": {
    "Collapsed": "false"
   },
   "outputs": [
    {
     "data": {
      "text/html": [
       "<div>\n",
       "<style scoped>\n",
       "    .dataframe tbody tr th:only-of-type {\n",
       "        vertical-align: middle;\n",
       "    }\n",
       "\n",
       "    .dataframe tbody tr th {\n",
       "        vertical-align: top;\n",
       "    }\n",
       "\n",
       "    .dataframe thead th {\n",
       "        text-align: right;\n",
       "    }\n",
       "</style>\n",
       "<table border=\"1\" class=\"dataframe\">\n",
       "  <thead>\n",
       "    <tr style=\"text-align: right;\">\n",
       "      <th></th>\n",
       "      <th>State</th>\n",
       "      <th>Total</th>\n",
       "    </tr>\n",
       "  </thead>\n",
       "  <tbody>\n",
       "    <tr>\n",
       "      <td>0</td>\n",
       "      <td>Total (All India)</td>\n",
       "      <td>2911862</td>\n",
       "    </tr>\n",
       "    <tr>\n",
       "      <td>1</td>\n",
       "      <td>Total (States)</td>\n",
       "      <td>2858026</td>\n",
       "    </tr>\n",
       "    <tr>\n",
       "      <td>2</td>\n",
       "      <td>Maharashtra</td>\n",
       "      <td>901945</td>\n",
       "    </tr>\n",
       "    <tr>\n",
       "      <td>3</td>\n",
       "      <td>West Bengal</td>\n",
       "      <td>849936</td>\n",
       "    </tr>\n",
       "    <tr>\n",
       "      <td>4</td>\n",
       "      <td>Tamil Nadu</td>\n",
       "      <td>818691</td>\n",
       "    </tr>\n",
       "  </tbody>\n",
       "</table>\n",
       "</div>"
      ],
      "text/plain": [
       "               State    Total\n",
       "0  Total (All India)  2911862\n",
       "1     Total (States)  2858026\n",
       "2        Maharashtra   901945\n",
       "3        West Bengal   849936\n",
       "4         Tamil Nadu   818691"
      ]
     },
     "execution_count": 47,
     "metadata": {},
     "output_type": "execute_result"
    }
   ],
   "source": [
    "df_state.head()"
   ]
  },
  {
   "cell_type": "code",
   "execution_count": 48,
   "metadata": {
    "Collapsed": "false"
   },
   "outputs": [],
   "source": [
    "df_state.drop(df_state.index[[0,1]] , inplace=True)"
   ]
  },
  {
   "cell_type": "code",
   "execution_count": 49,
   "metadata": {
    "Collapsed": "false"
   },
   "outputs": [
    {
     "data": {
      "text/html": [
       "<div>\n",
       "<style scoped>\n",
       "    .dataframe tbody tr th:only-of-type {\n",
       "        vertical-align: middle;\n",
       "    }\n",
       "\n",
       "    .dataframe tbody tr th {\n",
       "        vertical-align: top;\n",
       "    }\n",
       "\n",
       "    .dataframe thead th {\n",
       "        text-align: right;\n",
       "    }\n",
       "</style>\n",
       "<table border=\"1\" class=\"dataframe\">\n",
       "  <thead>\n",
       "    <tr style=\"text-align: right;\">\n",
       "      <th></th>\n",
       "      <th>State</th>\n",
       "      <th>Total</th>\n",
       "    </tr>\n",
       "  </thead>\n",
       "  <tbody>\n",
       "    <tr>\n",
       "      <td>2</td>\n",
       "      <td>Maharashtra</td>\n",
       "      <td>901945</td>\n",
       "    </tr>\n",
       "    <tr>\n",
       "      <td>3</td>\n",
       "      <td>West Bengal</td>\n",
       "      <td>849936</td>\n",
       "    </tr>\n",
       "    <tr>\n",
       "      <td>4</td>\n",
       "      <td>Tamil Nadu</td>\n",
       "      <td>818691</td>\n",
       "    </tr>\n",
       "    <tr>\n",
       "      <td>5</td>\n",
       "      <td>Andhra Pradesh</td>\n",
       "      <td>814059</td>\n",
       "    </tr>\n",
       "    <tr>\n",
       "      <td>6</td>\n",
       "      <td>Karnataka</td>\n",
       "      <td>734825</td>\n",
       "    </tr>\n",
       "  </tbody>\n",
       "</table>\n",
       "</div>"
      ],
      "text/plain": [
       "            State   Total\n",
       "2     Maharashtra  901945\n",
       "3     West Bengal  849936\n",
       "4      Tamil Nadu  818691\n",
       "5  Andhra Pradesh  814059\n",
       "6       Karnataka  734825"
      ]
     },
     "execution_count": 49,
     "metadata": {},
     "output_type": "execute_result"
    }
   ],
   "source": [
    "df_state.head()"
   ]
  },
  {
   "cell_type": "code",
   "execution_count": 50,
   "metadata": {
    "Collapsed": "false"
   },
   "outputs": [
    {
     "data": {
      "text/plain": [
       "<matplotlib.axes._subplots.AxesSubplot at 0x7f75a57dc990>"
      ]
     },
     "execution_count": 50,
     "metadata": {},
     "output_type": "execute_result"
    },
    {
     "data": {
      "image/png": "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\n",
      "text/plain": [
       "<Figure size 432x288 with 1 Axes>"
      ]
     },
     "metadata": {
      "needs_background": "light"
     },
     "output_type": "display_data"
    }
   ],
   "source": [
    "plt.title(\"Top 7 States Suicides list in Inida 2001 - 2012\")\n",
    "sns.barplot(y=\"State\" , x=\"Total\" , data=df_state[:7])"
   ]
  },
  {
   "cell_type": "code",
   "execution_count": 51,
   "metadata": {
    "Collapsed": "false"
   },
   "outputs": [
    {
     "data": {
      "text/plain": [
       "<matplotlib.axes._subplots.AxesSubplot at 0x7f75a573fa90>"
      ]
     },
     "execution_count": 51,
     "metadata": {},
     "output_type": "execute_result"
    },
    {
     "data": {
      "image/png": "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\n",
      "text/plain": [
       "<Figure size 432x288 with 1 Axes>"
      ]
     },
     "metadata": {
      "needs_background": "light"
     },
     "output_type": "display_data"
    }
   ],
   "source": [
    "plt.title(\"Bottom 7 States Suicides list in Inida 2001 - 2012\")\n",
    "sns.barplot(y=\"State\" , x=\"Total\" , data=df_state[-7:])"
   ]
  },
  {
   "cell_type": "markdown",
   "metadata": {
    "Collapsed": "false"
   },
   "source": [
    "# we're not finished in double variables we're going on"
   ]
  },
  {
   "cell_type": "markdown",
   "metadata": {
    "Collapsed": "false"
   },
   "source": [
    "## we missed Age_group vs total"
   ]
  },
  {
   "cell_type": "code",
   "execution_count": 52,
   "metadata": {
    "Collapsed": "false"
   },
   "outputs": [],
   "source": [
    "df_age_group = df.groupby(df[\"Age_group\"]).agg({\"Total\":\"sum\"})"
   ]
  },
  {
   "cell_type": "code",
   "execution_count": 53,
   "metadata": {
    "Collapsed": "false"
   },
   "outputs": [],
   "source": [
    "df_age_group = df_age_group[1:]"
   ]
  },
  {
   "cell_type": "code",
   "execution_count": 54,
   "metadata": {
    "Collapsed": "false"
   },
   "outputs": [
    {
     "data": {
      "text/html": [
       "<div>\n",
       "<style scoped>\n",
       "    .dataframe tbody tr th:only-of-type {\n",
       "        vertical-align: middle;\n",
       "    }\n",
       "\n",
       "    .dataframe tbody tr th {\n",
       "        vertical-align: top;\n",
       "    }\n",
       "\n",
       "    .dataframe thead th {\n",
       "        text-align: right;\n",
       "    }\n",
       "</style>\n",
       "<table border=\"1\" class=\"dataframe\">\n",
       "  <thead>\n",
       "    <tr style=\"text-align: right;\">\n",
       "      <th></th>\n",
       "      <th>Total</th>\n",
       "    </tr>\n",
       "    <tr>\n",
       "      <th>Age_group</th>\n",
       "      <th></th>\n",
       "    </tr>\n",
       "  </thead>\n",
       "  <tbody>\n",
       "    <tr>\n",
       "      <td>0-14</td>\n",
       "      <td>98410</td>\n",
       "    </tr>\n",
       "    <tr>\n",
       "      <td>15-29</td>\n",
       "      <td>1534037</td>\n",
       "    </tr>\n",
       "    <tr>\n",
       "      <td>30-44</td>\n",
       "      <td>1471599</td>\n",
       "    </tr>\n",
       "    <tr>\n",
       "      <td>45-59</td>\n",
       "      <td>885177</td>\n",
       "    </tr>\n",
       "    <tr>\n",
       "      <td>60+</td>\n",
       "      <td>346925</td>\n",
       "    </tr>\n",
       "  </tbody>\n",
       "</table>\n",
       "</div>"
      ],
      "text/plain": [
       "             Total\n",
       "Age_group         \n",
       "0-14         98410\n",
       "15-29      1534037\n",
       "30-44      1471599\n",
       "45-59       885177\n",
       "60+         346925"
      ]
     },
     "execution_count": 54,
     "metadata": {},
     "output_type": "execute_result"
    }
   ],
   "source": [
    "df_age_group"
   ]
  },
  {
   "cell_type": "code",
   "execution_count": 55,
   "metadata": {
    "Collapsed": "false"
   },
   "outputs": [],
   "source": [
    "df_age_group.reset_index(inplace=True)"
   ]
  },
  {
   "cell_type": "code",
   "execution_count": 56,
   "metadata": {
    "Collapsed": "false"
   },
   "outputs": [
    {
     "data": {
      "text/plain": [
       "<matplotlib.axes._subplots.AxesSubplot at 0x7f75a56d64d0>"
      ]
     },
     "execution_count": 56,
     "metadata": {},
     "output_type": "execute_result"
    },
    {
     "data": {
      "image/png": "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\n",
      "text/plain": [
       "<Figure size 432x288 with 1 Axes>"
      ]
     },
     "metadata": {
      "needs_background": "light"
     },
     "output_type": "display_data"
    }
   ],
   "source": [
    "plt.title(\"Age group vs Suicides in India 2001 - 2012\")\n",
    "sns.barplot(x=\"Age_group\" , y=\"Total\" , data=df_age_group)"
   ]
  },
  {
   "cell_type": "code",
   "execution_count": null,
   "metadata": {
    "Collapsed": "false"
   },
   "outputs": [],
   "source": []
  },
  {
   "cell_type": "markdown",
   "metadata": {
    "Collapsed": "false"
   },
   "source": [
    "# Muliti variable EDA"
   ]
  },
  {
   "cell_type": "code",
   "execution_count": 57,
   "metadata": {
    "Collapsed": "false"
   },
   "outputs": [
    {
     "data": {
      "text/html": [
       "<div>\n",
       "<style scoped>\n",
       "    .dataframe tbody tr th:only-of-type {\n",
       "        vertical-align: middle;\n",
       "    }\n",
       "\n",
       "    .dataframe tbody tr th {\n",
       "        vertical-align: top;\n",
       "    }\n",
       "\n",
       "    .dataframe thead th {\n",
       "        text-align: right;\n",
       "    }\n",
       "</style>\n",
       "<table border=\"1\" class=\"dataframe\">\n",
       "  <thead>\n",
       "    <tr style=\"text-align: right;\">\n",
       "      <th></th>\n",
       "      <th>State</th>\n",
       "      <th>Year</th>\n",
       "      <th>Type_code</th>\n",
       "      <th>Type</th>\n",
       "      <th>Gender</th>\n",
       "      <th>Age_group</th>\n",
       "      <th>Total</th>\n",
       "    </tr>\n",
       "  </thead>\n",
       "  <tbody>\n",
       "    <tr>\n",
       "      <td>13</td>\n",
       "      <td>A &amp; N Islands</td>\n",
       "      <td>2001</td>\n",
       "      <td>Causes</td>\n",
       "      <td>Love Affairs</td>\n",
       "      <td>Female</td>\n",
       "      <td>0-14</td>\n",
       "      <td>1</td>\n",
       "    </tr>\n",
       "    <tr>\n",
       "      <td>20</td>\n",
       "      <td>A &amp; N Islands</td>\n",
       "      <td>2001</td>\n",
       "      <td>Causes</td>\n",
       "      <td>Other Causes (Please Specity)</td>\n",
       "      <td>Female</td>\n",
       "      <td>0-14</td>\n",
       "      <td>1</td>\n",
       "    </tr>\n",
       "    <tr>\n",
       "      <td>32</td>\n",
       "      <td>A &amp; N Islands</td>\n",
       "      <td>2001</td>\n",
       "      <td>Causes</td>\n",
       "      <td>Other Prolonged Illness</td>\n",
       "      <td>Male</td>\n",
       "      <td>0-14</td>\n",
       "      <td>1</td>\n",
       "    </tr>\n",
       "    <tr>\n",
       "      <td>47</td>\n",
       "      <td>A &amp; N Islands</td>\n",
       "      <td>2001</td>\n",
       "      <td>Causes</td>\n",
       "      <td>Failure in Examination</td>\n",
       "      <td>Male</td>\n",
       "      <td>0-14</td>\n",
       "      <td>1</td>\n",
       "    </tr>\n",
       "    <tr>\n",
       "      <td>54</td>\n",
       "      <td>A &amp; N Islands</td>\n",
       "      <td>2001</td>\n",
       "      <td>Causes</td>\n",
       "      <td>Other Prolonged Illness</td>\n",
       "      <td>Female</td>\n",
       "      <td>15-29</td>\n",
       "      <td>8</td>\n",
       "    </tr>\n",
       "  </tbody>\n",
       "</table>\n",
       "</div>"
      ],
      "text/plain": [
       "            State  Year Type_code                           Type  Gender  \\\n",
       "13  A & N Islands  2001    Causes                   Love Affairs  Female   \n",
       "20  A & N Islands  2001    Causes  Other Causes (Please Specity)  Female   \n",
       "32  A & N Islands  2001    Causes        Other Prolonged Illness    Male   \n",
       "47  A & N Islands  2001    Causes         Failure in Examination    Male   \n",
       "54  A & N Islands  2001    Causes        Other Prolonged Illness  Female   \n",
       "\n",
       "   Age_group  Total  \n",
       "13      0-14      1  \n",
       "20      0-14      1  \n",
       "32      0-14      1  \n",
       "47      0-14      1  \n",
       "54     15-29      8  "
      ]
     },
     "execution_count": 57,
     "metadata": {},
     "output_type": "execute_result"
    }
   ],
   "source": [
    "df.head()"
   ]
  },
  {
   "cell_type": "markdown",
   "metadata": {
    "Collapsed": "false"
   },
   "source": [
    "# State vs Year and Total"
   ]
  },
  {
   "cell_type": "code",
   "execution_count": 58,
   "metadata": {
    "Collapsed": "false"
   },
   "outputs": [],
   "source": [
    "df_year_state = df.groupby([\"State\" , \"Year\"]).agg({\"Total\":\"sum\"})"
   ]
  },
  {
   "cell_type": "code",
   "execution_count": 59,
   "metadata": {
    "Collapsed": "false"
   },
   "outputs": [],
   "source": [
    "df_year_state.reset_index(inplace=True)"
   ]
  },
  {
   "cell_type": "code",
   "execution_count": 60,
   "metadata": {
    "Collapsed": "false"
   },
   "outputs": [
    {
     "data": {
      "text/html": [
       "<div>\n",
       "<style scoped>\n",
       "    .dataframe tbody tr th:only-of-type {\n",
       "        vertical-align: middle;\n",
       "    }\n",
       "\n",
       "    .dataframe tbody tr th {\n",
       "        vertical-align: top;\n",
       "    }\n",
       "\n",
       "    .dataframe thead th {\n",
       "        text-align: right;\n",
       "    }\n",
       "</style>\n",
       "<table border=\"1\" class=\"dataframe\">\n",
       "  <thead>\n",
       "    <tr style=\"text-align: right;\">\n",
       "      <th></th>\n",
       "      <th>State</th>\n",
       "      <th>Year</th>\n",
       "      <th>Total</th>\n",
       "    </tr>\n",
       "  </thead>\n",
       "  <tbody>\n",
       "    <tr>\n",
       "      <td>0</td>\n",
       "      <td>A &amp; N Islands</td>\n",
       "      <td>2001</td>\n",
       "      <td>645</td>\n",
       "    </tr>\n",
       "    <tr>\n",
       "      <td>1</td>\n",
       "      <td>A &amp; N Islands</td>\n",
       "      <td>2002</td>\n",
       "      <td>720</td>\n",
       "    </tr>\n",
       "    <tr>\n",
       "      <td>2</td>\n",
       "      <td>A &amp; N Islands</td>\n",
       "      <td>2003</td>\n",
       "      <td>565</td>\n",
       "    </tr>\n",
       "    <tr>\n",
       "      <td>3</td>\n",
       "      <td>A &amp; N Islands</td>\n",
       "      <td>2004</td>\n",
       "      <td>610</td>\n",
       "    </tr>\n",
       "    <tr>\n",
       "      <td>4</td>\n",
       "      <td>A &amp; N Islands</td>\n",
       "      <td>2005</td>\n",
       "      <td>695</td>\n",
       "    </tr>\n",
       "    <tr>\n",
       "      <td>5</td>\n",
       "      <td>A &amp; N Islands</td>\n",
       "      <td>2006</td>\n",
       "      <td>665</td>\n",
       "    </tr>\n",
       "    <tr>\n",
       "      <td>6</td>\n",
       "      <td>A &amp; N Islands</td>\n",
       "      <td>2007</td>\n",
       "      <td>775</td>\n",
       "    </tr>\n",
       "    <tr>\n",
       "      <td>7</td>\n",
       "      <td>A &amp; N Islands</td>\n",
       "      <td>2008</td>\n",
       "      <td>714</td>\n",
       "    </tr>\n",
       "    <tr>\n",
       "      <td>8</td>\n",
       "      <td>A &amp; N Islands</td>\n",
       "      <td>2009</td>\n",
       "      <td>655</td>\n",
       "    </tr>\n",
       "    <tr>\n",
       "      <td>9</td>\n",
       "      <td>A &amp; N Islands</td>\n",
       "      <td>2010</td>\n",
       "      <td>780</td>\n",
       "    </tr>\n",
       "    <tr>\n",
       "      <td>10</td>\n",
       "      <td>A &amp; N Islands</td>\n",
       "      <td>2011</td>\n",
       "      <td>680</td>\n",
       "    </tr>\n",
       "    <tr>\n",
       "      <td>11</td>\n",
       "      <td>A &amp; N Islands</td>\n",
       "      <td>2012</td>\n",
       "      <td>605</td>\n",
       "    </tr>\n",
       "    <tr>\n",
       "      <td>12</td>\n",
       "      <td>Andhra Pradesh</td>\n",
       "      <td>2001</td>\n",
       "      <td>52610</td>\n",
       "    </tr>\n",
       "    <tr>\n",
       "      <td>13</td>\n",
       "      <td>Andhra Pradesh</td>\n",
       "      <td>2002</td>\n",
       "      <td>58465</td>\n",
       "    </tr>\n",
       "    <tr>\n",
       "      <td>14</td>\n",
       "      <td>Andhra Pradesh</td>\n",
       "      <td>2003</td>\n",
       "      <td>57045</td>\n",
       "    </tr>\n",
       "  </tbody>\n",
       "</table>\n",
       "</div>"
      ],
      "text/plain": [
       "             State  Year  Total\n",
       "0    A & N Islands  2001    645\n",
       "1    A & N Islands  2002    720\n",
       "2    A & N Islands  2003    565\n",
       "3    A & N Islands  2004    610\n",
       "4    A & N Islands  2005    695\n",
       "5    A & N Islands  2006    665\n",
       "6    A & N Islands  2007    775\n",
       "7    A & N Islands  2008    714\n",
       "8    A & N Islands  2009    655\n",
       "9    A & N Islands  2010    780\n",
       "10   A & N Islands  2011    680\n",
       "11   A & N Islands  2012    605\n",
       "12  Andhra Pradesh  2001  52610\n",
       "13  Andhra Pradesh  2002  58465\n",
       "14  Andhra Pradesh  2003  57045"
      ]
     },
     "execution_count": 60,
     "metadata": {},
     "output_type": "execute_result"
    }
   ],
   "source": [
    "df_year_state.head(15)"
   ]
  },
  {
   "cell_type": "code",
   "execution_count": 61,
   "metadata": {
    "Collapsed": "false"
   },
   "outputs": [],
   "source": [
    "df_temp  = df_year_state.query(\"State == 'A & N Islands' or State == 'Andhra Pradesh' \")"
   ]
  },
  {
   "cell_type": "code",
   "execution_count": 62,
   "metadata": {
    "Collapsed": "false"
   },
   "outputs": [
    {
     "data": {
      "text/html": [
       "<div>\n",
       "<style scoped>\n",
       "    .dataframe tbody tr th:only-of-type {\n",
       "        vertical-align: middle;\n",
       "    }\n",
       "\n",
       "    .dataframe tbody tr th {\n",
       "        vertical-align: top;\n",
       "    }\n",
       "\n",
       "    .dataframe thead th {\n",
       "        text-align: right;\n",
       "    }\n",
       "</style>\n",
       "<table border=\"1\" class=\"dataframe\">\n",
       "  <thead>\n",
       "    <tr style=\"text-align: right;\">\n",
       "      <th></th>\n",
       "      <th>State</th>\n",
       "      <th>Year</th>\n",
       "      <th>Total</th>\n",
       "    </tr>\n",
       "  </thead>\n",
       "  <tbody>\n",
       "    <tr>\n",
       "      <td>0</td>\n",
       "      <td>A &amp; N Islands</td>\n",
       "      <td>2001</td>\n",
       "      <td>645</td>\n",
       "    </tr>\n",
       "    <tr>\n",
       "      <td>1</td>\n",
       "      <td>A &amp; N Islands</td>\n",
       "      <td>2002</td>\n",
       "      <td>720</td>\n",
       "    </tr>\n",
       "    <tr>\n",
       "      <td>2</td>\n",
       "      <td>A &amp; N Islands</td>\n",
       "      <td>2003</td>\n",
       "      <td>565</td>\n",
       "    </tr>\n",
       "    <tr>\n",
       "      <td>3</td>\n",
       "      <td>A &amp; N Islands</td>\n",
       "      <td>2004</td>\n",
       "      <td>610</td>\n",
       "    </tr>\n",
       "    <tr>\n",
       "      <td>4</td>\n",
       "      <td>A &amp; N Islands</td>\n",
       "      <td>2005</td>\n",
       "      <td>695</td>\n",
       "    </tr>\n",
       "    <tr>\n",
       "      <td>5</td>\n",
       "      <td>A &amp; N Islands</td>\n",
       "      <td>2006</td>\n",
       "      <td>665</td>\n",
       "    </tr>\n",
       "    <tr>\n",
       "      <td>6</td>\n",
       "      <td>A &amp; N Islands</td>\n",
       "      <td>2007</td>\n",
       "      <td>775</td>\n",
       "    </tr>\n",
       "    <tr>\n",
       "      <td>7</td>\n",
       "      <td>A &amp; N Islands</td>\n",
       "      <td>2008</td>\n",
       "      <td>714</td>\n",
       "    </tr>\n",
       "    <tr>\n",
       "      <td>8</td>\n",
       "      <td>A &amp; N Islands</td>\n",
       "      <td>2009</td>\n",
       "      <td>655</td>\n",
       "    </tr>\n",
       "    <tr>\n",
       "      <td>9</td>\n",
       "      <td>A &amp; N Islands</td>\n",
       "      <td>2010</td>\n",
       "      <td>780</td>\n",
       "    </tr>\n",
       "    <tr>\n",
       "      <td>10</td>\n",
       "      <td>A &amp; N Islands</td>\n",
       "      <td>2011</td>\n",
       "      <td>680</td>\n",
       "    </tr>\n",
       "    <tr>\n",
       "      <td>11</td>\n",
       "      <td>A &amp; N Islands</td>\n",
       "      <td>2012</td>\n",
       "      <td>605</td>\n",
       "    </tr>\n",
       "    <tr>\n",
       "      <td>12</td>\n",
       "      <td>Andhra Pradesh</td>\n",
       "      <td>2001</td>\n",
       "      <td>52610</td>\n",
       "    </tr>\n",
       "    <tr>\n",
       "      <td>13</td>\n",
       "      <td>Andhra Pradesh</td>\n",
       "      <td>2002</td>\n",
       "      <td>58465</td>\n",
       "    </tr>\n",
       "    <tr>\n",
       "      <td>14</td>\n",
       "      <td>Andhra Pradesh</td>\n",
       "      <td>2003</td>\n",
       "      <td>57045</td>\n",
       "    </tr>\n",
       "    <tr>\n",
       "      <td>15</td>\n",
       "      <td>Andhra Pradesh</td>\n",
       "      <td>2004</td>\n",
       "      <td>67630</td>\n",
       "    </tr>\n",
       "    <tr>\n",
       "      <td>16</td>\n",
       "      <td>Andhra Pradesh</td>\n",
       "      <td>2005</td>\n",
       "      <td>67210</td>\n",
       "    </tr>\n",
       "    <tr>\n",
       "      <td>17</td>\n",
       "      <td>Andhra Pradesh</td>\n",
       "      <td>2006</td>\n",
       "      <td>66380</td>\n",
       "    </tr>\n",
       "    <tr>\n",
       "      <td>18</td>\n",
       "      <td>Andhra Pradesh</td>\n",
       "      <td>2007</td>\n",
       "      <td>74410</td>\n",
       "    </tr>\n",
       "    <tr>\n",
       "      <td>19</td>\n",
       "      <td>Andhra Pradesh</td>\n",
       "      <td>2008</td>\n",
       "      <td>71729</td>\n",
       "    </tr>\n",
       "    <tr>\n",
       "      <td>20</td>\n",
       "      <td>Andhra Pradesh</td>\n",
       "      <td>2009</td>\n",
       "      <td>72500</td>\n",
       "    </tr>\n",
       "    <tr>\n",
       "      <td>21</td>\n",
       "      <td>Andhra Pradesh</td>\n",
       "      <td>2010</td>\n",
       "      <td>79505</td>\n",
       "    </tr>\n",
       "    <tr>\n",
       "      <td>22</td>\n",
       "      <td>Andhra Pradesh</td>\n",
       "      <td>2011</td>\n",
       "      <td>75385</td>\n",
       "    </tr>\n",
       "    <tr>\n",
       "      <td>23</td>\n",
       "      <td>Andhra Pradesh</td>\n",
       "      <td>2012</td>\n",
       "      <td>71190</td>\n",
       "    </tr>\n",
       "  </tbody>\n",
       "</table>\n",
       "</div>"
      ],
      "text/plain": [
       "             State  Year  Total\n",
       "0    A & N Islands  2001    645\n",
       "1    A & N Islands  2002    720\n",
       "2    A & N Islands  2003    565\n",
       "3    A & N Islands  2004    610\n",
       "4    A & N Islands  2005    695\n",
       "5    A & N Islands  2006    665\n",
       "6    A & N Islands  2007    775\n",
       "7    A & N Islands  2008    714\n",
       "8    A & N Islands  2009    655\n",
       "9    A & N Islands  2010    780\n",
       "10   A & N Islands  2011    680\n",
       "11   A & N Islands  2012    605\n",
       "12  Andhra Pradesh  2001  52610\n",
       "13  Andhra Pradesh  2002  58465\n",
       "14  Andhra Pradesh  2003  57045\n",
       "15  Andhra Pradesh  2004  67630\n",
       "16  Andhra Pradesh  2005  67210\n",
       "17  Andhra Pradesh  2006  66380\n",
       "18  Andhra Pradesh  2007  74410\n",
       "19  Andhra Pradesh  2008  71729\n",
       "20  Andhra Pradesh  2009  72500\n",
       "21  Andhra Pradesh  2010  79505\n",
       "22  Andhra Pradesh  2011  75385\n",
       "23  Andhra Pradesh  2012  71190"
      ]
     },
     "execution_count": 62,
     "metadata": {},
     "output_type": "execute_result"
    }
   ],
   "source": [
    "df_temp"
   ]
  },
  {
   "cell_type": "markdown",
   "metadata": {
    "Collapsed": "false"
   },
   "source": [
    "## Suicides in  Andhra vs A & N island over year's"
   ]
  },
  {
   "cell_type": "code",
   "execution_count": 63,
   "metadata": {
    "Collapsed": "false"
   },
   "outputs": [
    {
     "data": {
      "image/png": "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\n",
      "text/plain": [
       "<Figure size 432x216 with 2 Axes>"
      ]
     },
     "metadata": {
      "needs_background": "light"
     },
     "output_type": "display_data"
    }
   ],
   "source": [
    "g = sns.FacetGrid(col=\"State\" , data=df_temp)\n",
    "g.map(sns.lineplot , \"Year\" , \"Total\")\n",
    "# plt.xticks(rotation=\"vertical\")\n",
    "g.set_xticklabels(rotation=90)\n",
    "# g.set_title(\"AP vs A&N island\")\n",
    "plt.show()"
   ]
  },
  {
   "cell_type": "code",
   "execution_count": 64,
   "metadata": {
    "Collapsed": "false"
   },
   "outputs": [
    {
     "name": "stderr",
     "output_type": "stream",
     "text": [
      "/usr/local/lib/python3.7/dist-packages/seaborn/axisgrid.py:715: UserWarning: Using the barplot function without specifying `order` is likely to produce an incorrect plot.\n",
      "  warnings.warn(warning)\n"
     ]
    },
    {
     "data": {
      "text/plain": [
       "<Figure size 1440x720 with 0 Axes>"
      ]
     },
     "metadata": {},
     "output_type": "display_data"
    },
    {
     "data": {
      "image/png": "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\n",
      "text/plain": [
       "<Figure size 432x216 with 2 Axes>"
      ]
     },
     "metadata": {
      "needs_background": "light"
     },
     "output_type": "display_data"
    }
   ],
   "source": [
    "plt.figure(figsize=(20,10))\n",
    "g = sns.FacetGrid(col=\"State\" , data=df_temp)\n",
    "g.map(sns.barplot , \"Year\" , \"Total\")\n",
    "# plt.xticks(rotation=\"vertical\")\n",
    "g.set_xticklabels(rotation=90)\n",
    "plt.show()"
   ]
  },
  {
   "cell_type": "markdown",
   "metadata": {
    "Collapsed": "false"
   },
   "source": [
    "# State vs Type code"
   ]
  },
  {
   "cell_type": "code",
   "execution_count": 65,
   "metadata": {
    "Collapsed": "false"
   },
   "outputs": [],
   "source": [
    "df_temp = df.groupby([\"State\" , \"Type_code\"]).agg({\"Total\":\"sum\"})"
   ]
  },
  {
   "cell_type": "code",
   "execution_count": 66,
   "metadata": {
    "Collapsed": "false"
   },
   "outputs": [],
   "source": [
    "df_temp.reset_index(inplace=True)"
   ]
  },
  {
   "cell_type": "code",
   "execution_count": 67,
   "metadata": {
    "Collapsed": "false"
   },
   "outputs": [],
   "source": [
    "df_temp = df_temp.query(\"State=='Andhra Pradesh' or State == 'Tamil Nadu'\")"
   ]
  },
  {
   "cell_type": "code",
   "execution_count": 68,
   "metadata": {
    "Collapsed": "false"
   },
   "outputs": [
    {
     "name": "stderr",
     "output_type": "stream",
     "text": [
      "/usr/local/lib/python3.7/dist-packages/seaborn/axisgrid.py:715: UserWarning: Using the barplot function without specifying `order` is likely to produce an incorrect plot.\n",
      "  warnings.warn(warning)\n"
     ]
    },
    {
     "data": {
      "text/plain": [
       "<seaborn.axisgrid.FacetGrid at 0x7f75a46ee7d0>"
      ]
     },

2904

       "<div>\n",

2905

       "<style scoped>\n",

2906

       "    .dataframe tbody tr th:only-of-type {\n",

2907

       "        vertical-align: middle;\n",

2908

       "    }\n",

2909

       "\n",

2910

       "    .dataframe tbody tr th {\n",

2911

       "        vertical-align: top;\n",

2912

       "    }\n",

2913

       "\n",

2914

       "    .dataframe thead th {\n",

2915

       "        text-align: right;\n",

2916

       "    }\n",

2917

       "</style>\n",

2918

       "<table border=\"1\" class=\"dataframe\">\n",

2919

       "  <thead>\n",

2920

       "    <tr style=\"text-align: right;\">\n",

2921

       "      <th></th>\n",

2922

       "      <th>State</th>\n",

2923

       "      <th>Year</th>\n",

2924

       "      <th>Total</th>\n",

2925

       "    </tr>\n",

2926

       "  </thead>\n",

2927

       "  <tbody>\n",

2928

       "    <tr>\n",

2929

       "      <td>0</td>\n",

2930

       "      <td>A &amp; N Islands</td>\n",

2931

       "      <td>2001</td>\n",

2932

       "      <td>645</td>\n",

2933

       "    </tr>\n",

2934

       "    <tr>\n",

2935

       "      <td>1</td>\n",

2936

       "      <td>A &amp; N Islands</td>\n",

2937

       "      <td>2002</td>\n",

2938

       "      <td>720</td>\n",

2939

       "    </tr>\n",

2940

       "    <tr>\n",

2941

       "      <td>2</td>\n",

2942

       "      <td>A &amp; N Islands</td>\n",

2943

       "      <td>2003</td>\n",

2944

       "      <td>565</td>\n",

2945

       "    </tr>\n",

2946

       "    <tr>\n",

2947

       "      <td>3</td>\n",

2948

       "      <td>A &amp; N Islands</td>\n",

2949

       "      <td>2004</td>\n",

2950

       "      <td>610</td>\n",

2951

       "    </tr>\n",

2952

       "    <tr>\n",

2953

       "      <td>4</td>\n",

2954

       "      <td>A &amp; N Islands</td>\n",

2955

       "      <td>2005</td>\n",

2956

       "      <td>695</td>\n",

2957

       "    </tr>\n",

2958

       "    <tr>\n",

2959

       "      <td>5</td>\n",

2960

       "      <td>A &amp; N Islands</td>\n",

2961

       "      <td>2006</td>\n",

2962

       "      <td>665</td>\n",

2963

       "    </tr>\n",
     "execution_count": 68,
     "metadata": {},
     "output_type": "execute_result"
    },
    {
     "data": {
      "image/png": "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\n",
      "text/plain": [
       "<Figure size 432x216 with 2 Axes>"
      ]
     },
     "metadata": {
      "needs_background": "light"
     },
     "output_type": "display_data"
    }
   ],
   "source": [
    "g = sns.FacetGrid(col=\"State\" , data = df_temp)\n",
    "g.map(sns.barplot , \"Type_code\" , \"Total\")\n",
    "g.set_xticklabels(rotation=90)"
   ]
  },
  {
   "cell_type": "code",
   "execution_count": 69,
   "metadata": {
    "Collapsed": "false"
   },
   "outputs": [
    {
     "data": {
      "text/plain": [
       "<seaborn.axisgrid.FacetGrid at 0x7f75a46eef50>"
      ]
     },
     "execution_count": 69,
     "metadata": {},
     "output_type": "execute_result"
    },
    {
     "data": {
      "image/png": "iVBORw0KGgoAAAANSUhEUgAAAZMAAAEnCAYAAABsR64CAAAABHNCSVQICAgIfAhkiAAAAAlwSFlzAAALEgAACxIB0t1+/AAAADl0RVh0U29mdHdhcmUAbWF0cGxvdGxpYiB2ZXJzaW9uIDIuMi4yLCBodHRwOi8vbWF0cGxvdGxpYi5vcmcvhp/UCwAAIABJREFUeJzt3Xe4VNX1//H3h96LUiwgRYoKIuJVMXYsscaGSUyMmJgYSyzJLyqaYomJNVUTo4nYY4m95Ksm9mhEEekookFFCUWUKn39/th74HAd4MLMOWfuvev1PPPcmX3OzNoDa2bNaXvLzHDOOedK0SDvDjjnnKv9vJg455wrmRcT55xzJfNi4pxzrmReTJxzzpXMi4lzzrmSeTHZBJJ+ImmipHGSxkjaPbafK6lFDZ5fo/XK0M8fSloiqe0mPPdkSdfH+7dKGlrGfj0v6W1JYyW9LKlvia+3cBOfN01Sh1Jiu6CSPxOSdox9GiNprqT/xvv/KsNrHyPpvHj/cknnFlnnckkLk7m2sTkr6buSfldqf9PkxWQjSdoDOAIYZGYDgAOBD+Pic4GafCBqul6pTgBeB45JO5Ckhhv5lG+a2U7AbcA1ZXg9l5NK/0yY2XgzG2hmA4FHgfPi4wPL8NoPmdkX8reIucAPS41XybyYbLwtgTlmthTAzOaY2ceSzga2Ap6T9ByApBskjYq/2C6NbcXWO1jSfySNlvR3Sa1K7aSkbYFWwE8JRaXQfrKkByU9KekdSVcnln1b0hRJLwB7VnvJfSS9Ium9wlaKpP0kPSfpb8D42PawpDfiez61Bl19EegVnztN0s8l/Rs4XtL3JL0et2AeKPxyldQj/nu9LukX1d73ebF9XOLfvKWkJ+LrTJD0tcRTzor/7uMlbVeTf1v3BbXiM1GMpDaSno1xxkk6Irb3irkyIvb1dklfjp+BKZKq4no13WL4K/BNSe2K9OGxxGfmu4n278ZYzwODE+13Sjo68XiTtszLzsz8thE3whf0GGAK8Cdg38SyaUCHxOPN4t+GwPPAgOrrAR0IX6gt4+MLgJ8XiXtejFv99od19POnwM8IPximAZ1i+8nAe0BboBnwPtCV8IXwAdARaAK8DFwfn3Mr8Pf4WjsAU2P7fsAioEeR99wcmABsXqRvzwNVifd1b+Lf5fzEepsn7l8OnBXvPwqcFO+fCSyM9w8GbgIU+/o4sA9wHPCXxGu1TcQrvOYZwF/zzq/aeKstn4lELg9NPG4MtI73OwHvxPu9gOUx3xvE1/1LXHYccH+8/13gd4kcPbdIzMsJW16XAT+LbQuL/Ju0ACYB7YEuhM/m5oTP46uJOHcCRyeev3Bd7zfLWyPcRjGzhZJ2AfYG9gfulTTczG4tsvpX46/zRoQv6x2AcdXWGRzbX5YEIXH+UyTuNRTZHbQeXweOMbNVkh4Ejgf+GJc9Y2bzACRNAroRPsDPm9ns2H4v0Cfxeg+b2SpgkqTOifbXzOy/icdnSyrsVusK9AY+KdK/uyR9TvxCT7Tfm7jfX9LlQDvCF9ZTsX1Pwgca4A7gqnj/4Hh7Mz5uFeO/BFwr6SrgcTN7KRHjwfj3DeDYIv10G1CLPhPFCLhK0l7AKqBr4tjGVDObBKs/J4VjLOOBCzch1u+A0ZJ+W639h5K+Eu93AbYFuhM+p5/E+PcB22xCzMx4MdkEZraS8KvqeUnjgWGEXzyrSeoB/BjY1cw+lXQrYUugOgH/NLMTiixLvt55wDeLLHrRzM6utu4AwpfoPxMfxvdYU0yWJlZfyZo8WN9AbcnnKHF/USLufoT95XuY2eK4eV7sPUM4ZjKqSPuixP1bCb/Axko6mbAlVFCsrwKuMLMbv7AgfNkdBlwh6WkzuywuKryv5L+D20iV/plYj5MIW+mDzGyFpOmJPiVzflXi8So2IVfMbG4sCqcV2iQdSNh6Hmxmn8ddvIX46/o8riAeolA4tlgReevHTDaSpL6SeieaBhI2RwEWAK3j/TaEL8Z58Zf8oYnnJNd7FdhTUuG4QQtJyS0CIPwKs3gQsdqt2IfmBOASM+seb1sBW0vqtp63NhLYT9LmkhoTtmQ2Vlvg01hItiOxn3cTtQZmxP4kvzReJmx5Ua39KeA7hf3rkraW1EnSVsBiM7sTuBYYVGK/XEIt+UysS1tgViwkBwFbb8RzN8WvCbtUC9+9bYG5sZD0A3aN7a8CB0jaTFITIHk25TRgl3j/GMIuw9xVREWrZVoB18UDaSuAqUDhQPNNwP9JmmFm+0t6E5hI2Cp4OfEa1dc7GbhbUtO4/KeE/c+b6uus/UEFeCi2zyz2BDObIekSwu6EGcBoNj5JnwROkzQOeJvwgSjFzwhF7n3CroXCl805wN8knQM8UFjZzJ6WtD3wn7hFthA4kbD/+xpJqwj7wU8vsV9ubbXhM7EudwCPSRpFyPl3UoixmpnNlPQ4oaAAPAGcKmks8BYh3zGz6XEX76vAx0ByK/5G4JFY/J5m7S2o3CgewHHOOec2me/mcs45VzIvJs4550rmxcQ551zJvJg455wrmRcT55xzJfNiEh1yyCFGuEjIb36rya1W8jz320beasyLSTRnzpy8u+Bc6jzPXVq8mDjnnCuZFxPnnHMl82LinHOuZKkVkzipzCxJE6q1n6UwZetExYmZJO2mNdNqjk0MYV6YenaiwkQ1d0tqFtt7SBqpMMHTvXEwNCQ1jY+nxuXd03qPzjlX2837fDnLVqwq+XXSHOjxVuB64PZCg6T9gaMIE+IsldQpLppAmCxphaQtgbGSHgM6A2cDO8RRNe8jDFZ4K2EOi9+a2T2S/gycAtwQ/35qZr0kfT2ul5xZzzmX8O7shRz82xfz7kautmrXjHtP3YOt2jXPuyuZu+jB8XwwdzEPn7knDRtow09Yh9SKiZm9WGSr4HTgSlszvees+HdxYp1mrH1KWiOguaTlhJnIPlYYEnYI8I24zm3AJYRiclS8D3A/cL0kmY9o6VxR7Zo35vR9t827G7lZZcYtL0/joofGc8vJuxJHnK4X/m/8DJ4YP4Pzvty3pEIC2Q9B3wfYW9IvgSXAj83sdQBJuwMjCLP+fcvMVgAfSbqWMJ3s58DTcZjxDsBncR2A6ayZh2Br4EOAuKUzjzD15RfOiYwzvp0KsM02FT2JmXObbEN5vnmrpvz4y32z7lZF6di6KZc+NokHR3/Ecbt0ybs7mfh00TJ+9shE+m3VhlP36Vny62V9AL4RYX7jwYT5m++LWxmY2UgzK0wOc6GkZpLaE7Y0egBbAS0lncjaM/0VFLY81rds7Uazm8ysysyqOnbsWMr7cq5ieZ5v2LA9ulPVrT2XPjaRWfOX5N2dTPzi8Ul8tngZVw8dQOOGpZeCrIvJdOBBC14jTH/ZIbmCmU0mzMbWnzAF7H/NbLaZLSfM1/0lwlZGO0mFLasuhAlkCjG6AsTlbYG5qb4r51yt1qCBuGroAJasWMVPH55AXd8r/uxbM3nwzY84Y79t6bdV27K8ZtbF5GHCsQ7iNJxNgDnxzKxGsb0b0JcwNeUHwOA4baeAA4DJ8fjHc6yZynIY8Ei8/2h8TFz+rB8vcc5tyLYdW/Gjg/rw9KSZPDF+Rt7dSc38Jcu56MEJ9OncijOH9Crb66Z5avDdhClg+0qaLukUwjGRnvF04XuAYfGLfi/CGVxjCNPLnmFmc8xsJOEg+mjCtK0NCNN7AlwA/EjSVMIxkZtj+83A5rH9R8DwtN6jc65u+e5ePRjQpS0XPzKRTxZWxGy4ZXfFPyYza8ESrhm6E00blW/6eJ+2N6qqqrJRo0ZteEXnglp5yo/n+Ya9/b8FHHHdSxzaf0v+cMLOeXenrP79zhxOvHkk39+3Jxceun1NnlLjPPcr4J1zLqHvFq05a0hvHh37MU9P/F/e3SmbRUtXMPzBcfTs0JIfHtin7K/vxcQ556o5fb9t2X7LNvz04QnMW7w87+6UxTVPvc1Hn33O1UMH0Kxx+XZvFXgxcc65aho3bMA1QwfwyaJlXP7EpLy7U7LX/juXW1+ZFk6B7r5ZKjG8mDjnXBH9t27Lafv25O9vTOeFKbPz7s4m+3zZSs6/fyxdN2vO+Yekd3GqFxPnnFuHs4b0plenVlz4wDgWLKmdu7t++68pTPtkMVceO4AWTdIb9MSLiXPOrUOzxg25eugAZsxfwpX/91be3dlob37wKX996T1O2G0b9uzVYcNPKIEXE+ecW49B27TnlD17cNfID3jl3doz7fHSFSs5//5xdG7TjAsP2y71eF5MnHNuA/7fwX3ptnkLhj8wnsXLVmz4CRXg+men8s6shfzqmB1p06xx6vG8mDjn3AY0b9KQq44bwAdzF3PtU1Py7s4GTfhoHn96/l2OHbQ1+2/XacNPKAMvJs45VwODe27OtwZ345ZX/ssb71fu2LHLV67i/PvHsVnLJvz8iB0yi+vFxDnnauiCQ7djq7bNOe/+cSxZvjLv7hR14wvvMmnGfC4/uj/tWjTJLK4XE+ecq6FWTRtx5XE78t7sRfz+mXfy7s4XTJm5gD88M5UjBmzJl/ttkWlsLybOObcR9u7dka9VdeWmF99j3PTP8u7OaitWruK8+8fRqlkjLv1Kv8zjezFxzrmNdNHh29OhVRPOv38cy1asyrs7AIx4+b+M/fAzLvlKPzZv1TTz+F5MnHNuI7Vt3phfHbMjb/1vAX96fmre3eG92Qv59dNTOGiHzhw5YMtc+uDFxDnnNsEB23fm6IFbcf2zU5k8Y35u/Vi1yrjggXE0bdSAy4/uT5iUNnteTJxzbhNdfGQ/2rVozPn3j2PFynx2d93x6vu8Pu1TfnbEDnRu0yyXPkC60/aOkDQrTtGbbD9L0tuSJkq6OrbtJmlMvI2VdExi/XaS7pf0lqTJkvaI7ZtJ+qekd+Lf9rFdkv4gaaqkcZIGpfUenXP1W/uWTbjsqP6M/2geN730XubxP5y7mKuefIt9+nRk6C5dMo+flOaWya3AIckGSfsDRwEDzKwfcG1cNAGoMrOB8Tk3SioMb/l74Ekz2w7YCZgc24cDz5hZb+AZ1sz1fijQO95OBW4o/1tzzrngsB235ND+W/C7f73D1FkLMotrZgx/cBwNJK44dsfcdm8VpFZMzOxFoPploqcDV5rZ0rjOrPh3sZkVBrxpBhiApDbAPsDNcb1lZlY4F+8o4LZ4/zbg6ET77Ra8CrSTlM8RKedcvXDZUf1p0aQh598/jpWrLJOY977+IS9P/YQLD9uOrds1zyTm+mR9zKQPsLekkZJekLRrYYGk3SVNBMYDp8Xi0hOYDdwi6U1Jf5XUMj6ls5nNAIh/CwPQbA18mIg5PbZ9gaRTJY2SNGr27No7+Y1z6+N5nr6OrZtyyZH9GP3BZ9z6yrTU482Y9zm/fGIye/TcnBN23Sb1eDWRdTFpBLQHBgPnAfcpbpuZ2ci462tX4EJJzeL6g4AbzGxnYBFrdmetS7FtvaI/FczsJjOrMrOqjh07btIbcq7SeZ5n46iBW3HAdp245qm3eP+TRanFMTMuenA8K1YZVx63Iw0a5Lt7qyDrYjIdeDDugnoNWAWsNWOLmU0mFI3+cf3pZjYyLr6fUFwAZhZ2X8W/sxIxuiZesgvwcQrvxTnnVpPEL4/ZkcYNGnDBA+NYldLurofe/Ijn3p7NeV/uS7fNW274CRnJupg8DAwBkNQHaALMkdSjcMBdUjegLzDNzP4HfCipMHHxAcCkeP9RYFi8Pwx4JNF+UjyrazAwr7A7zDnn0rRF22b89IjtefW9ufzttQ/K/vqzFizh0scmsUu39gz7Uveyv34pUpsQWNLdwH5AB0nTgYuBEcCIeLrwMmCYmZmkvYDhkpYTtlbOMLPClGZnAXdJagK8B3w7tl9J2E12CvABcHxs/wdwGDAVWJxY3znnUvfVqq48NnYGV/xjMvtv16lsB8fNjJ89PIHPl6/kquMG0LBCdm8VyCybMw8qXVVVlY0aNSrvbrjao7I+yTXkeZ6ND+cu5su/e5Gq7ptx27d3Lctpu0+Mm8GZfxvNBYdsx+n7bVuGXtZIjTvuV8A751yZdd2sBcMP3Y4Xp8zm/jeml/x6cxct4+ePTGDHrdvyvb17lKGH5efFxDnnUnDi7t3Yrftm/OLxScycv6Sk17r0sYnMX7Kca44fQKOGlfm1XZm9cs65Wq5BA3HV0AEsXbGKnzw0gU09pPDPSTN5ZMzHnLl/L7bbok2Ze1k+Xkyccy4lPTq05McH9+Vfk2fy6NiNv0Jh3ufL+clD49lui9acsV+vFHpYPl5MnHMuRd/ZqwcDu7bjkkcnMmfh0o167i+fmMQni5ZxzdCdaNKosr+uK7t3zjlXyzVsIK4ZOoBFS1dy8aMTa/y8F6bM5r5R0/n+Pj3ZsUvbFHtYHl5MnHMuZb07t+acA3vzxLgZPDlhw9dQL1iynAsfGMe2HVty9gG9M+hh6byYOOdcBk7dpyf9tmrDTx+eyGeLl6133auefIsZ85dw9dCdaNa4YUY9LI0XE+ecy0Djhg24eugAPlu8jMsen7TO9f7z7ifc+eoHfGfPHuzSrX2GPSyNFxPnnMtIv63acsZ+2/Lg6I947q1ZX1i+eNkKLnhgHN02b8GPD+5b5BUqlxcT55zL0JlDetGncysuemg885csX2vZr5+ewgdzF3PlsQNo3qR27N4q8GLinHMZatqoIVcP3YmZ85dwxT/eWt3+xvufMuLl/3Li4G3YY9vNc+zhpvFi4pxzGRvYtR3f27snd7/2AS9PncOS5Ss5//6xbNW2OcMP3T7v7m2S1Iagd845t24/PKgP/5w0kwseGMeB23fm3dmLuO07u9Gqae38WvYtE+ecy0Gzxg25eugAPvrsc259ZRpfrerCvn1q77TKXkyccy4nVd0344z9tqVnx5b85PAd8u5OSVIrJpJGSJoVZ1VMtp8l6W1JEyVdHdt2kzQm3sZKOqbacxpKelPS44m2HpJGSnpH0r1xJkYkNY2Pp8bl3dN6j845V6rzvrwdz/xoX9o2b5x3V0qS5pbJrcAhyQZJ+wNHAQPMrB9wbVw0Aagys4HxOTcW5oSPzgEmV3v9q4Dfmllv4FPglNh+CvCpmfUCfhvXc865ilWOmRjzlloxMbMXgbnVmk8HrjSzpXGdWfHvYjNbEddpBqwe+F9SF+Bw4K+JNgFDgPtj023A0fH+UfExcfkBqgv/U845V8GyPmbSB9g77n56QdKuhQWSdpc0ERgPnJYoLr8DzgdWJV5nc+CzxDrTga3j/a2BDwHi8nlxfeeccynJupg0AtoDg4HzgPsKWw1mNjLu+toVuFBSM0lHALPM7I1qr1NsS8NqsGztF5FOlTRK0qjZs2dvwttxrvJ5nrssZF1MpgMPWvAaYWujQ3IFM5sMLAL6A3sCX5E0DbgHGCLpTmAO0C5xXKULUJjGbDrQFSAub8sXd7cVYt1kZlVmVtWxY+09Jc+59fE8d1nIupg8TDjWgaQ+QBNgTjwzq1Fs7wb0BaaZ2YVm1sXMugNfB541sxMtTKb8HDA0vu4w4JF4/9H4mLj8WdvUyZedc87VyDovtZT0KcV3DwkwM9tsfS8s6W5gP6CDpOnAxcAIYEQ8XXgZMMzMTNJewHBJywlbK2eY2ZwN9P0C4B5JlwNvAjfH9puBOyRNJWyRfH0Dr+Occ65EWtePdknrHbLSzFam0qOcVFVV2ahRo/Luhqs9auUZgp7nbiPVOM/XuWVSvVhI2oxw2m7BxzjnnHPU4JiJpMMlTSEc2B4Z/z6bdsecc87VHjU5AP9LwllVb5tZV+DLwPNpdso551ztUpNissLMZgMNJMnM/gkMSrlfzjnnapGaDJw/T1JL4N/A7ZJmsfbV6M455+q5mmyZHA0sAc4l7N76CDgixT4555yrZWpSTC40s5VmttzMbjaz3wA/Srtjzjnnao+aFJNDirQdXu6OOOecq73WdwX894HTgD6SRicWtQb8qifnnHOrre8A/H3AM8AVwPBE+4LCPCTOOeccrP8K+E8JMxgeL6k/sFdc9BLgxcQ559xqNbkC/kzCVso28XafpDPS7phzzrnaoybXmXwf2M3MFgJI+hXwCvCnNDvmnHOu9qjJ2VwCliceL6eWjpjqnHMuHes7m6tRnEP9DuBVSQ/ERccAt2XROeecc7XD+nZzvQYMMrOrJT0H7E3YIjnNzF7PpHfOOedqhfUVk9W7smLx8ALinHOuqPUVk46S1jlsShxWZZ0kjSCM4TXLzPon2s8CfgCsAJ4ws/Ml7QbcVFgFuMTMHpLUFbgd2IIwuORNZvb7+DqbAfcC3YFpwFfN7FNJAn4PHAYsBk42s+RFl84558psfQfgGwKtCFe8F7ttyK1UG4pF0v7AUcAAM+sHXBsXTQCqzGxgfM6NkhoRCs7/M7PtgcHAmZJ2iM8ZDjxjZr0JF1cWLqw8FOgdb6cCN9Sgr84550qwvi2TGWZ22aa+sJm9KKl7tebTgSvNbGlcZ1b8uzixTjPAYvsMYEa8v0DSZGBrYBKhKO0Xn3MbYUTjC2L77RYmt39VUjtJW8bXcs45l4L1bZmkcfpvH2BvSSMlvSBp19XBpN0lTQTGEw7yr1irM6Ew7UyYOhigc6FAxL+dYvvWwIeJp06Pbc4551KyvmJyQArxGgHtCbusziNcTS8AMxsZd33tClwoqVnhSZJaAQ8A55rZ/A3EKFYEreiK0qmSRkkaNXv27I1/N87VAp7nLgvrLCZmNjeFeNOBBy14jXBQvUO1uJOBRUB/AEmNCYXkLjN7MLHqTElbxnW2ZM14YdOBron1ugAfF+uMmd1kZlVmVtWxY8eS35xzlcjz3GWhJlfAl9PDwBAASX2AJsAcST3iAXckdQP6AtPiVsvNwOQiZ489CgyL94cBjyTaT1IwGJjnx0uccy5dNRmba5NIuptwgLyDpOnAxcAIYISkCcAyYJiZmaS9gOGSlhO2Vs4wszmx/VvAeElj4ktfZGb/AK4k7CY7BfgAOD4u/wfhtOCphFODv53We3TOORconPTkqqqqbNQon/PL1VitHJ/O89xtpBrneda7uZxzztVBXkycc86VzIuJc865knkxcc45VzIvJs4550rmxcQ551zJvJg455wrmRcT55xzJfNi4pxzrmReTJxzzpXMi4lzzrmSeTFxzjlXMi8mzjnnSubFxDnnXMm8mDjnnCuZFxPnnHMl82LinHOuZKkVE0kjJM2KU/Qm28+S9LakiZKujm27SRoTb2MlHZNY/5C4/lRJwxPtPSSNlPSOpHslNYntTePjqXF597Teo3POuSDNLZNbgUOSDZL2B44CBphZP+DauGgCUGVmA+NzbpTUSFJD4I/AocAOwAmSdojPuQr4rZn1Bj4FTontpwCfmlkv4LdxPeeccylKrZiY2YvA3GrNpwNXmtnSuM6s+Hexma2I6zQDChPT7wZMNbP3zGwZcA9wlCQBQ4D743q3AUfH+0fFx8TlB8T1nXPOpSTrYyZ9gL3j7qcXJO1aWCBpd0kTgfHAabG4bA18mHj+9Ni2OfBZogAV2kk+Jy6fF9d3zjmXkqyLSSOgPTAYOA+4r7DVYGYj466vXYELJTUDim1R2Hra2cCytUg6VdIoSaNmz569ce/EuVrC89xlIetiMh140ILXgFVAh+QKZjYZWAT0j+t3TSzuAnwMzAHaSWpUrZ3kc+Lytnxxd1sh1k1mVmVmVR07dizD23Ou8nieuyxkXUweJhzrQFIfoAkwJ56Z1Si2dwP6AtOA14HecXkT4OvAo2ZmwHPA0Pi6w4BH4v1H42Pi8mfj+s4551LSaMOrbBpJdwP7AR0kTQcuBkYAI+LpwsuAYWZmkvYChktaTthaOcPM5sTX+QHwFNAQGGFmE2OIC4B7JF0OvAncHNtvBu6QNJWwRfL1tN6jc865QP6jPaiqqrJRo0bl3Q1Xe9TKMwQ9z91GqnGe+xXwzjnnSubFxDnnXMm8mDjnnCuZFxPnnHMl82LinHOuZF5MnHPOlcyLiXPOuZJ5MXHOOVcyLybOOedK5sXEOedcybyYOOecK5kXE+eccyXzYuKcc65kXkycc86VzIuJc865knkxcc45VzIvJs4550qW5rS9I4AjgFlm1j/RfhbwA2AF8ISZnS/pIOBKwpzwy4DzzOzZuP4JwEWAAR8DJ5rZHEmbAfcC3QnzxX/VzD6VJOD3wGHAYuBkMxu9Ke9h8bIVzF6wdFOeWme0aNKIDq2aEP5Z65dPFi5lyYpVbN2ued5dca7ipVZMgFuB64HbCw2S9geOAgaY2VJJneKiOcCRZvaxpP6EOd+3ltSIUBh2iAXkakIhugQYDjxjZldKGh4fXwAcCvSOt92BG+LfjfbK1E/47u0+xWm7Fo3p3akVvTu3pk/827tzKzq2aloniszcRcuYMnMB78xcwJSZC5kycwFTZy3kk0XLOHKnrbjuhJ3z7qJzFS+1YmJmL0rqXq35dOBKM1sa15kV/76ZWGci0ExSU2AVYQ7ilpI+AdoAU+N6RwH7xfu3Ac8TislRwO0WJrd/VVI7SVua2YyNfQ/9tm7Db76608Y+rU6Z9/ly3pm1kHdmLuCJcTP42+fLVy9r16IxfTq1plfnVvTp1Io+nVvTu3Prit2SWV004vsJBSQUjYLWTRvRq3MrDty+M707t2Lnbdrl2GPnao80t0yK6QPsLemXwBLgx2b2erV1jgPeLBQcSacD44FFwDvAmXG9zoUCYWYzEls5WwMfJl5vemzb6GKyZdvmHDuoy8Y+rc4yM2YvXMo78df7lJkLmTrri0WmfYvG9O4Utl76dG69eqsmqyLzaSwaU2LReGfmQt6ZtYA5C9cUjVZNG9G7cysO2L7T6iLYp3MrtmjTrCILoXOVLuti0ghoDwwGdgXuk9QzbkUgqR9wFXBwfNyYsDWzM/AecB1wIXD5emIU+yawoitKpwKnAmyzzTab8HbqF0l0at2MTq2bsWevDqvbzYzZC5YyJX5pT5kZvsQfG/sx85esWL1e+xaNwy6y1Vsx4W+HVk03qT+ffmFLo3jR6NWpFUO2C0WjV4y9Zdv6UzQ8z10Wsi4m04EHY/F4TdIqoAMwW1IX4CHgJDN7N64/EKDwWNJ9hGPYO2KAAAAa5UlEQVQjADMLu68kbQnMSsTomojZhXDg/gvM7CbgJoCqqqqiBcdtmCQ6tWlGpzbN2Kt38SITvvTDF/6jYz9mQaLIbNaySfySL2zJhEJTKDKfLV621rGMwlbRnIVrTo4oFI39+3Zaq1DVp6KxLp7nLgtZF5OHgSHA85L6EM7emiOpHfAEcKGZvZxY/yNgB0kdzWw2cBAwOS57FBhGOAtsGPBIov0Hku4hHHiftynHS1zp1ldkZi1YutausikzF/LImC8WmYYNtNYZdS2bNKRX59bs37dj2NKIRWMrLxrO5SrNU4PvJhwg7yBpOnAxMAIYIWkC4RTgYWZmkn4A9AJ+Juln8SUOjmd3XQq8KGk58D5wclx+JWE32SnAB8Dxsf0fhNOCpxJODf52Wu/RbRpJdG7TjM5tmrF3746r282MmfOXrrWrbMUqo0/neCaZFw3nKpbi4Yp6r6qqykaN8tOAXY3Vyormee42Uo3z3K+Ad845VzIvJs4550rmxcQ551zJvJg455wrmRcT55xzJfOzuSJJswmnHlfXgTAQZV48fmXGn2Nmh2TdmVKtJ88h33/rSv1/ru/xa5znXkw2QNIoM6vy+B6/rsvzveb97+zxS4/vu7mcc86VzIuJc865knkx2bCbPL7HryfyfK95/zt7/BL5MRPnnHMl8y0T55xzJfNi4pxzrmReTJxzzpXMi0kRkraV1DTe30/S2XECryz7cLWkNpIaS3pG0hxJJ2YQ9zFJj67rlnb82IcWkn4m6S/xcW9JR2QRO8Y7J/7bS9LNkkZLOjir+FnxPM83z2M/csv1cue5F5PiHgBWSuoF3Az0AP6WcR8ONrP5wBGEqYj7AOdlEPda4NfAf4HPgb/E20JgQgbxAW4BlgJ7xMfTgcszig3wnfhvfzDQkTDB2pUZxs+K53m+eQ755npZ8zzraXtri1VmtkLSMcDvzOw6SW9m3IfG8e9hwN1mNjeLGQbN7AUASb8ws30Six6T9GLqHQi2NbOvSToh9ulzZTu9YiHWYcAtZjY24/hZ8TzPN88h31wva577lklxy+N/7jDg8djWeD3rp+ExSW8BVcAzkjoCSzKM31FSz8IDST0Iv16ysExSc8Bi7G0Jv96y8oakpwkfsqcktQZWZRg/K57n+eY55Jvr5c1zM/NbtRuwA/AH4IT4uAcwPId+tAcaxvstgC0yjH0I8AHwfLxNA76cUeyDgBeA2cBdMfZ+Gb73BsAgoF18vDkwIOv//wzep+d5jnke4+eW6+XOc79ocR3ir4VtzOztnOKfVKzdzG7PsA9Nge3iw7fMLLOtA0mbA4MJm+KvmllmI6pK2qdYu5llufsjE57n+eZ5jJ9Lrpc7z72YFCHpSMIBuiZm1kPSQOAyM/tKhn24LvGwGXAAMNrMhmYUvwXwI6CbmX1PUm+gr5k9voGnlhJz0PqWm9notGJX68djiYfNgN2AN8xsSBbxs+J5nk+ex7i553q589yLSRGS3gCGAM+b2c6xbbyZ7Zhjn9oCd2T1QZd0L/AGcJKZ9Y+/YP9jZgNTjPncehZbXl/mkroCV5vZCXnET4vneT55HuNWXK6Xmud+NldxK8xsXrUTG/KuuouB3hnGy/wsEzPbP83XL8F0oH/enUiB53lOZ1NVaK6XlOdeTIqbIOkbQMO42Xs28EqWHYiboIUPdgPCwdK/Z9iFzM8ykTTEzJ6VdGyx5Wb2YJrxE/24jrX/7QcCY7OInTHP85zOpqqEXC93nnsxKe4s4CeEpLobeAr4RcZ9uDZxfwXwvplNzzD+JcCTQFdJdwF7Ei5qStM+wLPAkUWWGZBJMQFGJe6vIFz/8HJGsbPkeZ5PnkNl5Hp58zyrU+Bq6w1oCLTJIe5VNWlLuQ+bA4cTrk7ukEG8c+LfvXL+Pz+nJm116eZ5nl2ex5i553q589wvWixC0t/imDUtgYnA25KyGOIh6aAibYdmFVzSM2b2iZk9YWaPm9kcSc+kHLbwi/APKcfZkGFF2k7OuhNp8zzPLc+hMnK9rHnuu7mK28HM5kv6JvAP4ALCGR/XpB1Y0unAGUBPSeMSi1oDqe9qkdSMcOFYB0ntWTPkQhtgq5TDT5Y0jXBVcvK9i3CGy4A0g8eDsN8Aemjtwf5aA5+kGTsnnuf55DnkmOtp5bkXk+IaS2oMHA1cb2bLJWV1lsvfgP8DrgCGJ9oXmNncDOJ/HziX8IFKnus+H/hjmoHN7ARJWxD23Wd2rUPCK8AMoANhEMCCBcC4os+o3TzPc8hzyD3XU8lzv86kCElnE36ljSXsS90GuNPM9s6hL50IFxQBYGYfZBT3LDO7bsNrpha/CWEEWYC3zWx5Xn2pqzzP88/z2Ic6keteTGpIUiMzW5FhvCOB3xB+Oc0CugGTzaxfRvGbA6cDexHOLnkJ+LOZpT4In6R9gdsJ4xQJ6AoMs4yGM5E0GLgO2B5oQjg4vcjM2mQRP0+e59nleYyfW66XO8+9mBQh6efF2s3ssgz7MJZwdfK/zGxnSfsTBuQ7NaP49xE2e++MTScA7c3s+AxivwF8w+J4UZL6EE5b3CXt2DHeKODrhOsdqoCTgF5m9pMs4mfF8zzfPI/xc8v1cue5HzMpblHifjPCKYOTM+7DcjP7RFIDSQ3M7DlJV2UYv6+Z7ZR4/Fz84GehsSUGHjSzKXHffmbMbKqkhma2ErhFUqYX82XE8zzfPIecc72cee7FpAgzSx6UQtK1QGZTeUafSWoFvAjcJWkW4cKirLwpabCZvQogaXcyOMsmGiXpZuCO+PibhLOMsrI47sceI+lqwsHKlhnGz4TnOZBvnkO+uV7WPPfdXDUQTx18zcwyGzMonvv/OWGYg28CbQkHR7M40wVJk4G+hLkeIBycnUyYPCftUxebAmcS9mOL8EXzJ8toaHBJ3YCZhP3IPyT82//RzN7NIn5ePM+BDPM8xs8t18ud515MipA0njVj1jQkzLx2mZldn2EfrjKzCzbUlmL8butbbmbvpxS3IXCbmZ2YxuvXsA/nmNnvN9RW23me55fnMXauuV7uPPdiUkS1BFsBzMzyDJfYh9FmNqha27i0fylVi7cTUDhN9CUzy2RfsqSngCPNbFkW8YrEL/Zv/6bFYdrrCs/z1fFyyfMYO7dcL3ee+zGTIgq/RhLnvm8lKZNz39dxZbCAVmS4L1fSOcD3WDPg3J2SbsronPxpwMvx6tzVB4nN7DdpBl3PlcFtqINXwHue557nkEOup5XnvmVShKSvEK4Mzfzcd4XJgdqT35XBhX6MA/Yws0XxcUvCpEGp/2KUdHGxdjO7NOW43YAeFPm3B8Zl/as9bZ7n+eZ5jJd5rqeV575lUtwvCHMyr3Xue0axlwMfWZztTFJf4DDgfbIbgh3Cr8SViccrWTN+UXpBpY7AE8BUM/ss7XhJ8Zf6+8AesS+bE4YKX1jXCknkeZ5TnkN+uZ5WnvuowcUtN7NPgNXnvhMmjsnCk0B3AEm9gP8APYEzJV2ZUR8AbgFGSrpE0iXAq8DNaQaU9F3C6LXXAW/FX86ZkfS4pP7x/pbABOA7wB2Szs2yLxnxPM8hzyHfXE8rz303VxGS/kUY/O4KwmBos4BdzexLGcRePQe3pF8Am5nZmfF88Dcsw/m5JQ0iccqimb2ZcrwJwP5mNltST+AuM9sjzZjV4k8s7OKRdBGwnZmdJKk18HKWB4Wz4Hm+ui+Z5nmMmVuup5XnvpsrIf5C6gwcRTj3/YeEc9+7EWaly0Kyug8hDgduZsskrUo7uKTNEg+nxdvqZSnvz15mZrMBzOy9eA5+lpID7B0A/CX2ZUEW//ZZ8TzPPc8h31xPJc+9mKztd8BFhYNxhAuXbpNURZjes9gUm+U2TuFK5I+AXsDTAJLaZRAbwtW3RviVtg3wabzfjnBhV48UY3eR9Id1PTazs1OMDfChpLOA6cAgwq6YwmCAmQ7nkjLP83zzHPLN9VTy3IvJ2rqb2RfG8zezUZK6Z9SH7wHnEPYnH2xmi2P7Dqw9X3YqzKwHgKQ/A4+a2T/i40OBA1MOX32WvyyHUAE4BbiM8D6/ljgoOpiwb72u8DzPN88h31xPJc/9mEmCpKlm1mtjl+VB0gNmdlyKr/+GVRu5VNIoM6tKK2ZNSbrOzLLaHVNx8Uvleb7W61dsnkO+ubaxsf1srrW9Lul71RslnUL2v5I3pGfKrz9H0k8ldZfUTdJPqJwL9/as5/FL5Xm+RiXnOeSbaxsV23dzre1c4CGFObELH6oqwkBox+TWq+LS3qQ8AbgYeCg+fpHsrkFw6fI8X8PzvEy8mCSY2UzgS/Hirf6x+QkzezbHbuUins1yTt79cOXneb6G53n5eDEpIl689Vze/diAVK/SjVfnng/0Y+25uYekGbeGMrlCuYLjl4XnecXnOeSbaxsV24+Z1F5pD9F9F/AW4RTJSwnn4b+ecsyaynso+Lzj1yf1Oc8h31zbqNh+NleFkrQn4Zz/boQtSBEm60n7gGQh/htmtosSw4FLesHM9k0x5mOsZx+5maU65ETe8euj+pjnMUZuuZZWbN/NVbluJlyZ/AZrD0SXlcJVsjMkHQ58DHRJOWbq1xdUePz6qD7mOeSba6nE9i2TCiVppJntnmP8I4CXgK6EwejaAJeaWdZzhLs6zPO87vBiUqHiyKkNCcNxr54P2sxG59apBEkXmtkVKb12b8Lggzuw9kHRrHZ95Bq/PqnPeR5fP7dcK3ds381VuQq/1pJX4hphULxKcDwhEdNwC+Hc/98C+wPfJtuzWvKOX5/U5zyHfHOtrLF9y8RtEqU4J3rioGhymPKXzGzvDT23LsR3lSPNPI+vn1uulTu2b5lUKIVpTS8mzIAG8AJwmZnNy69Xa0nzV8gSSQ2AdyT9gDCybKcU41Va/Hqjnuc55JtrZY3t15lUrhGEOZm/Gm/zqayRa9PcFD8XaAGcDewCfAsYlmK8Sotfn9TnPId8c62ssX03V4WSNMbMBm6oLS+SLjKzX+XdD1e7eZ7XHb6bq3J9LmkvM/s3rL646/Osgku6Grg8xnwS2Ak418zuBEjzAyapD2G+h8KFbMSYqR6UlfQ7Mzt3XRd1+UWLqai3eR7jZ57raeW5b5lUKEkDgduAtoRN7bnAyWY2NqP4Y8xsoKRjCPOE/xB4zsx2yiD2WODPVLuQzcxSHR5d0i5m9oakolc/m9kLacavj+pznsf4med6WnnuWyYVyszGADtJahMfz8+4C4XpOw8D7jazuVJmZ8euMLMbsgpWkPgAjwI+N7NVAJIaAlnPR18v1PM8hxxyPa0892JSYSSdaGZ3SvpRtXYAzOw3GXXlMUlvETb/z4ijqy7JMPYZhDkmkheyzc0o/jOEKU0XxsfNCXOUfymj+HWe5/la8fPK9bLmuReTytMy/m1dZFlm+yTNbLikq4D5ZrZS0iLgqIzCF84oSc6TbaQ/615BMzMrfMAws4WSWmQUu77wPA/yzPWy5rkXkwpjZjfGu/8ys5eTy+LBySxtD3SXlMyT29MOamY90o6xAYskDSoM6SFpFzI8KFwfeJ4HOed6WfPcD8BXKEmjzWzQhtpSjH8HsC0whjUHBs3Mzs4gdmPgdNZcyPY8cKOZLV/nk8obf1fgHsIIsgBbAl9L+wSA+qg+53mMn1uulzvPfcukwkjag7DPsmO1/cltCAPiZaUK2MHy+bVxA+HA6J/i42/Ftu9mEdzMXpe0HdCXcIbRW1kVsvrC83y13HK93HnuxaTyNAFaEf5vkvuT5wNDM+zHBGALYEaGMQt2rXZq5rPxFMpMFPu1KCmzLaN6wvM8yC3Xy53nvpurQknqZmbv5xj/OWAg8Bprn2WS+oV7kkYDx5vZu/FxT+D+DHd9/JXwa/G22PQtYKWZZbJlVJ/U5zyP8XPL9XLnuW+ZVK7Fkq4B+rH2XANZDc19SUZxijkPeE7Se4TN726E4bGzkuuWUT1Tn/Mc8s31sua5F5PKdRdwL3AEcBrhFMLZWQXP82pvM3smTtyT3Je7dANPK6eVkrat9msxjyll64N6m+cxfp65XtY8991cFSox18A4MxsQ214ws6JDIKQQfzBhGtPtCfu3GwKLzKxNijGHmNmzko4tttzMHkwrdrV+HEAYufa92NQd+LaZPZdF/PqkPuZ5jJt7rpc7z33LpHIVDoLNkHQ44fS9LhnGvx74OvB3whkvJwG9U465L/AscGSRZUaY2jU18VTJDxO/Fr9PuEL4acB3c6WjPuY55JjraeW5b5lUKElHAC8BXQm/nNoAl5rZoxnFH2VmVdV+Mb5iZnV2SJF4MPTAOD7TPoRz8M8iHKDd3syyPMuoXvA8z15aee5bJhXKzB6Pd+cR5mfO2mJJTYAxcZjuGawZAiNVks4hbH4vAP4CDAKGm9nTKYdumBgT6WvATWb2APCApDEpx66X6nOeQ265nkqe+0yLFUrSbZLaJR63lzQiwy58i5AfPwAWEX45HpdR7O/E0WMPJkwj+m3gygziNkwMqXEAYTdEgf/wSkE9z3PIJ9dTyXP/gFSuAWb2WeGBmX0qaeesgpvZ+5KaA1ua2aVZxY0KY4AfBtxiZmOVzbjgdwMvSJpDGKPoJQBJvQi/nF351ec8h3xyPZU89y2TytVAUvvCA0mbkWHxl3QkYbyiJ+PjgZIy2Y8NvCHpacIH7ClJrYFVaQc1s18C/w+4FdgrMcRGA8I+ZVd+9TnPIYdcTyvP/QB8hZJ0EnAhcH9sOh74pZndkVH8N4AhwPNmtnNsW32QMuXYDQgHA98zs8/iF0wXMxuXdmyXrfqc5zFWncl1381VoczsdkmjCIku4Fgzm5RhF1aY2bxs9i59wR7AGDNbJOlEwkHJ3+fREZeuep7nUIdy3XdzVShJ2xBmQHsUeARYGNuyMkHSNwgH63pLug54JaPYNxDOstkJOB94n4zml3DZqud5DnUo1303V4WSNJ41M841B3oAb5tZv4zitwB+QjjLRMBTwC/MLPUpTRXns5D0c+AjM7tZGc5x4bJTn/M8xq8zue7FpJaQNAj4vpl9P+++pE3SC4QDot8B9iaM1TTGzHbMtWMudfUpz6Fu5boXk1oki18sGzqTJaMh6LcAvgG8bmYvxd0e+5lZrdz8dxunvuR57EedyXU/AF+htPbscw0IB+ayGE11D+BDwrnoI1lzHnxmzOx/kh5gzRhJc4CHsu6HS199znOoW7nuxaRyJWefWwE8ATyQQdwtgIOAEwi/mJ4A7jaziRnEBkDS94BTgc0I83NvDfyZcLWuq1vqbZ5D3cp1383l1klSU8KH7RrgMjO7LqO4Y4DdgJGJc//H18b9yK7y5ZXnMXadyXXfMqkwkh5jzdktX5DRMYumwOGED1h34A+kPPx7NUvNbFnh3P84jpD/6qlDPM9XqzO57sWk8lwb/x5L2BS/Mz4+AZiWdnBJtwH9gf8jDAU+Ie2YRbwg6SKguaSDgDOAx3Loh0uP53lQZ3Ldd3NVKEkvmtk+G2pLIe4qwuipsPYvJAGW9gx0sQ8NgFNY+9z/v5ona51Tn/M89qPO5LpvmVSujpJ6mtl7AJJ6AB3TDmpmuY2KIOkZMzsAuMLMLiDM7+DqtnqX51A3c92LSeX6IfC8pOT8zHX9Qq4tJe0LfEXSPVQ7XdPMRufTLZei+pjnUAdz3XdzVbB4gHC7+PAtM1uaZ3/SJmkoYZN/L2BUtcVmZkOy75VLW33Lc6ibue7FpMJIOt/Mro73jzezvyeW/crMLsqvd9mQ9DMz+0Xe/XDp8TwP6lKuezGpMMmhJKoPK1FbB4DbFJK+AhQOwj6fmCvc1QGe52vUlVz3Iegrj9Zxv9jjOknSFcA5wKR4Oye2ubqj3uc51K1c9wPwlcfWcb/Y47rqcGCgma2C1dcEvEmYkc/VDZ7nQZ3JdS8mlWcnSfMJv86ax/vEx83y61bm2gFz4/22eXbEpcLzfI06keteTCqMmTXMuw8V4ArgTUnPEb5c9qEW/lJz6+Z5vlqdyXU/AO8qisIgRV0II8juSviAjTSz/+XaMefKrK7luhcTV3EkvWFmu+TdD+fSVpdy3c/mcpXoVUm75t0J5zJQZ3Ldt0xcxZE0CehLGD12EWsG3xuQZ7+cK7e6lOteTFzFkdStWLuZvZ91X5xLU13KdT+by1UMSc2A04BewHjgZjNbkW+vnCu/upjrvmXiKoake4HlwEvAocD7ZnZOvr1yrvzqYq57MXEVIzn3dZy+9LX6NEaTqz/qYq772Vyukiwv3Kntm/zObUCdy3XfMnEVQ9JK1kylKqA5sJiMp1J1Lm11Mde9mDjnnCuZ7+ZyzjlXMi8mzjnnSubFxDnnXMm8mNRCkjaXNCbe/ifpo8TjJnn3rxhJ/5Y0MO9+uNrFc7328CvgayEz+wQYCCDpEmChmV2ba6ecS4Hneu3hWyZ1iKQrJJ2ZeHyVpDMkHSjpOUkPS5ok6Y9xLgUkHSrpP5JGS7pXUsv1vP7ucd2xkkZKaiGpuaTbJI2Pr7FPXLeFpL9LGifpHhKz521MTOeK8VyvQGbmt1p8Ay4Bfhzvbwu8Hu83BN4D2gMHEs5h7x7bnwWOBjoBLwAt4nN+Aly0jjjNgP8Cg+LjtvG1LgD+Etv6Ae8DTYDzgZti+87ASsIvzBrH9JvfkjfP9cq++W6uOsTM3pW0QNKOQDfCEA2fxh9mr5rZNID462mv+LQdgFfiOk2Af6/j5bcHPjCz0THWvPhaewHXxLaJkj4mDF63D3B1bH9T0sT4Ol/aiJjOFeW5Xnm8mNQ9NwMnE36Z3Zhor351qhGutn3SzL5Vg9dVkdcotK/LutavaUzn1sdzvYL4MZO65wHgSMJm9r8S7YMlbSOpIfBVwi+kV4B9JfUEkNRSUu91vO5EoJukQXHdNvG1XgS+Gdu2B7YEplZr34mwW4CNjOnc+niuVxDfMqljzGyJpBeB/5nZqsSiV4BfExL9eeBRMzNJpwD3Jk6zvAh4p8jrLpV0AnCDwlwMnwNDgOuAGyWNJwxed5KZLZN0PXCbpHHAaGBUfJ2ZNY3p3Pp4rlcWH5urjpHUABgDHG1m78W2A4EfmNnRuXbOuTLyXK8svpurDokHI98l7Kd9L+/+OJcWz/XK41sm7gskPQpsU635x2b2r2LrO1dbea6XjxcT55xzJfPdXM4550rmxcQ551zJvJg455wrmRcT55xzJfNi4pxzrmT/H3mHyXBLMAciAAAAAElFTkSuQmCC\n",
      "text/plain": [
       "<Figure size 432x216 with 2 Axes>"
      ]
     },
     "metadata": {
      "needs_background": "light"
     },
     "output_type": "display_data"
    }
   ],
   "source": [
    "g = sns.FacetGrid(col=\"State\" , data = df_temp)\n",
    "g.map(sns.lineplot , \"Type_code\" , \"Total\")\n",
    "g.set_xticklabels(rotation=90)"
   ]
  },
  {
   "cell_type": "markdown",
   "metadata": {
    "Collapsed": "false"
   },
   "source": [
    "## State vs Types"
   ]
  },
  {
   "cell_type": "code",
   "execution_count": 70,
   "metadata": {
    "Collapsed": "false"
   },
   "outputs": [],
   "source": [
    "df_temp = df.groupby([\"State\" , \"Type\"]).agg({\"Total\":\"sum\"})"
   ]
  },
  {
   "cell_type": "code",
   "execution_count": 71,
   "metadata": {
    "Collapsed": "false"
   },
   "outputs": [],
   "source": [
    "df_temp.reset_index(inplace=True)"
   ]
  },
  {
   "cell_type": "code",
   "execution_count": 72,
   "metadata": {
    "Collapsed": "false"
   },
   "outputs": [
    {
     "data": {
      "text/plain": [
       "array(['Bankruptcy or Sudden change in Economic',\n",
       "       'By Consuming Insecticides', 'By Consuming Other Poison',\n",
       "       'By Drowning', 'By Fire-Arms', 'By Fire/Self Immolation',\n",
       "       'By Hanging', 'By Other means (please specify)',\n",
       "       'By Overdose of sleeping pills', 'By touching electric wires',\n",
       "       'Cancellation/Non-Settlement of Marriage', 'Cancer',\n",
       "       'Causes Not known', 'Death of Dear Person', 'Diploma', 'Divorce',\n",
       "       'Divorcee', 'Failure in Examination', 'Fall in Social Reputation',\n",
       "       'Family Problems', 'Farming/Agriculture Activity', 'Graduate',\n",
       "       'House Wife', 'Hr. Secondary/Intermediate/Pre-Universit',\n",
       "       'Insanity/Mental Illness', 'Love Affairs', 'Married',\n",
       "       'Matriculate/Secondary', 'Middle', 'Never Married', 'No Education',\n",
       "       'Not having Children(Barrenness/Impotency',\n",
       "       'Other Causes (Please Specity)', 'Other Prolonged Illness',\n",
       "       'Others (Please Specify)', 'Paralysis', 'Post Graduate and Above',\n",
       "       'Poverty', 'Primary', 'Professional Activity',\n",
       "       'Professional/Career Problem', 'Property Dispute',\n",
       "       'Public Sector Undertaking', 'Retired Person',\n",
       "       'Self-employed (Business activity)', 'Seperated',\n",
       "       'Service (Government)', 'Service (Private)', 'Student',\n",
       "       'Suspected/Illicit Relation', 'Unemployed', 'Unemployment',\n",
       "       'Widowed/Widower',\n",
       "       'Bankruptcy or Sudden change in Economic Status',\n",
       "       'By Jumping from (Building)', 'By Jumping from (Other sites)',\n",
       "       'By Jumping off Moving Vehicles/Trains', 'By Machine',\n",
       "       'By Other means', 'By Over Alcoholism',\n",
       "       'By Self Infliction of injury',\n",
       "       'By coming under running vehicles/trains', 'Dowry Dispute',\n",
       "       'Drug Abuse/Addiction', 'Ideological Causes/Hero Worshipping',\n",
       "       'Illegitimate Pregnancy', 'Illness (Aids/STD)',\n",
       "       'Not having Children (Barrenness/Impotency',\n",
       "       'Physical Abuse (Rape/Incest Etc.)'], dtype=object)"
      ]
     },
     "execution_count": 72,
     "metadata": {},
     "output_type": "execute_result"
    }
   ],
   "source": [
    "df_temp.Type.unique()"
   ]
  },
  {
   "cell_type": "code",
   "execution_count": 73,
   "metadata": {
    "Collapsed": "false"
   },
   "outputs": [],
   "source": [
    "df_temp = df_temp.query(\"State=='Andhra Pradesh' or State == 'Tamil Nadu'\").query(\"Type == 'By Jumping off Moving Vehicles/Trains' or Type == 'Dowry Dispute' or Type == 'Failure in Examination'\")"
   ]
  },
  {
   "cell_type": "code",
   "execution_count": 74,
   "metadata": {
    "Collapsed": "false"
   },
   "outputs": [
    {
     "data": {
      "text/html": [
       "<div>\n",
       "<style scoped>\n",
       "    .dataframe tbody tr th:only-of-type {\n",
       "        vertical-align: middle;\n",
       "    }\n",
       "\n",
       "    .dataframe tbody tr th {\n",
       "        vertical-align: top;\n",
       "    }\n",
       "\n",
       "    .dataframe thead th {\n",
       "        text-align: right;\n",
       "    }\n",
       "</style>\n",
       "<table border=\"1\" class=\"dataframe\">\n",
       "  <thead>\n",
       "    <tr style=\"text-align: right;\">\n",
       "      <th></th>\n",
       "      <th>State</th>\n",
       "      <th>Type</th>\n",
       "      <th>Total</th>\n",
       "    </tr>\n",
       "  </thead>\n",
       "  <tbody>\n",
       "    <tr>\n",
       "      <td>63</td>\n",
       "      <td>Andhra Pradesh</td>\n",
       "      <td>By Jumping off Moving Vehicles/Trains</td>\n",
       "      <td>858</td>\n",
       "    </tr>\n",
       "    <tr>\n",
       "      <td>79</td>\n",
       "      <td>Andhra Pradesh</td>\n",
       "      <td>Dowry Dispute</td>\n",
       "      <td>2769</td>\n",
       "    </tr>\n",
       "    <tr>\n",
       "      <td>81</td>\n",
       "      <td>Andhra Pradesh</td>\n",
       "      <td>Failure in Examination</td>\n",
       "      <td>2549</td>\n",
       "    </tr>\n",
       "    <tr>\n",
       "      <td>1862</td>\n",
       "      <td>Tamil Nadu</td>\n",
       "      <td>By Jumping off Moving Vehicles/Trains</td>\n",
       "      <td>789</td>\n",
       "    </tr>\n",
       "    <tr>\n",
       "      <td>1878</td>\n",
       "      <td>Tamil Nadu</td>\n",
       "      <td>Dowry Dispute</td>\n",
       "      <td>1234</td>\n",
       "    </tr>\n",
       "    <tr>\n",
       "      <td>1880</td>\n",
       "      <td>Tamil Nadu</td>\n",
       "      <td>Failure in Examination</td>\n",
       "      <td>3011</td>\n",
       "    </tr>\n",
       "  </tbody>\n",
       "</table>\n",
       "</div>"
      ],
      "text/plain": [
       "               State                                   Type  Total\n",
       "63    Andhra Pradesh  By Jumping off Moving Vehicles/Trains    858\n",
       "79    Andhra Pradesh                          Dowry Dispute   2769\n",
       "81    Andhra Pradesh                 Failure in Examination   2549\n",
       "1862      Tamil Nadu  By Jumping off Moving Vehicles/Trains    789\n",
       "1878      Tamil Nadu                          Dowry Dispute   1234\n",
       "1880      Tamil Nadu                 Failure in Examination   3011"
      ]
     },
     "execution_count": 74,
     "metadata": {},
     "output_type": "execute_result"
    }
   ],
   "source": [
    "df_temp"
   ]
  },
  {
   "cell_type": "code",
   "execution_count": 75,
   "metadata": {
    "Collapsed": "false"
   },
   "outputs": [
    {
     "name": "stderr",
     "output_type": "stream",
     "text": [
      "/usr/local/lib/python3.7/dist-packages/seaborn/axisgrid.py:715: UserWarning: Using the barplot function without specifying `order` is likely to produce an incorrect plot.\n",
      "  warnings.warn(warning)\n"
     ]
    },
    {
     "data": {
      "text/plain": [
       "<seaborn.axisgrid.FacetGrid at 0x7f75a468d410>"
      ]
     },
     "execution_count": 75,
     "metadata": {},
     "output_type": "execute_result"
    },
    {
     "data": {
      "image/png": "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\n",
      "text/plain": [
       "<Figure size 432x216 with 2 Axes>"
      ]
     },
     "metadata": {
      "needs_background": "light"
     },
     "output_type": "display_data"
    }
   ],
   "source": [
    "g = sns.FacetGrid(col = \"State\" , data = df_temp )\n",
    "g.map(sns.lineplot , \"Type\" , \"Total\")\n",
    "g.map(sns.barplot , \"Type\" , \"Total\")\n",
    "g.set_xticklabels(rotation=90)"
   ]
  },
  {
   "cell_type": "code",
   "execution_count": 76,
   "metadata": {
    "Collapsed": "false"
   },
   "outputs": [
    {
     "data": {
      "text/html": [
       "<div>\n",
       "<style scoped>\n",
       "    .dataframe tbody tr th:only-of-type {\n",
       "        vertical-align: middle;\n",
       "    }\n",
       "\n",
       "    .dataframe tbody tr th {\n",
       "        vertical-align: top;\n",
       "    }\n",
       "\n",
       "    .dataframe thead th {\n",
       "        text-align: right;\n",
       "    }\n",
       "</style>\n",
       "<table border=\"1\" class=\"dataframe\">\n",
       "  <thead>\n",
       "    <tr style=\"text-align: right;\">\n",
       "      <th></th>\n",
       "      <th>State</th>\n",
       "      <th>Year</th>\n",
       "      <th>Type_code</th>\n",
       "      <th>Type</th>\n",
       "      <th>Gender</th>\n",
       "      <th>Age_group</th>\n",
       "      <th>Total</th>\n",
       "    </tr>\n",
       "  </thead>\n",
       "  <tbody>\n",
       "    <tr>\n",
       "      <td>13</td>\n",
       "      <td>A &amp; N Islands</td>\n",
       "      <td>2001</td>\n",
       "      <td>Causes</td>\n",
       "      <td>Love Affairs</td>\n",
       "      <td>Female</td>\n",
       "      <td>0-14</td>\n",
       "      <td>1</td>\n",
       "    </tr>\n",
       "    <tr>\n",
       "      <td>20</td>\n",
       "      <td>A &amp; N Islands</td>\n",
       "      <td>2001</td>\n",
       "      <td>Causes</td>\n",
       "      <td>Other Causes (Please Specity)</td>\n",
       "      <td>Female</td>\n",
       "      <td>0-14</td>\n",
       "      <td>1</td>\n",
       "    </tr>\n",
       "    <tr>\n",
       "      <td>32</td>\n",
       "      <td>A &amp; N Islands</td>\n",
       "      <td>2001</td>\n",
       "      <td>Causes</td>\n",
       "      <td>Other Prolonged Illness</td>\n",
       "      <td>Male</td>\n",
       "      <td>0-14</td>\n",
       "      <td>1</td>\n",
       "    </tr>\n",
       "    <tr>\n",
       "      <td>47</td>\n",
       "      <td>A &amp; N Islands</td>\n",
       "      <td>2001</td>\n",
       "      <td>Causes</td>\n",
       "      <td>Failure in Examination</td>\n",
       "      <td>Male</td>\n",
       "      <td>0-14</td>\n",
       "      <td>1</td>\n",
       "    </tr>\n",
       "    <tr>\n",
       "      <td>54</td>\n",
       "      <td>A &amp; N Islands</td>\n",
       "      <td>2001</td>\n",
       "      <td>Causes</td>\n",
       "      <td>Other Prolonged Illness</td>\n",
       "      <td>Female</td>\n",
       "      <td>15-29</td>\n",
       "      <td>8</td>\n",
       "    </tr>\n",
       "  </tbody>\n",
       "</table>\n",
       "</div>"
      ],
      "text/plain": [
       "            State  Year Type_code                           Type  Gender  \\\n",
       "13  A & N Islands  2001    Causes                   Love Affairs  Female   \n",
       "20  A & N Islands  2001    Causes  Other Causes (Please Specity)  Female   \n",
       "32  A & N Islands  2001    Causes        Other Prolonged Illness    Male   \n",
       "47  A & N Islands  2001    Causes         Failure in Examination    Male   \n",
       "54  A & N Islands  2001    Causes        Other Prolonged Illness  Female   \n",
       "\n",
       "   Age_group  Total  \n",
       "13      0-14      1  \n",
       "20      0-14      1  \n",
       "32      0-14      1  \n",
       "47      0-14      1  \n",
       "54     15-29      8  "
      ]
     },
     "execution_count": 76,
     "metadata": {},
     "output_type": "execute_result"
    }
   ],
   "source": [
    "df.head()"
   ]
  },
  {
   "cell_type": "markdown",
   "metadata": {
    "Collapsed": "false"
   },
   "source": [
    "# Year ,  State , Type_code  , Total"
   ]
  },
  {
   "cell_type": "code",
   "execution_count": 77,
   "metadata": {
    "Collapsed": "false"
   },
   "outputs": [],
   "source": [
    "df_temp = df.groupby([\"Year\" , \"Type_code\" , \"State\"]).agg({\"Total\":\"sum\" ,} , [\"State\"]).reset_index()"
   ]
  },
  {
   "cell_type": "code",
   "execution_count": 81,
   "metadata": {
    "Collapsed": "false"
   },
   "outputs": [],
   "source": [
    "df_temp = df_temp.query(\"State == 'Andhra Pradesh' or State == 'Tamil Nadu'\")"
   ]
  },
  {
   "cell_type": "code",
   "execution_count": 79,
   "metadata": {
    "Collapsed": "false"
   },
   "outputs": [
    {
     "data": {
      "text/html": [
       "<div>\n",
       "<style scoped>\n",
       "    .dataframe tbody tr th:only-of-type {\n",
       "        vertical-align: middle;\n",
       "    }\n",
       "\n",
       "    .dataframe tbody tr th {\n",
       "        vertical-align: top;\n",
       "    }\n",
       "\n",
       "    .dataframe thead th {\n",
       "        text-align: right;\n",
       "    }\n",
       "</style>\n",
       "<table border=\"1\" class=\"dataframe\">\n",
       "  <thead>\n",
       "    <tr style=\"text-align: right;\">\n",
       "      <th></th>\n",
       "      <th>Year</th>\n",
       "      <th>Type_code</th>\n",
       "      <th>State</th>\n",
       "      <th>Total</th>\n",
       "    </tr>\n",
       "  </thead>\n",
       "  <tbody>\n",
       "    <tr>\n",
       "      <td>0</td>\n",
       "      <td>2001</td>\n",
       "      <td>Causes</td>\n",
       "      <td>A &amp; N Islands</td>\n",
       "      <td>129</td>\n",
       "    </tr>\n",
       "    <tr>\n",
       "      <td>1</td>\n",
       "      <td>2001</td>\n",
       "      <td>Causes</td>\n",
       "      <td>Andhra Pradesh</td>\n",
       "      <td>10522</td>\n",
       "    </tr>\n",
       "    <tr>\n",
       "      <td>2</td>\n",
       "      <td>2001</td>\n",
       "      <td>Causes</td>\n",
       "      <td>Arunachal Pradesh</td>\n",
       "      <td>111</td>\n",
       "    </tr>\n",
       "    <tr>\n",
       "      <td>3</td>\n",
       "      <td>2001</td>\n",
       "      <td>Causes</td>\n",
       "      <td>Assam</td>\n",
       "      <td>2647</td>\n",
       "    </tr>\n",
       "    <tr>\n",
       "      <td>4</td>\n",
       "      <td>2001</td>\n",
       "      <td>Causes</td>\n",
       "      <td>Bihar</td>\n",
       "      <td>603</td>\n",
       "    </tr>\n",
       "    <tr>\n",
       "      <td>...</td>\n",
       "      <td>...</td>\n",
       "      <td>...</td>\n",
       "      <td>...</td>\n",
       "      <td>...</td>\n",
       "    </tr>\n",
       "    <tr>\n",
       "      <td>2135</td>\n",
       "      <td>2012</td>\n",
       "      <td>Social_Status</td>\n",
       "      <td>Total (Uts)</td>\n",
       "      <td>2778</td>\n",
       "    </tr>\n",
       "    <tr>\n",
       "      <td>2136</td>\n",
       "      <td>2012</td>\n",
       "      <td>Social_Status</td>\n",
       "      <td>Tripura</td>\n",
       "      <td>844</td>\n",
       "    </tr>\n",
       "    <tr>\n",
       "      <td>2137</td>\n",
       "      <td>2012</td>\n",
       "      <td>Social_Status</td>\n",
       "      <td>Uttar Pradesh</td>\n",
       "      <td>4422</td>\n",
       "    </tr>\n",
       "    <tr>\n",
       "      <td>2138</td>\n",
       "      <td>2012</td>\n",
       "      <td>Social_Status</td>\n",
       "      <td>Uttarakhand</td>\n",
       "      <td>424</td>\n",
       "    </tr>\n",
       "    <tr>\n",
       "      <td>2139</td>\n",
       "      <td>2012</td>\n",
       "      <td>Social_Status</td>\n",
       "      <td>West Bengal</td>\n",
       "      <td>14957</td>\n",
       "    </tr>\n",
       "  </tbody>\n",
       "</table>\n",
       "<p>2140 rows × 4 columns</p>\n",
       "</div>"
      ],
      "text/plain": [
       "      Year      Type_code              State  Total\n",
       "0     2001         Causes      A & N Islands    129\n",
       "1     2001         Causes     Andhra Pradesh  10522\n",
       "2     2001         Causes  Arunachal Pradesh    111\n",
       "3     2001         Causes              Assam   2647\n",
       "4     2001         Causes              Bihar    603\n",
       "...    ...            ...                ...    ...\n",
       "2135  2012  Social_Status        Total (Uts)   2778\n",
       "2136  2012  Social_Status            Tripura    844\n",
       "2137  2012  Social_Status      Uttar Pradesh   4422\n",
       "2138  2012  Social_Status        Uttarakhand    424\n",
       "2139  2012  Social_Status        West Bengal  14957\n",
       "\n",
       "[2140 rows x 4 columns]"
      ]
     },
     "execution_count": 79,
     "metadata": {},
     "output_type": "execute_result"
    }
   ],
   "source": [
    "df_temp"
   ]
  },
  {
   "cell_type": "code",
   "execution_count": 81,
   "metadata": {
    "Collapsed": "false"
   },
   "outputs": [
    {
     "data": {
      "image/png": "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\n",
      "text/plain": [
       "<Figure size 562.25x648 with 5 Axes>"
      ]
     },
     "metadata": {
      "needs_background": "light"
     },
     "output_type": "display_data"
    }
   ],
   "source": [
    "g = sns.FacetGrid(data=df_temp , col=\"Type_code\" , col_wrap=2 , hue=\"State\" , palette=\"summer\"  ,)\n",
    "g.map(sns.lineplot , \"Year\" , \"Total\" , alpha=0.9).add_legend()\n",
    "[plt.setp(ax.get_xticklabels(), rotation=70) for ax in g.axes.flat]\n",
    "plt.show()"
   ]
  },
  {
   "cell_type": "code",
   "execution_count": 84,
   "metadata": {
    "Collapsed": "false"
   },
   "outputs": [
    {
     "data": {
      "image/png": "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\n",
      "text/plain": [
       "<Figure size 547.75x648 with 5 Axes>"
      ]
     },
     "metadata": {
      "needs_background": "light"
     },
     "output_type": "display_data"
    }
   ],
   "source": [
    "g = sns.FacetGrid(data=df_temp , col=\"Type_code\" , col_wrap=2 , hue=\"State\" , palette=\"twilight_shifted_r\"  ,)\n",
    "g.map(sns.lineplot , \"Year\" , \"Total\" ).add_legend()\n",
    "g.set_ylabels(\"Total Sucides\")\n",
    "[plt.setp(ax.get_xticklabels(), rotation=70) for ax in g.axes.flat]\n",
    "\n",
    "plt.show()"
   ]
  },
  {
   "cell_type": "code",
   "execution_count": 82,
   "metadata": {
    "Collapsed": "false"
   },
   "outputs": [
    {
     "data": {
      "text/html": [
       "<div>\n",
       "<style scoped>\n",
       "    .dataframe tbody tr th:only-of-type {\n",
       "        vertical-align: middle;\n",
       "    }\n",
       "\n",
       "    .dataframe tbody tr th {\n",
       "        vertical-align: top;\n",
       "    }\n",
       "\n",
       "    .dataframe thead th {\n",
       "        text-align: right;\n",
       "    }\n",
       "</style>\n",
       "<table border=\"1\" class=\"dataframe\">\n",
       "  <thead>\n",
       "    <tr style=\"text-align: right;\">\n",
       "      <th></th>\n",
       "      <th>State</th>\n",
       "      <th>Year</th>\n",
       "      <th>Type_code</th>\n",
       "      <th>Type</th>\n",
       "      <th>Gender</th>\n",
       "      <th>Age_group</th>\n",
       "      <th>Total</th>\n",
       "    </tr>\n",
       "  </thead>\n",
       "  <tbody>\n",
       "    <tr>\n",
       "      <td>13</td>\n",
       "      <td>A &amp; N Islands</td>\n",
       "      <td>2001</td>\n",
       "      <td>Causes</td>\n",
       "      <td>Love Affairs</td>\n",
       "      <td>Female</td>\n",
       "      <td>0-14</td>\n",
       "      <td>1</td>\n",
       "    </tr>\n",
       "    <tr>\n",
       "      <td>20</td>\n",
       "      <td>A &amp; N Islands</td>\n",
       "      <td>2001</td>\n",
       "      <td>Causes</td>\n",
       "      <td>Other Causes (Please Specity)</td>\n",
       "      <td>Female</td>\n",
       "      <td>0-14</td>\n",
       "      <td>1</td>\n",
       "    </tr>\n",
       "    <tr>\n",
       "      <td>32</td>\n",
       "      <td>A &amp; N Islands</td>\n",
       "      <td>2001</td>\n",
       "      <td>Causes</td>\n",
       "      <td>Other Prolonged Illness</td>\n",
       "      <td>Male</td>\n",
       "      <td>0-14</td>\n",
       "      <td>1</td>\n",
       "    </tr>\n",
       "    <tr>\n",
       "      <td>47</td>\n",
       "      <td>A &amp; N Islands</td>\n",
       "      <td>2001</td>\n",
       "      <td>Causes</td>\n",
       "      <td>Failure in Examination</td>\n",
       "      <td>Male</td>\n",
       "      <td>0-14</td>\n",
       "      <td>1</td>\n",
       "    </tr>\n",
       "    <tr>\n",
       "      <td>54</td>\n",
       "      <td>A &amp; N Islands</td>\n",
       "      <td>2001</td>\n",
       "      <td>Causes</td>\n",
       "      <td>Other Prolonged Illness</td>\n",
       "      <td>Female</td>\n",
       "      <td>15-29</td>\n",
       "      <td>8</td>\n",
       "    </tr>\n",
       "  </tbody>\n",
       "</table>\n",
       "</div>"
      ],
      "text/plain": [
       "            State  Year Type_code                           Type  Gender  \\\n",
       "13  A & N Islands  2001    Causes                   Love Affairs  Female   \n",
       "20  A & N Islands  2001    Causes  Other Causes (Please Specity)  Female   \n",
       "32  A & N Islands  2001    Causes        Other Prolonged Illness    Male   \n",
       "47  A & N Islands  2001    Causes         Failure in Examination    Male   \n",
       "54  A & N Islands  2001    Causes        Other Prolonged Illness  Female   \n",
       "\n",
       "   Age_group  Total  \n",
       "13      0-14      1  \n",
       "20      0-14      1  \n",
       "32      0-14      1  \n",
       "47      0-14      1  \n",
       "54     15-29      8  "
      ]
     },
     "execution_count": 82,
     "metadata": {},
     "output_type": "execute_result"
    }
   ],
   "source": [
    "df.head()"
   ]
  },
  {
   "cell_type": "code",
   "execution_count": 83,
   "metadata": {
    "Collapsed": "false"
   },
   "outputs": [
    {
     "data": {
      "text/html": [
       "<div>\n",
       "<style scoped>\n",
       "    .dataframe tbody tr th:only-of-type {\n",
       "        vertical-align: middle;\n",
       "    }\n",
       "\n",
       "    .dataframe tbody tr th {\n",
       "        vertical-align: top;\n",
       "    }\n",
       "\n",
       "    .dataframe thead th {\n",
       "        text-align: right;\n",
       "    }\n",
       "</style>\n",
       "<table border=\"1\" class=\"dataframe\">\n",
       "  <thead>\n",
       "    <tr style=\"text-align: right;\">\n",
       "      <th></th>\n",
       "      <th>Type</th>\n",
       "      <th>Total</th>\n",
       "    </tr>\n",
       "  </thead>\n",
       "  <tbody>\n",
       "    <tr>\n",
       "      <td>28</td>\n",
       "      <td>Failure in Examination</td>\n",
       "      <td>27005</td>\n",
       "    </tr>\n",
       "    <tr>\n",
       "      <td>39</td>\n",
       "      <td>Love Affairs</td>\n",
       "      <td>45039</td>\n",
       "    </tr>\n",
       "  </tbody>\n",
       "</table>\n",
       "</div>"
      ],
      "text/plain": [
       "                      Type  Total\n",
       "28  Failure in Examination  27005\n",
       "39            Love Affairs  45039"
      ]
     },
     "execution_count": 83,
     "metadata": {},
     "output_type": "execute_result"
    }
   ],
   "source": [
    "df.groupby(\"Type\").agg({\"Total\":\"sum\"}).reset_index().query(\"Type == 'Love Affairs' or Type == 'Failure in Examination'\")"
   ]
  },
  {
   "cell_type": "markdown",
   "metadata": {
    "Collapsed": "false"
   },
   "source": [
    "# Year , State , Gender  , total"
   ]
  },
  {
   "cell_type": "code",
   "execution_count": 84,
   "metadata": {
    "Collapsed": "false"
   },
   "outputs": [],
   "source": [
    "df_temp = df.groupby([\"Year\" , \"State\" , \"Gender\"]).agg({\"Total\":\"sum\"})"
   ]
  },
  {
   "cell_type": "code",
   "execution_count": 85,
   "metadata": {
    "Collapsed": "false"
   },
   "outputs": [],
   "source": [
    "df_temp.reset_index(inplace=True)"
   ]
  },
  {
   "cell_type": "code",
   "execution_count": 86,
   "metadata": {
    "Collapsed": "false"
   },
   "outputs": [],
   "source": [
    "df_temp = df_temp.query(\"State == 'Andhra Pradesh' or State == 'Tamil Nadu'\")"
   ]
  },
  {
   "cell_type": "code",
   "execution_count": 87,
   "metadata": {
    "Collapsed": "false"
   },
   "outputs": [
    {
     "data": {
      "text/html": [
       "<div>\n",
       "<style scoped>\n",
       "    .dataframe tbody tr th:only-of-type {\n",
       "        vertical-align: middle;\n",
       "    }\n",
       "\n",
       "    .dataframe tbody tr th {\n",
       "        vertical-align: top;\n",
       "    }\n",
       "\n",
       "    .dataframe thead th {\n",
       "        text-align: right;\n",
       "    }\n",
       "</style>\n",
       "<table border=\"1\" class=\"dataframe\">\n",
       "  <thead>\n",
       "    <tr style=\"text-align: right;\">\n",
       "      <th></th>\n",
       "      <th>Year</th>\n",
       "      <th>State</th>\n",
       "      <th>Gender</th>\n",
       "      <th>Total</th>\n",
       "    </tr>\n",
       "  </thead>\n",
       "  <tbody>\n",
       "    <tr>\n",
       "      <td>2</td>\n",
       "      <td>2001</td>\n",
       "      <td>Andhra Pradesh</td>\n",
       "      <td>Female</td>\n",
       "      <td>20715</td>\n",
       "    </tr>\n",
       "    <tr>\n",
       "      <td>3</td>\n",
       "      <td>2001</td>\n",
       "      <td>Andhra Pradesh</td>\n",
       "      <td>Male</td>\n",
       "      <td>31895</td>\n",
       "    </tr>\n",
       "    <tr>\n",
       "      <td>58</td>\n",
       "      <td>2001</td>\n",
       "      <td>Tamil Nadu</td>\n",
       "      <td>Female</td>\n",
       "      <td>20810</td>\n",
       "    </tr>\n",
       "    <tr>\n",
       "      <td>59</td>\n",
       "      <td>2001</td>\n",
       "      <td>Tamil Nadu</td>\n",
       "      <td>Male</td>\n",
       "      <td>35640</td>\n",
       "    </tr>\n",
       "    <tr>\n",
       "      <td>76</td>\n",
       "      <td>2002</td>\n",
       "      <td>Andhra Pradesh</td>\n",
       "      <td>Female</td>\n",
       "      <td>20610</td>\n",
       "    </tr>\n",
       "  </tbody>\n",
       "</table>\n",
       "</div>"
      ],
      "text/plain": [
       "    Year           State  Gender  Total\n",
       "2   2001  Andhra Pradesh  Female  20715\n",
       "3   2001  Andhra Pradesh    Male  31895\n",
       "58  2001      Tamil Nadu  Female  20810\n",
       "59  2001      Tamil Nadu    Male  35640\n",
       "76  2002  Andhra Pradesh  Female  20610"
      ]
     },
     "execution_count": 87,
     "metadata": {},
     "output_type": "execute_result"
    }
   ],
   "source": [
    "df_temp.head()"
   ]
  },
  {
   "cell_type": "code",
   "execution_count": 88,
   "metadata": {
    "Collapsed": "false"
   },
   "outputs": [
    {
     "data": {
      "text/plain": [
       "<seaborn.axisgrid.FacetGrid at 0x7f75a2da4990>"
      ]
     },
     "execution_count": 88,
     "metadata": {},
     "output_type": "execute_result"
    },
    {
     "data": {
      "image/png": "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\n",
      "text/plain": [
       "<Figure size 547.75x216 with 2 Axes>"
      ]
     },
     "metadata": {
      "needs_background": "light"
     },
     "output_type": "display_data"
    }
   ],
   "source": [
    "g = sns.FacetGrid(data = df_temp , col=\"Gender\" , hue = \"State\" )\n",
    "g.map(sns.lineplot , \"Year\" , \"Total\").add_legend()"
   ]
  },
  {
   "cell_type": "code",
   "execution_count": null,
   "metadata": {
    "Collapsed": "false"
   },
   "outputs": [],
   "source": []
  }
 ],

"cells": [
  {
   "cell_type": "markdown",
   "metadata": {
    "Collapsed": "false"
   },
   "source": [
    "
    We can see that top 3 States with most no of suicides are Maharashtra, West Bengal and Tamil Nadu.
   And the most no of suicides occured in the year's 2010, 2011, 2012.
   Overall, Men were the most who committed suicide than Women.
   Social and Education status are the top most reason for committing suicide.
    # Still more to do 
 "
   ]
  },

 "metadata": {
  "kernelspec": {
   "display_name": "Python 3",
   "language": "python",
   "name": "python3"
  },
  "language_info": {
   "codemirror_mode": {
    "name": "ipython",
    "version": 3
   },
   "file_extension": ".py",
   "mimetype": "text/x-python",
   "name": "python",
   "nbconvert_exporter": "python",
   "pygments_lexer": "ipython3",
   "version": "3.7.4"
  }
 },
 "nbformat": 4,
 "nbformat_minor": 4
}
