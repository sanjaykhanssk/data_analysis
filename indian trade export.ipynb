{
 "cells": [
  {
   "cell_type": "code",
   "execution_count": 1,
   "metadata": {
    "collapsed": true,
    "jupyter": {
     "outputs_hidden": true
    }
   },
   "outputs": [
    {
     "name": "stderr",
     "output_type": "stream",
     "text": [
      "/root/anaconda3/lib/python3.7/importlib/_bootstrap.py:219: RuntimeWarning: numpy.ufunc size changed, may indicate binary incompatibility. Expected 192 from C header, got 216 from PyObject\n",
      "  return f(*args, **kwds)\n",
      "/root/anaconda3/lib/python3.7/importlib/_bootstrap.py:219: RuntimeWarning: numpy.ufunc size changed, may indicate binary incompatibility. Expected 192 from C header, got 216 from PyObject\n",
      "  return f(*args, **kwds)\n",
      "/root/anaconda3/lib/python3.7/importlib/_bootstrap.py:219: RuntimeWarning: numpy.ufunc size changed, may indicate binary incompatibility. Expected 192 from C header, got 216 from PyObject\n",
      "  return f(*args, **kwds)\n",
      "/root/anaconda3/lib/python3.7/importlib/_bootstrap.py:219: RuntimeWarning: numpy.ufunc size changed, may indicate binary incompatibility. Expected 192 from C header, got 216 from PyObject\n",
      "  return f(*args, **kwds)\n"
     ]
    }
   ],
   "source": [
    "import pandas as pd\n",
    "import matplotlib.pyplot as plt\n",
    "import numpy as np \n",
    "import seaborn as sns"
   ]
  },
  {
   "cell_type": "code",
   "execution_count": 2,
   "metadata": {},
   "outputs": [],
   "source": [
    "df = pd.read_csv(\"india_trade/2018-2010_export.csv\")"
   ]
  },
  {
   "cell_type": "code",
   "execution_count": 3,
   "metadata": {},
   "outputs": [
    {
     "data": {
      "text/html": [
       "<div>\n",
       "<style scoped>\n",
       "    .dataframe tbody tr th:only-of-type {\n",
       "        vertical-align: middle;\n",
       "    }\n",
       "\n",
       "    .dataframe tbody tr th {\n",
       "        vertical-align: top;\n",
       "    }\n",
       "\n",
       "    .dataframe thead th {\n",
       "        text-align: right;\n",
       "    }\n",
       "</style>\n",
       "<table border=\"1\" class=\"dataframe\">\n",
       "  <thead>\n",
       "    <tr style=\"text-align: right;\">\n",
       "      <th></th>\n",
       "      <th>HSCode</th>\n",
       "      <th>Commodity</th>\n",
       "      <th>value</th>\n",
       "      <th>country</th>\n",
       "      <th>year</th>\n",
       "    </tr>\n",
       "  </thead>\n",
       "  <tbody>\n",
       "    <tr>\n",
       "      <th>0</th>\n",
       "      <td>2</td>\n",
       "      <td>MEAT AND EDIBLE MEAT OFFAL.</td>\n",
       "      <td>0.18</td>\n",
       "      <td>AFGHANISTAN TIS</td>\n",
       "      <td>2018</td>\n",
       "    </tr>\n",
       "    <tr>\n",
       "      <th>1</th>\n",
       "      <td>3</td>\n",
       "      <td>FISH AND CRUSTACEANS, MOLLUSCS AND OTHER AQUAT...</td>\n",
       "      <td>0.00</td>\n",
       "      <td>AFGHANISTAN TIS</td>\n",
       "      <td>2018</td>\n",
       "    </tr>\n",
       "    <tr>\n",
       "      <th>2</th>\n",
       "      <td>4</td>\n",
       "      <td>DAIRY PRODUCE; BIRDS' EGGS; NATURAL HONEY; EDI...</td>\n",
       "      <td>12.48</td>\n",
       "      <td>AFGHANISTAN TIS</td>\n",
       "      <td>2018</td>\n",
       "    </tr>\n",
       "    <tr>\n",
       "      <th>3</th>\n",
       "      <td>6</td>\n",
       "      <td>LIVE TREES AND OTHER PLANTS; BULBS; ROOTS AND ...</td>\n",
       "      <td>0.00</td>\n",
       "      <td>AFGHANISTAN TIS</td>\n",
       "      <td>2018</td>\n",
       "    </tr>\n",
       "    <tr>\n",
       "      <th>4</th>\n",
       "      <td>7</td>\n",
       "      <td>EDIBLE VEGETABLES AND CERTAIN ROOTS AND TUBERS.</td>\n",
       "      <td>1.89</td>\n",
       "      <td>AFGHANISTAN TIS</td>\n",
       "      <td>2018</td>\n",
       "    </tr>\n",
       "  </tbody>\n",
       "</table>\n",
       "</div>"
      ],
      "text/plain": [
       "   HSCode                                          Commodity  value  \\\n",
       "0       2                        MEAT AND EDIBLE MEAT OFFAL.   0.18   \n",
       "1       3  FISH AND CRUSTACEANS, MOLLUSCS AND OTHER AQUAT...   0.00   \n",
       "2       4  DAIRY PRODUCE; BIRDS' EGGS; NATURAL HONEY; EDI...  12.48   \n",
       "3       6  LIVE TREES AND OTHER PLANTS; BULBS; ROOTS AND ...   0.00   \n",
       "4       7    EDIBLE VEGETABLES AND CERTAIN ROOTS AND TUBERS.   1.89   \n",
       "\n",
       "           country  year  \n",
       "0  AFGHANISTAN TIS  2018  \n",
       "1  AFGHANISTAN TIS  2018  \n",
       "2  AFGHANISTAN TIS  2018  \n",
       "3  AFGHANISTAN TIS  2018  \n",
       "4  AFGHANISTAN TIS  2018  "
      ]
     },
     "execution_count": 3,
     "metadata": {},
     "output_type": "execute_result"
    }
   ],
   "source": [
    "df.head()"
   ]
  },
  {
   "cell_type": "code",
   "execution_count": 4,
   "metadata": {},
   "outputs": [
    {
     "data": {
      "text/plain": [
       "HSCode           0\n",
       "Commodity        0\n",
       "value        14038\n",
       "country          0\n",
       "year             0\n",
       "dtype: int64"
      ]
     },
     "execution_count": 4,
     "metadata": {},
     "output_type": "execute_result"
    }
   ],
   "source": [
    "df.isna().sum()"
   ]
  },
  {
   "cell_type": "code",
   "execution_count": 5,
   "metadata": {},
   "outputs": [],
   "source": [
    "df.dropna(inplace=True)"
   ]
  },
  {
   "cell_type": "code",
   "execution_count": 6,
   "metadata": {},
   "outputs": [
    {
     "data": {
      "text/plain": [
       "<matplotlib.axes._subplots.AxesSubplot at 0x7f74afb24da0>"
      ]
     },
     "execution_count": 6,
     "metadata": {},
     "output_type": "execute_result"
    },
    {
     "data": {
      "image/png": "[encoded data removed]",
      "text/plain": [
       "<Figure size 432x288 with 2 Axes>"
      ]
     },
     "metadata": {
      "needs_background": "light"
     },
     "output_type": "display_data"
    }
   ],
   "source": [
    "sns.heatmap(df.isna())"
   ]
  },
  {
   "cell_type": "code",
   "execution_count": 10,
   "metadata": {},
   "outputs": [
    {
     "data": {
      "text/html": [
       "<div>\n",
       "<style scoped>\n",
       "    .dataframe tbody tr th:only-of-type {\n",
       "        vertical-align: middle;\n",
       "    }\n",
       "\n",
       "    .dataframe tbody tr th {\n",
       "        vertical-align: top;\n",
       "    }\n",
       "\n",
       "    .dataframe thead th {\n",
       "        text-align: right;\n",
       "    }\n",
       "</style>\n",
       "<table border=\"1\" class=\"dataframe\">\n",
       "  <thead>\n",
       "    <tr style=\"text-align: right;\">\n",
       "      <th></th>\n",
       "      <th>HSCode</th>\n",
       "      <th>value</th>\n",
       "      <th>year</th>\n",
       "    </tr>\n",
       "  </thead>\n",
       "  <tbody>\n",
       "    <tr>\n",
       "      <th>count</th>\n",
       "      <td>122985.000000</td>\n",
       "      <td>122985.000000</td>\n",
       "      <td>122985.000000</td>\n",
       "    </tr>\n",
       "    <tr>\n",
       "      <th>mean</th>\n",
       "      <td>51.288669</td>\n",
       "      <td>21.567829</td>\n",
       "      <td>2014.065366</td>\n",
       "    </tr>\n",
       "    <tr>\n",
       "      <th>std</th>\n",
       "      <td>27.814548</td>\n",
       "      <td>229.701279</td>\n",
       "      <td>2.581142</td>\n",
       "    </tr>\n",
       "    <tr>\n",
       "      <th>min</th>\n",
       "      <td>1.000000</td>\n",
       "      <td>0.000000</td>\n",
       "      <td>2010.000000</td>\n",
       "    </tr>\n",
       "    <tr>\n",
       "      <th>25%</th>\n",
       "      <td>28.000000</td>\n",
       "      <td>0.030000</td>\n",
       "      <td>2012.000000</td>\n",
       "    </tr>\n",
       "    <tr>\n",
       "      <th>50%</th>\n",
       "      <td>52.000000</td>\n",
       "      <td>0.360000</td>\n",
       "      <td>2014.000000</td>\n",
       "    </tr>\n",
       "    <tr>\n",
       "      <th>75%</th>\n",
       "      <td>74.000000</td>\n",
       "      <td>3.770000</td>\n",
       "      <td>2016.000000</td>\n",
       "    </tr>\n",
       "    <tr>\n",
       "      <th>max</th>\n",
       "      <td>99.000000</td>\n",
       "      <td>19805.170000</td>\n",
       "      <td>2018.000000</td>\n",
       "    </tr>\n",
       "  </tbody>\n",
       "</table>\n",
       "</div>"
      ],
      "text/plain": [
       "              HSCode          value           year\n",
       "count  122985.000000  122985.000000  122985.000000\n",
       "mean       51.288669      21.567829    2014.065366\n",
       "std        27.814548     229.701279       2.581142\n",
       "min         1.000000       0.000000    2010.000000\n",
       "25%        28.000000       0.030000    2012.000000\n",
       "50%        52.000000       0.360000    2014.000000\n",
       "75%        74.000000       3.770000    2016.000000\n",
       "max        99.000000   19805.170000    2018.000000"
      ]
     },
     "execution_count": 10,
     "metadata": {},
     "output_type": "execute_result"
    }
   ],
   "source": [
    "df.describe()"
   ]
  },
  {
   "cell_type": "code",
   "execution_count": 15,
   "metadata": {},
   "outputs": [
    {
     "name": "stdout",
     "output_type": "stream",
     "text": [
      "<class 'pandas.core.frame.DataFrame'>\n",
      "Int64Index: 122985 entries, 0 to 137022\n",
      "Data columns (total 5 columns):\n",
      "HSCode       122985 non-null int64\n",
      "Commodity    122985 non-null object\n",
      "value        122985 non-null float64\n",
      "country      122985 non-null object\n",
      "year         122985 non-null int64\n",
      "dtypes: float64(1), int64(2), object(2)\n",
      "memory usage: 5.6+ MB\n"
     ]
    }
   ],
   "source": [
    "df.info()"
   ]
  },
  {
   "cell_type": "code",
   "execution_count": 17,
   "metadata": {},
   "outputs": [
    {
     "data": {
      "text/plain": [
       "HSCode          98\n",
       "Commodity       98\n",
       "value        10687\n",
       "country        248\n",
       "year             9\n",
       "dtype: int64"
      ]
     },
     "execution_count": 17,
     "metadata": {},
     "output_type": "execute_result"
    }
   ],
   "source": [
    "df.nunique()"
   ]
  },
  {
   "cell_type": "markdown",
   "metadata": {},
   "source": [
    "# Year wise Analysis"
   ]
  },
  {
   "cell_type": "code",
   "execution_count": 21,
   "metadata": {},
   "outputs": [],
   "source": [
    "df_year = df.groupby(\"year\").agg({\"value\":\"sum\"})"
   ]
  },
  {
   "cell_type": "code",
   "execution_count": 22,
   "metadata": {},
   "outputs": [],
   "source": [
    "df_year[\"Growth Range\"] = df_year.pct_change()"
   ]
  },
  {
   "cell_type": "code",
   "execution_count": 24,
   "metadata": {},
   "outputs": [],
   "source": [
    "df_year.reset_index(inplace=True)"
   ]
  },
  {
   "cell_type": "code",
   "execution_count": 25,
   "metadata": {},
   "outputs": [
    {
     "data": {
      "text/html": [
       "<div>\n",
       "<style scoped>\n",
       "    .dataframe tbody tr th:only-of-type {\n",
       "        vertical-align: middle;\n",
       "    }\n",
       "\n",
       "    .dataframe tbody tr th {\n",
       "        vertical-align: top;\n",
       "    }\n",
       "\n",
       "    .dataframe thead th {\n",
       "        text-align: right;\n",
       "    }\n",
       "</style>\n",
       "<table border=\"1\" class=\"dataframe\">\n",
       "  <thead>\n",
       "    <tr style=\"text-align: right;\">\n",
       "      <th></th>\n",
       "      <th>year</th>\n",
       "      <th>value</th>\n",
       "      <th>Growth Range</th>\n",
       "    </tr>\n",
       "  </thead>\n",
       "  <tbody>\n",
       "    <tr>\n",
       "      <th>0</th>\n",
       "      <td>2010</td>\n",
       "      <td>249801.18</td>\n",
       "      <td>NaN</td>\n",
       "    </tr>\n",
       "    <tr>\n",
       "      <th>1</th>\n",
       "      <td>2011</td>\n",
       "      <td>305948.28</td>\n",
       "      <td>0.224767</td>\n",
       "    </tr>\n",
       "    <tr>\n",
       "      <th>2</th>\n",
       "      <td>2012</td>\n",
       "      <td>300384.32</td>\n",
       "      <td>-0.018186</td>\n",
       "    </tr>\n",
       "    <tr>\n",
       "      <th>3</th>\n",
       "      <td>2013</td>\n",
       "      <td>314388.61</td>\n",
       "      <td>0.046621</td>\n",
       "    </tr>\n",
       "    <tr>\n",
       "      <th>4</th>\n",
       "      <td>2014</td>\n",
       "      <td>310321.02</td>\n",
       "      <td>-0.012938</td>\n",
       "    </tr>\n",
       "    <tr>\n",
       "      <th>5</th>\n",
       "      <td>2015</td>\n",
       "      <td>262274.30</td>\n",
       "      <td>-0.154829</td>\n",
       "    </tr>\n",
       "    <tr>\n",
       "      <th>6</th>\n",
       "      <td>2016</td>\n",
       "      <td>275835.27</td>\n",
       "      <td>0.051705</td>\n",
       "    </tr>\n",
       "    <tr>\n",
       "      <th>7</th>\n",
       "      <td>2017</td>\n",
       "      <td>303507.85</td>\n",
       "      <td>0.100323</td>\n",
       "    </tr>\n",
       "    <tr>\n",
       "      <th>8</th>\n",
       "      <td>2018</td>\n",
       "      <td>330058.64</td>\n",
       "      <td>0.087480</td>\n",
       "    </tr>\n",
       "  </tbody>\n",
       "</table>\n",
       "</div>"
      ],
      "text/plain": [
       "   year      value  Growth Range\n",
       "0  2010  249801.18           NaN\n",
       "1  2011  305948.28      0.224767\n",
       "2  2012  300384.32     -0.018186\n",
       "3  2013  314388.61      0.046621\n",
       "4  2014  310321.02     -0.012938\n",
       "5  2015  262274.30     -0.154829\n",
       "6  2016  275835.27      0.051705\n",
       "7  2017  303507.85      0.100323\n",
       "8  2018  330058.64      0.087480"
      ]
     },
     "execution_count": 25,
     "metadata": {},
     "output_type": "execute_result"
    }
   ],
   "source": [
    "df_year"
   ]
  },
  {
   "cell_type": "code",
   "execution_count": 31,
   "metadata": {},
   "outputs": [
    {
     "data": {
      "image/png": "[encoded data removed]",
      "text/plain": [
       "<Figure size 432x288 with 1 Axes>"
      ]
     },
     "metadata": {
      "needs_background": "light"
     },
     "output_type": "display_data"
    }
   ],
   "source": [
    "plt.figure()\n",
    "sns.barplot(x=\"year\" , y=\"Growth Range\" , data=df_year , palette=\"summer\")\n",
    "plt.show()"
   ]
  },
  {
   "cell_type": "code",
   "execution_count": 36,
   "metadata": {},
   "outputs": [
    {
     "data": {
      "text/plain": [
       "<matplotlib.axes._subplots.AxesSubplot at 0x7f74790322b0>"
      ]
     },
     "execution_count": 36,
     "metadata": {},
     "output_type": "execute_result"
    },
    {
     "data": {
      "image/png": "[encoded data removed]",
      "text/plain": [
       "<Figure size 432x288 with 1 Axes>"
      ]
     },
     "metadata": {
      "needs_background": "light"
     },
     "output_type": "display_data"
    }
   ],
   "source": [
    "plt.title(\"Trade of India Export By Annual/\")\n",
    "sns.barplot(x=\"year\" , y=\"value\" , data=df_year , palette=\"summer\")"
   ]
  },
  {
   "cell_type": "code",
   "execution_count": 32,
   "metadata": {},
   "outputs": [
    {
     "data": {
      "text/html": [
       "<div>\n",
       "<style scoped>\n",
       "    .dataframe tbody tr th:only-of-type {\n",
       "        vertical-align: middle;\n",
       "    }\n",
       "\n",
       "    .dataframe tbody tr th {\n",
       "        vertical-align: top;\n",
       "    }\n",
       "\n",
       "    .dataframe thead th {\n",
       "        text-align: right;\n",
       "    }\n",
       "</style>\n",
       "<table border=\"1\" class=\"dataframe\">\n",
       "  <thead>\n",
       "    <tr style=\"text-align: right;\">\n",
       "      <th></th>\n",
       "      <th>year</th>\n",
       "      <th>value</th>\n",
       "      <th>Growth Range</th>\n",
       "    </tr>\n",
       "  </thead>\n",
       "  <tbody>\n",
       "    <tr>\n",
       "      <th>count</th>\n",
       "      <td>9.000000</td>\n",
       "      <td>9.000000</td>\n",
       "      <td>8.000000</td>\n",
       "    </tr>\n",
       "    <tr>\n",
       "      <th>mean</th>\n",
       "      <td>2014.000000</td>\n",
       "      <td>294724.385556</td>\n",
       "      <td>0.040618</td>\n",
       "    </tr>\n",
       "    <tr>\n",
       "      <th>std</th>\n",
       "      <td>2.738613</td>\n",
       "      <td>26318.974416</td>\n",
       "      <td>0.109777</td>\n",
       "    </tr>\n",
       "    <tr>\n",
       "      <th>min</th>\n",
       "      <td>2010.000000</td>\n",
       "      <td>249801.180000</td>\n",
       "      <td>-0.154829</td>\n",
       "    </tr>\n",
       "    <tr>\n",
       "      <th>25%</th>\n",
       "      <td>2012.000000</td>\n",
       "      <td>275835.270000</td>\n",
       "      <td>-0.014250</td>\n",
       "    </tr>\n",
       "    <tr>\n",
       "      <th>50%</th>\n",
       "      <td>2014.000000</td>\n",
       "      <td>303507.850000</td>\n",
       "      <td>0.049163</td>\n",
       "    </tr>\n",
       "    <tr>\n",
       "      <th>75%</th>\n",
       "      <td>2016.000000</td>\n",
       "      <td>310321.020000</td>\n",
       "      <td>0.090691</td>\n",
       "    </tr>\n",
       "    <tr>\n",
       "      <th>max</th>\n",
       "      <td>2018.000000</td>\n",
       "      <td>330058.640000</td>\n",
       "      <td>0.224767</td>\n",
       "    </tr>\n",
       "  </tbody>\n",
       "</table>\n",
       "</div>"
      ],
      "text/plain": [
       "              year          value  Growth Range\n",
       "count     9.000000       9.000000      8.000000\n",
       "mean   2014.000000  294724.385556      0.040618\n",
       "std       2.738613   26318.974416      0.109777\n",
       "min    2010.000000  249801.180000     -0.154829\n",
       "25%    2012.000000  275835.270000     -0.014250\n",
       "50%    2014.000000  303507.850000      0.049163\n",
       "75%    2016.000000  310321.020000      0.090691\n",
       "max    2018.000000  330058.640000      0.224767"
      ]
     },
     "execution_count": 32,
     "metadata": {},
     "output_type": "execute_result"
    }
   ],
   "source": [
    "df_year.describe()"
   ]
  },
  {
   "cell_type": "code",
   "execution_count": 34,
   "metadata": {},
   "outputs": [
    {
     "data": {
      "text/plain": [
       "<matplotlib.axes._subplots.AxesSubplot at 0x7f747956c9e8>"
      ]
     },
     "execution_count": 34,
     "metadata": {},
     "output_type": "execute_result"
    },
    {
     "data": {
      "image/png": "[encoded data removed]",
      "text/plain": [
       "<Figure size 432x288 with 1 Axes>"
      ]
     },
     "metadata": {
      "needs_background": "light"
     },
     "output_type": "display_data"
    }
   ],
   "source": [
    "plt.title(\"Growth Rate of India Trade Export\")\n",
    "plt.scatter(x=df_year.year , y=df_year[\"Growth Range\"])\n",
    "sns.lineplot(x=df_year.year , y=df_year[\"Growth Range\"])"
   ]
  },
  {
   "cell_type": "markdown",
   "metadata": {},
   "source": [
    "# Commodity Wise Analysis"
   ]
  },
  {
   "cell_type": "code",
   "execution_count": 38,
   "metadata": {},
   "outputs": [
    {
     "data": {
      "text/plain": [
       "98"
      ]
     },
     "execution_count": 38,
     "metadata": {},
     "output_type": "execute_result"
    }
   ],
   "source": [
    "df.Commodity.nunique()"
   ]
  },
  {
   "cell_type": "code",
   "execution_count": 42,
   "metadata": {
    "collapsed": true,
    "jupyter": {
     "outputs_hidden": true
    }
   },
   "outputs": [
    {
     "data": {
      "text/plain": [
       "NUCLEAR REACTORS, BOILERS, MACHINERY AND MECHANICAL APPLIANCES; PARTS THEREOF.                                                                            1882\n",
       "ELECTRICAL MACHINERY AND EQUIPMENT AND PARTS THEREOF; SOUND RECORDERS AND REPRODUCERS, TELEVISION IMAGE AND SOUND RECORDERS AND REPRODUCERS,AND PARTS.    1878\n",
       "PHARMACEUTICAL PRODUCTS                                                                                                                                   1876\n",
       "OPTICAL, PHOTOGRAPHIC CINEMATOGRAPHIC MEASURING, CHECKING PRECISION, MEDICAL OR SURGICAL INST. AND APPARATUS PARTS AND ACCESSORIES THEREOF;               1849\n",
       "ARTICLES OF APPAREL AND CLOTHING ACCESSORIES, NOT KNITTED OR CROCHETED.                                                                                   1817\n",
       "PLASTIC AND ARTICLES THEREOF.                                                                                                                             1809\n",
       "ARTICLES OF IRON OR STEEL                                                                                                                                 1797\n",
       "OTHER MADE UP TEXTILE ARTICLES; SETS; WORN CLOTHING AND WORN TEXTILE ARTICLES; RAGS                                                                       1791\n",
       "VEHICLES OTHER THAN RAILWAY OR TRAMWAY ROLLING STOCK, AND PARTS AND ACCESSORIES THEREOF.                                                                  1788\n",
       "ARTICLES OF APPAREL AND CLOTHING ACCESSORIES, KNITTED OR CORCHETED.                                                                                       1741\n",
       "PAPER AND PAPERBOARD; ARTICLES OF PAPER PULP, OF PAPER OR OF PAPERBOARD.                                                                                  1739\n",
       "ARTICLES OF LEATHER,SADDLERY AND HARNESS;TRAVEL GOODS, HANDBAGS AND SIMILAR CONT.ARTICLES OF ANIMAL GUT(OTHR THN SILK-WRM)GUT.                            1732\n",
       "RUBBER AND ARTICLES THEREOF.                                                                                                                              1715\n",
       "FURNITURE; BEDDING, MATTRESSES, MATTRESS SUPPORTS, CUSHIONS AND SIMILAR STUFFED FURNISHING; LAMPS AND LIGHTING FITTINGS NOT ELSEWHERE SPECIFIED OR INC    1708\n",
       "PRINTED BOOKDS, NEWSPAPERS, PICTURES AND OTHER PRODUCTS OF THE PRINTING INDUSTRY; MANUSCRIPTS, TYPESCRIPTS AND PLANS.                                     1705\n",
       "ESSENTIAL OILS AND RESINOIDS; PERFUMERY, COSMETIC OR TOILET PREPARATIONS.                                                                                 1686\n",
       "ORGANIC CHEMICALS                                                                                                                                         1665\n",
       "NATURAL OR CULTURED PEARLS,PRECIOUS OR SEMIPRECIOUS STONES,PRE.METALS,CLAD WITH PRE.METAL AND ARTCLS THEREOF;IMIT.JEWLRY;COIN.                            1653\n",
       "MISCELLANEOUS MANUFACTURED ARTICLES.                                                                                                                      1640\n",
       "ARTICLES OF STONE, PLASTER, CEMENT, ASBESTOS, MICA OR SIMILAR MATERIALS.                                                                                  1639\n",
       "MISCELLANEOUS CHEMICAL PRODUCTS.                                                                                                                          1629\n",
       "TOOLS IMPLEMENTS, CUTLERY, SPOONS AND FORKS, OF BASE METAL; PARTS THEREOF OF BASE METAL.                                                                  1625\n",
       "COTTON.                                                                                                                                                   1608\n",
       "SOAP, ORGANIC SURFACE-ACTIVE AGENTS, WASHING PREPARATIONS, LUBRICATING PREPARATIONS, ARTIFICIAL WAXES, PREPARED WAXES, POLISHING OR SCOURING PREP.        1605\n",
       "ALUMINIUM AND ARTICLES THEREOF.                                                                                                                           1605\n",
       "GLASS AND GLASSWARE.                                                                                                                                      1588\n",
       "IRON AND STEEL                                                                                                                                            1582\n",
       "TOYS, GAMES AND SPORTS REQUISITES; PARTS AND ACCESSORIES THEREOF.                                                                                         1572\n",
       "FOOTWEAR, GAITERS AND THE LIKE; PARTS OF SUCH ARTICLES.                                                                                                   1572\n",
       "CERAMIC PRODUCTS.                                                                                                                                         1566\n",
       "                                                                                                                                                          ... \n",
       "MUSICAL INSTRUMENTS; PARTS AND ACCESSORIES OF SUCH ARTICLES.                                                                                               966\n",
       "KNITTED OR CROCHETED FABRICS.                                                                                                                              951\n",
       "LIVE TREES AND OTHER PLANTS; BULBS; ROOTS AND THE LIKE; CUT FLOWERS AND ORNAMENTAL FOLIAGE.                                                                950\n",
       "PREPARED FEATHERS AND DOWN AND ARTICLES MADE OF FEATHERS OR OF DOWN; ARTIFICIAL FLOWERS; ARTICLES OF HUMAN HAIR.                                           947\n",
       "RAW HIDES AND SKINS (OTHER THAN FURSKINS) AND LEATHER                                                                                                      930\n",
       "DAIRY PRODUCE; BIRDS' EGGS; NATURAL HONEY; EDIBLE PROD. OF ANIMAL ORIGIN, NOT ELSEWHERE SPEC. OR INCLUDED.                                                 904\n",
       "VEGETABLE PLAITING MATERIALS; VEGETABLE PRODUCTS NOT ELSEWHERE SPECIFIED OR INCLUDED.                                                                      882\n",
       "PHOTOGRAPHIC OR CINEMATOGRAPHIC GOODS.                                                                                                                     837\n",
       "NICKEL AND ARTICLES THEREOF.                                                                                                                               809\n",
       "AIRCRAFT, SPACECRAFT, AND PARTS THEREOF.                                                                                                                   803\n",
       "RAILWAY OR TRAMWAY LOCOMOTIVES, ROLLING-STOCK AND PARTS THEREOF; RAILWAY OR TRAMWAY TRACK FIXTURES AND FITTINGS AND PARTS THEREOF; MECHANICAL              802\n",
       "UMBRELLAS, SUN UMBRELLAS, WALKING-STICKS, SEAT-STICKS, WHIPS,RIDING-CROPS AND PARTS THEREOF.                                                               797\n",
       "COCOA AND COCOA PREPARATIONS.                                                                                                                              795\n",
       "ZINC AND ARTICLES THEREOF.                                                                                                                                 786\n",
       "FERTILISERS.                                                                                                                                               785\n",
       "WOOL, FINE OR COARSE ANIMAL HAIR, HORSEHAIR YARN AND WOVEN FABRIC.                                                                                         758\n",
       "OTHER BASE METALS; CERMETS; ARTICLES THEREOF.                                                                                                              743\n",
       "PRODUCTS OF ANIMAL ORIGIN, NOT ELSEWHERE SPECIFIED OR INCLUDED.                                                                                            704\n",
       "ORES, SLAG AND ASH.                                                                                                                                        698\n",
       "MEAT AND EDIBLE MEAT OFFAL.                                                                                                                                635\n",
       "PREPARATIONS OF MEAT, OF FISH OR OF CRUSTACEANS, MOLLUSCS OR OTHER AQUATIC INVERTEBRATES                                                                   628\n",
       "LEAD AND ARTICLES THEREOF.                                                                                                                                 592\n",
       "MANUFACTURES OF STRAW, OF ESPARTO OR OF OTHER PLAITING MATERIALS; BASKETWARE AND WICKERWORK.                                                               549\n",
       "ARMS AND AMMUNITION; PARTS AND ACCESSORIES THEREOF.                                                                                                        541\n",
       "TIN AND ARTICLES THEREOF.                                                                                                                                  474\n",
       "SHIPS, BOATS AND FLOATING STRUCTURES.                                                                                                                      458\n",
       "FURSKINS AND ARTIFICIAL FUR, MANUFACTURES THEREOF.                                                                                                         448\n",
       "CORK AND ARTICLES OF CORK.                                                                                                                                 440\n",
       "LIVE ANIMALS.                                                                                                                                              262\n",
       "PULP OF WOOD OR OF OTHER FIBROUS CELLULOSIC MATERIAL; WASTE AND SCRAP OF PAPER OR PAPERBOARD.                                                              243\n",
       "Name: Commodity, Length: 98, dtype: int64"
      ]
     },
     "execution_count": 42,
     "metadata": {},
     "output_type": "execute_result"
    }
   ],
   "source": [
    "df.Commodity.value_counts()"
   ]
  },
  {
   "cell_type": "code",
   "execution_count": 43,
   "metadata": {},
   "outputs": [],
   "source": [
    "df_comm = df.groupby(\"Commodity\").agg({\"value\":\"sum\"})"
   ]
  },
  {
   "cell_type": "code",
   "execution_count": 47,
   "metadata": {},
   "outputs": [],
   "source": [
    "df_comm.reset_index(inplace=True)"
   ]
  },
  {
   "cell_type": "code",
   "execution_count": 52,
   "metadata": {},
   "outputs": [],
   "source": [
    "df_comm = df_comm[:15]"
   ]
  },
  {
   "cell_type": "code",
   "execution_count": 48,
   "metadata": {},
   "outputs": [
    {
     "data": {
      "text/html": [
       "<div>\n",
       "<style scoped>\n",
       "    .dataframe tbody tr th:only-of-type {\n",
       "        vertical-align: middle;\n",
       "    }\n",
       "\n",
       "    .dataframe tbody tr th {\n",
       "        vertical-align: top;\n",
       "    }\n",
       "\n",
       "    .dataframe thead th {\n",
       "        text-align: right;\n",
       "    }\n",
       "</style>\n",
       "<table border=\"1\" class=\"dataframe\">\n",
       "  <thead>\n",
       "    <tr style=\"text-align: right;\">\n",
       "      <th></th>\n",
       "      <th>Commodity</th>\n",
       "      <th>value</th>\n",
       "    </tr>\n",
       "  </thead>\n",
       "  <tbody>\n",
       "    <tr>\n",
       "      <th>0</th>\n",
       "      <td>AIRCRAFT, SPACECRAFT, AND PARTS THEREOF.</td>\n",
       "      <td>28219.85</td>\n",
       "    </tr>\n",
       "    <tr>\n",
       "      <th>1</th>\n",
       "      <td>ALBUMINOIDAL SUBSTANCES; MODIFIED STARCHES; GL...</td>\n",
       "      <td>2384.15</td>\n",
       "    </tr>\n",
       "    <tr>\n",
       "      <th>2</th>\n",
       "      <td>ALUMINIUM AND ARTICLES THEREOF.</td>\n",
       "      <td>25407.12</td>\n",
       "    </tr>\n",
       "    <tr>\n",
       "      <th>3</th>\n",
       "      <td>ANIMAL OR VEGETABLE FATS AND OILS AND THEIR CL...</td>\n",
       "      <td>8774.07</td>\n",
       "    </tr>\n",
       "    <tr>\n",
       "      <th>4</th>\n",
       "      <td>ARMS AND AMMUNITION; PARTS AND ACCESSORIES THE...</td>\n",
       "      <td>656.08</td>\n",
       "    </tr>\n",
       "  </tbody>\n",
       "</table>\n",
       "</div>"
      ],
      "text/plain": [
       "                                           Commodity     value\n",
       "0           AIRCRAFT, SPACECRAFT, AND PARTS THEREOF.  28219.85\n",
       "1  ALBUMINOIDAL SUBSTANCES; MODIFIED STARCHES; GL...   2384.15\n",
       "2                    ALUMINIUM AND ARTICLES THEREOF.  25407.12\n",
       "3  ANIMAL OR VEGETABLE FATS AND OILS AND THEIR CL...   8774.07\n",
       "4  ARMS AND AMMUNITION; PARTS AND ACCESSORIES THE...    656.08"
      ]
     },
     "execution_count": 48,
     "metadata": {},
     "output_type": "execute_result"
    }
   ],
   "source": [
    "df_comm.head()"
   ]
  },
  {
   "cell_type": "code",
   "execution_count": 55,
   "metadata": {},
   "outputs": [
    {
     "data": {
      "text/plain": [
       "<matplotlib.axes._subplots.AxesSubplot at 0x7f7478e65e80>"
      ]
     },
     "execution_count": 55,
     "metadata": {},
     "output_type": "execute_result"
    },
    {
     "data": {
      "image/png": "[encoded data removed]",
      "text/plain": [
       "<Figure size 432x288 with 1 Axes>"
      ]
     },
     "metadata": {
      "needs_background": "light"
     },
     "output_type": "display_data"
    }
   ],
   "source": [
    "plt.title(\"Trade of India  Top 15 Exported Commodity in year range (2010-2018)\")\n",
    "sns.barplot(y=df_comm[\"Commodity\"] , x=df_comm[\"value\"] , orient=\"h\")"
   ]
  },
  {
   "cell_type": "code",
   "execution_count": 57,
   "metadata": {},
   "outputs": [],
   "source": [
    "df_comm =pd.pivot_table(df , values=\"value\" , index=\"Commodity\" , columns=\"year\")"
   ]
  },
  {
   "cell_type": "code",
   "execution_count": 69,
   "metadata": {},
   "outputs": [
    {
     "data": {
      "text/html": [
       "<div>\n",
       "<style scoped>\n",
       "    .dataframe tbody tr th:only-of-type {\n",
       "        vertical-align: middle;\n",
       "    }\n",
       "\n",
       "    .dataframe tbody tr th {\n",
       "        vertical-align: top;\n",
       "    }\n",
       "\n",
       "    .dataframe thead th {\n",
       "        text-align: right;\n",
       "    }\n",
       "</style>\n",
       "<table border=\"1\" class=\"dataframe\">\n",
       "  <thead>\n",
       "    <tr style=\"text-align: right;\">\n",
       "      <th>year</th>\n",
       "      <th>2010</th>\n",
       "      <th>2011</th>\n",
       "      <th>2012</th>\n",
       "      <th>2013</th>\n",
       "      <th>2014</th>\n",
       "      <th>2015</th>\n",
       "      <th>2016</th>\n",
       "      <th>2017</th>\n",
       "      <th>2018</th>\n",
       "    </tr>\n",
       "    <tr>\n",
       "      <th>Commodity</th>\n",
       "      <th></th>\n",
       "      <th></th>\n",
       "      <th></th>\n",
       "      <th></th>\n",
       "      <th></th>\n",
       "      <th></th>\n",
       "      <th></th>\n",
       "      <th></th>\n",
       "      <th></th>\n",
       "    </tr>\n",
       "  </thead>\n",
       "  <tbody>\n",
       "    <tr>\n",
       "      <th>EXPLOSIVES; PYROTECHNIC PRODUCTS; MATCHES; PYROPHORIC ALLOYS; CERTAIN COMBUSTIBLE PREPARATIONS.</th>\n",
       "      <td>0.752871</td>\n",
       "      <td>0.772828</td>\n",
       "      <td>0.854476</td>\n",
       "      <td>0.768843</td>\n",
       "      <td>0.717712</td>\n",
       "      <td>0.765981</td>\n",
       "      <td>0.877414</td>\n",
       "      <td>0.939492</td>\n",
       "      <td>0.988852</td>\n",
       "    </tr>\n",
       "    <tr>\n",
       "      <th>FISH AND CRUSTACEANS, MOLLUSCS AND OTHER AQUATIC INVERTABRATES.</th>\n",
       "      <td>20.359123</td>\n",
       "      <td>28.826930</td>\n",
       "      <td>27.459917</td>\n",
       "      <td>40.191083</td>\n",
       "      <td>43.745417</td>\n",
       "      <td>40.055625</td>\n",
       "      <td>47.422155</td>\n",
       "      <td>56.154016</td>\n",
       "      <td>49.266299</td>\n",
       "    </tr>\n",
       "    <tr>\n",
       "      <th>CARPETS AND OTHER TEXTILE FLOOR COVERINGS.</th>\n",
       "      <td>8.906051</td>\n",
       "      <td>7.920128</td>\n",
       "      <td>8.736319</td>\n",
       "      <td>9.569455</td>\n",
       "      <td>10.960060</td>\n",
       "      <td>9.865886</td>\n",
       "      <td>10.557917</td>\n",
       "      <td>9.947907</td>\n",
       "      <td>10.206647</td>\n",
       "    </tr>\n",
       "    <tr>\n",
       "      <th>PLASTIC AND ARTICLES THEREOF.</th>\n",
       "      <td>20.447487</td>\n",
       "      <td>26.909036</td>\n",
       "      <td>26.008081</td>\n",
       "      <td>27.612255</td>\n",
       "      <td>25.532111</td>\n",
       "      <td>26.242850</td>\n",
       "      <td>26.076798</td>\n",
       "      <td>31.273103</td>\n",
       "      <td>38.163333</td>\n",
       "    </tr>\n",
       "  </tbody>\n",
       "</table>\n",
       "</div>"
      ],
      "text/plain": [
       "year                                                     2010       2011  \\\n",
       "Commodity                                                                  \n",
       "EXPLOSIVES; PYROTECHNIC PRODUCTS; MATCHES; PYRO...   0.752871   0.772828   \n",
       "FISH AND CRUSTACEANS, MOLLUSCS AND OTHER AQUATI...  20.359123  28.826930   \n",
       "CARPETS AND OTHER TEXTILE FLOOR COVERINGS.           8.906051   7.920128   \n",
       "PLASTIC AND ARTICLES THEREOF.                       20.447487  26.909036   \n",
       "\n",
       "year                                                     2012       2013  \\\n",
       "Commodity                                                                  \n",
       "EXPLOSIVES; PYROTECHNIC PRODUCTS; MATCHES; PYRO...   0.854476   0.768843   \n",
       "FISH AND CRUSTACEANS, MOLLUSCS AND OTHER AQUATI...  27.459917  40.191083   \n",
       "CARPETS AND OTHER TEXTILE FLOOR COVERINGS.           8.736319   9.569455   \n",
       "PLASTIC AND ARTICLES THEREOF.                       26.008081  27.612255   \n",
       "\n",
       "year                                                     2014       2015  \\\n",
       "Commodity                                                                  \n",
       "EXPLOSIVES; PYROTECHNIC PRODUCTS; MATCHES; PYRO...   0.717712   0.765981   \n",
       "FISH AND CRUSTACEANS, MOLLUSCS AND OTHER AQUATI...  43.745417  40.055625   \n",
       "CARPETS AND OTHER TEXTILE FLOOR COVERINGS.          10.960060   9.865886   \n",
       "PLASTIC AND ARTICLES THEREOF.                       25.532111  26.242850   \n",
       "\n",
       "year                                                     2016       2017  \\\n",
       "Commodity                                                                  \n",
       "EXPLOSIVES; PYROTECHNIC PRODUCTS; MATCHES; PYRO...   0.877414   0.939492   \n",
       "FISH AND CRUSTACEANS, MOLLUSCS AND OTHER AQUATI...  47.422155  56.154016   \n",
       "CARPETS AND OTHER TEXTILE FLOOR COVERINGS.          10.557917   9.947907   \n",
       "PLASTIC AND ARTICLES THEREOF.                       26.076798  31.273103   \n",
       "\n",
       "year                                                     2018  \n",
       "Commodity                                                      \n",
       "EXPLOSIVES; PYROTECHNIC PRODUCTS; MATCHES; PYRO...   0.988852  \n",
       "FISH AND CRUSTACEANS, MOLLUSCS AND OTHER AQUATI...  49.266299  \n",
       "CARPETS AND OTHER TEXTILE FLOOR COVERINGS.          10.206647  \n",
       "PLASTIC AND ARTICLES THEREOF.                       38.163333  "
      ]
     },
     "execution_count": 69,
     "metadata": {},
     "output_type": "execute_result"
    }
   ],
   "source": [
    "df_comm.sample(n=4)"
   ]
  },
  {
   "cell_type": "code",
   "execution_count": 66,
   "metadata": {},
   "outputs": [
    {
     "data": {
      "text/plain": [
       "<matplotlib.axes._subplots.AxesSubplot at 0x7f7478fe4518>"
      ]
     },
     "execution_count": 66,
     "metadata": {},
     "output_type": "execute_result"
    },
    {
     "data": {
      "image/png": "[encoded data removed]",
      "text/plain": [
       "<Figure size 432x288 with 1 Axes>"
      ]
     },
     "metadata": {
      "needs_background": "light"
     },
     "output_type": "display_data"
    }
   ],
   "source": [
    "plt.title(\"[Export of AIRCRAFT, SPACECRAFT, AND PARTS THEREOF] Over the years\")\n",
    "sns.lineplot(x=df_comm.loc[\"AIRCRAFT, SPACECRAFT, AND PARTS THEREOF.\"].index , y=df_comm.loc[\"AIRCRAFT, SPACECRAFT, AND PARTS THEREOF.\"].values)\n"
   ]
  },
  {
   "cell_type": "code",
   "execution_count": 68,
   "metadata": {},
   "outputs": [
    {
     "data": {
      "text/plain": [
       "<matplotlib.axes._subplots.AxesSubplot at 0x7f746ee40b38>"
      ]
     },
     "execution_count": 68,
     "metadata": {},
     "output_type": "execute_result"
    },
    {
     "data": {
      "image/png": "[encoded data removed]",
      "text/plain": [
       "<Figure size 432x288 with 1 Axes>"
      ]
     },
     "metadata": {
      "needs_background": "light"
     },
     "output_type": "display_data"
    }
   ],
   "source": [
    "val = \"ARMS AND AMMUNITION; PARTS AND ACCESSORIES THEREOF.\"\n",
    "plt.title(f\"Export of [{val}] Over the years\")\n",
    "sns.lineplot(x=df_comm.loc[val].index , y=df_comm.loc[val].values)\n"
   ]
  },
  {
   "cell_type": "code",
   "execution_count": 71,
   "metadata": {},
   "outputs": [
    {
     "data": {
      "text/plain": [
       "<matplotlib.axes._subplots.AxesSubplot at 0x7f746ede1208>"
      ]
     },
     "execution_count": 71,
     "metadata": {},
     "output_type": "execute_result"
    },
    {
     "data": {
      "image/png": "[encoded data removed]",
      "text/plain": [
       "<Figure size 432x288 with 1 Axes>"
      ]
     },
     "metadata": {
      "needs_background": "light"
     },
     "output_type": "display_data"
    }
   ],
   "source": [
    "val =\"FISH AND CRUSTACEANS, MOLLUSCS AND OTHER AQUATIC INVERTABRATES.\"\n",
    "plt.title(f\"Export of [{val}] Over the years\")\n",
    "sns.lineplot(x=df_comm.loc[val].index , y=df_comm.loc[val].values , color=\"green\")\n"
   ]
  },
  {
   "cell_type": "code",
   "execution_count": null,
   "metadata": {},
   "outputs": [],
   "source": []
  },
  {
   "cell_type": "code",
   "execution_count": null,
   "metadata": {},
   "outputs": [],
   "source": []
  },
  {
   "cell_type": "code",
   "execution_count": null,
   "metadata": {},
   "outputs": [],
   "source": []
  },
  {
   "cell_type": "code",
   "execution_count": 78,
   "metadata": {},
   "outputs": [
    {
     "data": {
      "text/plain": [
       "<matplotlib.axes._subplots.AxesSubplot at 0x7f746eb3d860>"
      ]
     },
     "execution_count": 78,
     "metadata": {},
     "output_type": "execute_result"
    },
    {
     "data": {
      "image/png": "[encoded data removed]",
      "text/plain": [
       "<Figure size 432x288 with 1 Axes>"
      ]
     },
     "metadata": {
      "needs_background": "light"
     },
     "output_type": "display_data"
    }
   ],
   "source": [
    "val = \"AIRCRAFT, SPACECRAFT, AND PARTS THEREOF.\"\n",
    "plt.title(f\"Export of [{val}] Over the years\")\n",
    "sns.lineplot(x=df_comm.loc[val].index , y=df_comm.loc[val].values)"
   ]
  },
  {
   "cell_type": "markdown",
   "metadata": {},
   "source": [
    "# Country wise analysis"
   ]
  },
  {
   "cell_type": "code",
   "execution_count": 100,
   "metadata": {},
   "outputs": [],
   "source": [
    "df_cntry = df.groupby(\"country\").agg({\"value\":\"sum\"})"
   ]
  },
  {
   "cell_type": "code",
   "execution_count": 107,
   "metadata": {},
   "outputs": [],
   "source": [
    "df_cntry.sort_values(by=\"value\" , ascending=False , inplace=True)"
   ]
  },
  {
   "cell_type": "code",
   "execution_count": 108,
   "metadata": {},
   "outputs": [],
   "source": [
    "df_cntry.reset_index(inplace=True)"
   ]
  },
  {
   "cell_type": "code",
   "execution_count": 110,
   "metadata": {},
   "outputs": [
    {
     "data": {
      "text/plain": [
       "<matplotlib.axes._subplots.AxesSubplot at 0x7f746e047550>"
      ]
     },
     "execution_count": 110,
     "metadata": {},
     "output_type": "execute_result"
    },
    {
     "data": {
      "image/png": "[encoded data removed]",
      "text/plain": [
       "<Figure size 432x288 with 1 Axes>"
      ]
     },
     "metadata": {
      "needs_background": "light"
     },
     "output_type": "display_data"
    }
   ],
   "source": [
    "\n",
    "sns.barplot(x=\"value\" , y=\"country\" , data=df_cntry[:20])"
   ]
  },
  {
   "cell_type": "code",
   "execution_count": 111,
   "metadata": {},
   "outputs": [],
   "source": [
    "df_cntry = pd.pivot_table(df , values=\"value\" , index=\"country\" , columns=\"year\")"
   ]
  },
  {
   "cell_type": "code",
   "execution_count": 113,
   "metadata": {},
   "outputs": [
    {
     "data": {
      "text/html": [
       "<div>\n",
       "<style scoped>\n",
       "    .dataframe tbody tr th:only-of-type {\n",
       "        vertical-align: middle;\n",
       "    }\n",
       "\n",
       "    .dataframe tbody tr th {\n",
       "        vertical-align: top;\n",
       "    }\n",
       "\n",
       "    .dataframe thead th {\n",
       "        text-align: right;\n",
       "    }\n",
       "</style>\n",
       "<table border=\"1\" class=\"dataframe\">\n",
       "  <thead>\n",
       "    <tr style=\"text-align: right;\">\n",
       "      <th>year</th>\n",
       "      <th>2010</th>\n",
       "      <th>2011</th>\n",
       "      <th>2012</th>\n",
       "      <th>2013</th>\n",
       "      <th>2014</th>\n",
       "      <th>2015</th>\n",
       "      <th>2016</th>\n",
       "      <th>2017</th>\n",
       "      <th>2018</th>\n",
       "    </tr>\n",
       "    <tr>\n",
       "      <th>country</th>\n",
       "      <th></th>\n",
       "      <th></th>\n",
       "      <th></th>\n",
       "      <th></th>\n",
       "      <th></th>\n",
       "      <th></th>\n",
       "      <th></th>\n",
       "      <th></th>\n",
       "      <th></th>\n",
       "    </tr>\n",
       "  </thead>\n",
       "  <tbody>\n",
       "    <tr>\n",
       "      <th>U ARAB EMTS</th>\n",
       "      <td>345.123265</td>\n",
       "      <td>366.583980</td>\n",
       "      <td>370.574388</td>\n",
       "      <td>311.429388</td>\n",
       "      <td>337.017653</td>\n",
       "      <td>309.348571</td>\n",
       "      <td>318.113878</td>\n",
       "      <td>287.201735</td>\n",
       "      <td>307.412041</td>\n",
       "    </tr>\n",
       "    <tr>\n",
       "      <th>U K</th>\n",
       "      <td>75.099588</td>\n",
       "      <td>87.649388</td>\n",
       "      <td>87.879796</td>\n",
       "      <td>100.812165</td>\n",
       "      <td>96.077113</td>\n",
       "      <td>92.929053</td>\n",
       "      <td>87.038367</td>\n",
       "      <td>100.946042</td>\n",
       "      <td>96.968646</td>\n",
       "    </tr>\n",
       "    <tr>\n",
       "      <th>FAROE IS.</th>\n",
       "      <td>0.185000</td>\n",
       "      <td>0.170000</td>\n",
       "      <td>0.483333</td>\n",
       "      <td>0.614000</td>\n",
       "      <td>0.526000</td>\n",
       "      <td>0.437500</td>\n",
       "      <td>0.082857</td>\n",
       "      <td>0.042857</td>\n",
       "      <td>0.592000</td>\n",
       "    </tr>\n",
       "    <tr>\n",
       "      <th>MAURITIUS</th>\n",
       "      <td>9.382637</td>\n",
       "      <td>15.388462</td>\n",
       "      <td>14.562889</td>\n",
       "      <td>11.236854</td>\n",
       "      <td>21.453708</td>\n",
       "      <td>9.506889</td>\n",
       "      <td>9.683736</td>\n",
       "      <td>11.706413</td>\n",
       "      <td>12.615000</td>\n",
       "    </tr>\n",
       "    <tr>\n",
       "      <th>BRUNEI</th>\n",
       "      <td>0.359531</td>\n",
       "      <td>12.978116</td>\n",
       "      <td>0.563099</td>\n",
       "      <td>0.469855</td>\n",
       "      <td>0.598571</td>\n",
       "      <td>0.423731</td>\n",
       "      <td>0.563553</td>\n",
       "      <td>0.853108</td>\n",
       "      <td>0.769041</td>\n",
       "    </tr>\n",
       "    <tr>\n",
       "      <th>MOROCCO</th>\n",
       "      <td>4.031646</td>\n",
       "      <td>4.482169</td>\n",
       "      <td>5.201829</td>\n",
       "      <td>4.701951</td>\n",
       "      <td>3.978415</td>\n",
       "      <td>4.121807</td>\n",
       "      <td>4.346977</td>\n",
       "      <td>4.968161</td>\n",
       "      <td>7.815632</td>\n",
       "    </tr>\n",
       "  </tbody>\n",
       "</table>\n",
       "</div>"
      ],
      "text/plain": [
       "year               2010        2011        2012        2013        2014  \\\n",
       "country                                                                   \n",
       "U ARAB EMTS  345.123265  366.583980  370.574388  311.429388  337.017653   \n",
       "U K           75.099588   87.649388   87.879796  100.812165   96.077113   \n",
       "FAROE IS.      0.185000    0.170000    0.483333    0.614000    0.526000   \n",
       "MAURITIUS      9.382637   15.388462   14.562889   11.236854   21.453708   \n",
       "BRUNEI         0.359531   12.978116    0.563099    0.469855    0.598571   \n",
       "MOROCCO        4.031646    4.482169    5.201829    4.701951    3.978415   \n",
       "\n",
       "year               2015        2016        2017        2018  \n",
       "country                                                      \n",
       "U ARAB EMTS  309.348571  318.113878  287.201735  307.412041  \n",
       "U K           92.929053   87.038367  100.946042   96.968646  \n",
       "FAROE IS.      0.437500    0.082857    0.042857    0.592000  \n",
       "MAURITIUS      9.506889    9.683736   11.706413   12.615000  \n",
       "BRUNEI         0.423731    0.563553    0.853108    0.769041  \n",
       "MOROCCO        4.121807    4.346977    4.968161    7.815632  "
      ]
     },
     "execution_count": 113,
     "metadata": {},
     "output_type": "execute_result"
    }
   ],
   "source": [
    "df_cntry.sample(n=6)"
   ]
  },
  {
   "cell_type": "code",
   "execution_count": null,
   "metadata": {},
   "outputs": [],
   "source": []
  },
  {
   "cell_type": "code",
   "execution_count": null,
   "metadata": {},
   "outputs": [],
   "source": []
  }
 ],
 "metadata": {
  "kernelspec": {
   "display_name": "Python 3",
   "language": "python",
   "name": "python3"
  },
  "language_info": {
   "codemirror_mode": {
    "name": "ipython",
    "version": 3
   },
   "file_extension": ".py",
   "mimetype": "text/x-python",
   "name": "python",
   "nbconvert_exporter": "python",
   "pygments_lexer": "ipython3",
   "version": "3.7.3"
  }
 },
 "nbformat": 4,
 "nbformat_minor": 4
}
